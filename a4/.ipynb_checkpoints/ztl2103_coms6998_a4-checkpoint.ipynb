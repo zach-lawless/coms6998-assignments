{
 "cells": [],
 "metadata": {
  "environment": {
   "name": "pytorch-gpu.1-4.m58",
   "type": "gcloud",
   "uri": "gcr.io/deeplearning-platform-release/pytorch-gpu.1-4:m58"
  }
 },
 "nbformat": 4,
 "nbformat_minor": 4
}
