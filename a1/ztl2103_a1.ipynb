{
 "cells": [
  {
   "cell_type": "markdown",
   "metadata": {},
   "source": [
    "# COMS 6998 - Practical Deep Learning System Performance\n",
    "\n",
    "## Assignment 1\n",
    "* **Name**: Zach Lawless\n",
    "* **UNI**: ztl2103\n",
    "\n",
    "### Problem 1: Linear Separability (10 points)\n",
    "\n",
    "#### Q1 (2 points)"
   ]
  },
  {
   "cell_type": "code",
   "execution_count": 1,
   "metadata": {},
   "outputs": [],
   "source": [
    "# import packages needed to answer this question\n",
    "import matplotlib.pyplot as plt\n",
    "import numpy as np\n",
    "import pandas as pd\n",
    "import seaborn as sns\n",
    "sns.set_theme(style=\"darkgrid\")"
   ]
  },
  {
   "cell_type": "markdown",
   "metadata": {},
   "source": [
    "Given the dataset provided in the question, a dataframe for visualation purposes can be created."
   ]
  },
  {
   "cell_type": "code",
   "execution_count": 2,
   "metadata": {},
   "outputs": [],
   "source": [
    "x1 = np.array([(-1, -1),\n",
    "               (1, 1),\n",
    "               (-3, -3),\n",
    "               (4, 4)])\n",
    "y1 = np.array(['class_1'] * 4)\n",
    "\n",
    "x2 = np.array([(-1, 1),\n",
    "               (1, -1),\n",
    "               (-5, 2),\n",
    "               (4, -8)])\n",
    "y2 = np.array(['class_2'] * 4)"
   ]
  },
  {
   "cell_type": "code",
   "execution_count": 3,
   "metadata": {},
   "outputs": [
    {
     "data": {
      "text/html": [
       "<div>\n",
       "<style scoped>\n",
       "    .dataframe tbody tr th:only-of-type {\n",
       "        vertical-align: middle;\n",
       "    }\n",
       "\n",
       "    .dataframe tbody tr th {\n",
       "        vertical-align: top;\n",
       "    }\n",
       "\n",
       "    .dataframe thead th {\n",
       "        text-align: right;\n",
       "    }\n",
       "</style>\n",
       "<table border=\"1\" class=\"dataframe\">\n",
       "  <thead>\n",
       "    <tr style=\"text-align: right;\">\n",
       "      <th></th>\n",
       "      <th>x_1</th>\n",
       "      <th>x_2</th>\n",
       "      <th>y</th>\n",
       "    </tr>\n",
       "  </thead>\n",
       "  <tbody>\n",
       "    <tr>\n",
       "      <th>0</th>\n",
       "      <td>-1</td>\n",
       "      <td>-1</td>\n",
       "      <td>class_1</td>\n",
       "    </tr>\n",
       "    <tr>\n",
       "      <th>1</th>\n",
       "      <td>1</td>\n",
       "      <td>1</td>\n",
       "      <td>class_1</td>\n",
       "    </tr>\n",
       "    <tr>\n",
       "      <th>2</th>\n",
       "      <td>-3</td>\n",
       "      <td>-3</td>\n",
       "      <td>class_1</td>\n",
       "    </tr>\n",
       "    <tr>\n",
       "      <th>3</th>\n",
       "      <td>4</td>\n",
       "      <td>4</td>\n",
       "      <td>class_1</td>\n",
       "    </tr>\n",
       "    <tr>\n",
       "      <th>4</th>\n",
       "      <td>-1</td>\n",
       "      <td>1</td>\n",
       "      <td>class_2</td>\n",
       "    </tr>\n",
       "    <tr>\n",
       "      <th>5</th>\n",
       "      <td>1</td>\n",
       "      <td>-1</td>\n",
       "      <td>class_2</td>\n",
       "    </tr>\n",
       "    <tr>\n",
       "      <th>6</th>\n",
       "      <td>-5</td>\n",
       "      <td>2</td>\n",
       "      <td>class_2</td>\n",
       "    </tr>\n",
       "    <tr>\n",
       "      <th>7</th>\n",
       "      <td>4</td>\n",
       "      <td>-8</td>\n",
       "      <td>class_2</td>\n",
       "    </tr>\n",
       "  </tbody>\n",
       "</table>\n",
       "</div>"
      ],
      "text/plain": [
       "   x_1  x_2        y\n",
       "0   -1   -1  class_1\n",
       "1    1    1  class_1\n",
       "2   -3   -3  class_1\n",
       "3    4    4  class_1\n",
       "4   -1    1  class_2\n",
       "5    1   -1  class_2\n",
       "6   -5    2  class_2\n",
       "7    4   -8  class_2"
      ]
     },
     "execution_count": 3,
     "metadata": {},
     "output_type": "execute_result"
    }
   ],
   "source": [
    "df = pd.DataFrame(data=np.vstack((x1, x2)), columns=['x_1', 'x_2'])\n",
    "df['y'] = np.hstack((y1, y2))\n",
    "df"
   ]
  },
  {
   "cell_type": "markdown",
   "metadata": {},
   "source": [
    "A plot of the points colored by the class can be generated now using `seaborn`."
   ]
  },
  {
   "cell_type": "code",
   "execution_count": 4,
   "metadata": {},
   "outputs": [
    {
     "data": {
      "text/plain": [
       "<matplotlib.legend.Legend at 0x7f951b0fab20>"
      ]
     },
     "execution_count": 4,
     "metadata": {},
     "output_type": "execute_result"
    },
    {
     "data": {
      "image/png": "[encoded data removed]",
      "text/plain": [
       "<Figure size 648x432 with 1 Axes>"
      ]
     },
     "metadata": {},
     "output_type": "display_data"
    }
   ],
   "source": [
    "fig, axs = plt.subplots(figsize=(9, 6))\n",
    "sns.scatterplot(data=df, x='x_1', y='x_2', hue='y')\n",
    "plt.legend(fontsize=14)"
   ]
  },
  {
   "cell_type": "markdown",
   "metadata": {},
   "source": [
    "As visible above, this dataset is not linearly seperable. A linear classifier can be trained, but perfect accuracy cannot be achieved without transforming the original data with some kernel transformation that makes the data entirely linearly separable.\n",
    "\n",
    "#### Q2 (4 points)\n",
    "\n",
    "You can define $z=x_1 * x_2$ which would make class 1 and class 2 linearly separable. The below visualization demonstrates that. "
   ]
  },
  {
   "cell_type": "code",
   "execution_count": 5,
   "metadata": {},
   "outputs": [
    {
     "data": {
      "text/html": [
       "<div>\n",
       "<style scoped>\n",
       "    .dataframe tbody tr th:only-of-type {\n",
       "        vertical-align: middle;\n",
       "    }\n",
       "\n",
       "    .dataframe tbody tr th {\n",
       "        vertical-align: top;\n",
       "    }\n",
       "\n",
       "    .dataframe thead th {\n",
       "        text-align: right;\n",
       "    }\n",
       "</style>\n",
       "<table border=\"1\" class=\"dataframe\">\n",
       "  <thead>\n",
       "    <tr style=\"text-align: right;\">\n",
       "      <th></th>\n",
       "      <th>x_1</th>\n",
       "      <th>x_2</th>\n",
       "      <th>y</th>\n",
       "      <th>z</th>\n",
       "      <th>zero</th>\n",
       "    </tr>\n",
       "  </thead>\n",
       "  <tbody>\n",
       "    <tr>\n",
       "      <th>0</th>\n",
       "      <td>-1</td>\n",
       "      <td>-1</td>\n",
       "      <td>class_1</td>\n",
       "      <td>1</td>\n",
       "      <td>0</td>\n",
       "    </tr>\n",
       "    <tr>\n",
       "      <th>1</th>\n",
       "      <td>1</td>\n",
       "      <td>1</td>\n",
       "      <td>class_1</td>\n",
       "      <td>1</td>\n",
       "      <td>0</td>\n",
       "    </tr>\n",
       "    <tr>\n",
       "      <th>2</th>\n",
       "      <td>-3</td>\n",
       "      <td>-3</td>\n",
       "      <td>class_1</td>\n",
       "      <td>9</td>\n",
       "      <td>0</td>\n",
       "    </tr>\n",
       "    <tr>\n",
       "      <th>3</th>\n",
       "      <td>4</td>\n",
       "      <td>4</td>\n",
       "      <td>class_1</td>\n",
       "      <td>16</td>\n",
       "      <td>0</td>\n",
       "    </tr>\n",
       "    <tr>\n",
       "      <th>4</th>\n",
       "      <td>-1</td>\n",
       "      <td>1</td>\n",
       "      <td>class_2</td>\n",
       "      <td>-1</td>\n",
       "      <td>0</td>\n",
       "    </tr>\n",
       "    <tr>\n",
       "      <th>5</th>\n",
       "      <td>1</td>\n",
       "      <td>-1</td>\n",
       "      <td>class_2</td>\n",
       "      <td>-1</td>\n",
       "      <td>0</td>\n",
       "    </tr>\n",
       "    <tr>\n",
       "      <th>6</th>\n",
       "      <td>-5</td>\n",
       "      <td>2</td>\n",
       "      <td>class_2</td>\n",
       "      <td>-10</td>\n",
       "      <td>0</td>\n",
       "    </tr>\n",
       "    <tr>\n",
       "      <th>7</th>\n",
       "      <td>4</td>\n",
       "      <td>-8</td>\n",
       "      <td>class_2</td>\n",
       "      <td>-32</td>\n",
       "      <td>0</td>\n",
       "    </tr>\n",
       "  </tbody>\n",
       "</table>\n",
       "</div>"
      ],
      "text/plain": [
       "   x_1  x_2        y   z  zero\n",
       "0   -1   -1  class_1   1     0\n",
       "1    1    1  class_1   1     0\n",
       "2   -3   -3  class_1   9     0\n",
       "3    4    4  class_1  16     0\n",
       "4   -1    1  class_2  -1     0\n",
       "5    1   -1  class_2  -1     0\n",
       "6   -5    2  class_2 -10     0\n",
       "7    4   -8  class_2 -32     0"
      ]
     },
     "execution_count": 5,
     "metadata": {},
     "output_type": "execute_result"
    }
   ],
   "source": [
    "df['z'] = df['x_1'] * df['x_2']\n",
    "\n",
    "# create a dummy feature for visualization purposes\n",
    "df['zero'] = 0\n",
    "\n",
    "df"
   ]
  },
  {
   "cell_type": "code",
   "execution_count": 6,
   "metadata": {},
   "outputs": [
    {
     "data": {
      "text/plain": [
       "<matplotlib.legend.Legend at 0x7f94c8281100>"
      ]
     },
     "execution_count": 6,
     "metadata": {},
     "output_type": "execute_result"
    },
    {
     "data": {
      "image/png": "[encoded data removed]",
      "text/plain": [
       "<Figure size 648x432 with 1 Axes>"
      ]
     },
     "metadata": {},
     "output_type": "display_data"
    }
   ],
   "source": [
    "fig, axs = plt.subplots(figsize=(9, 6))\n",
    "sns.scatterplot(data=df, x='z', y='zero', hue='y')\n",
    "plt.legend(fontsize=14)"
   ]
  },
  {
   "cell_type": "markdown",
   "metadata": {},
   "source": [
    "#### Q3 (2 points)\n",
    "\n",
    "The separating hyperplane is $z=0$, and is demonstrated visually below."
   ]
  },
  {
   "cell_type": "code",
   "execution_count": 7,
   "metadata": {},
   "outputs": [
    {
     "data": {
      "text/plain": [
       "<matplotlib.legend.Legend at 0x7f94d827e3d0>"
      ]
     },
     "execution_count": 7,
     "metadata": {},
     "output_type": "execute_result"
    },
    {
     "data": {
      "image/png": "[encoded data removed]",
      "text/plain": [
       "<Figure size 648x432 with 1 Axes>"
      ]
     },
     "metadata": {},
     "output_type": "display_data"
    }
   ],
   "source": [
    "fig, axs = plt.subplots(figsize=(9, 6))\n",
    "sns.scatterplot(data=df, x='z', y='zero', hue='y')\n",
    "plt.vlines(0, ymin=-0.5, ymax=0.5, colors='r', linestyles='dashed')\n",
    "plt.legend(fontsize=14)"
   ]
  },
  {
   "cell_type": "markdown",
   "metadata": {},
   "source": [
    "#### Q4 (2 points)\n",
    "\n",
    "Non-linear transformations are important in classification problems because they can transform linearly inseparable data into linearly separable in some hyperspace. This leads to improvements in classification accuracy.\n",
    "\n",
    "### Problem 2: Bias Variance Tradeoff, Regularization (40 points)\n",
    "\n",
    "#### Q1 (5 points)\n",
    "\n",
    "Using [the provided blog post](https://dustinstansbury.github.io/theclevermachine/bias-variance-tradeoff) as reference:\n",
    "\n",
    "We can rewrite the formula for $MSE$ by substituting $y(x)=f(x)+\\epsilon$ and $\\hat{y}=g(x)$, as well as use the expectation $\\mathop{\\mathbb{E}}$ in place of the average of the sum $\\frac{1}{t}\\sum^{t}_{i=1}$.\n",
    "\n",
    "$$ MSE = \\mathop{\\mathbb{E}}\\Big[(y-\\hat{y})^2\\Big] $$\n",
    "\n",
    "We can expand the squared error term using polynomial expansion with some properties of expectations such as constant multiplier and the expected value of a squared random variable to get the following form:\n",
    "\n",
    "$$ \\mathop{\\mathbb{E}}\\Big[(y-\\hat{y})^2\\Big] = \\mathop{\\mathbb{E}}\\Big[y^2-2y\\hat{y}+\\hat{y}^2\\Big] $$\n",
    "\n",
    "$$ = \\mathop{\\mathbb{E}}\\Big[y^2\\Big] -2\\mathop{\\mathbb{E}}\\Big[y\\hat{y}\\Big] + \\mathop{\\mathbb{E}}\\Big[\\hat{y}^2\\Big] $$\n",
    "\n",
    "$$ ... $$\n",
    "\n",
    "$$ = \\mathop{\\mathbb{E}}[(\\hat{y}-\\mathop{\\mathbb{E}}[\\hat{y}])^2] + (\\mathop{\\mathbb{E}}[\\hat{y}(x)] - f(x))^2 + \\mathop{\\mathbb{E}}[(y-f(x))^2] $$\n",
    "\n",
    "The first term in the above equation is equal to the variance of the estimator, the second equal to the squared bias of the estimator, and the third equal to the variance of the observation noise. Therefore, we can rewrite as:\n",
    "\n",
    "$$ MSE = {Bias}^2+Variance+Noise $$\n",
    "\n",
    "And the proof is complete.\n",
    "\n",
    "#### Q2 (5 points)\n",
    "\n",
    "Define the necessary functions as follows:"
   ]
  },
  {
   "cell_type": "code",
   "execution_count": 8,
   "metadata": {},
   "outputs": [],
   "source": [
    "# define base function\n",
    "def f(x):\n",
    "    return x + np.sin(1.5 * x)\n",
    "\n",
    "# define epsilon error function\n",
    "def epsilon(n):\n",
    "    return np.random.normal(loc=0, scale=0.3, size=n)\n",
    "\n",
    "# define estimate function\n",
    "def y(x):\n",
    "    return f(x) + epsilon(len(x))"
   ]
  },
  {
   "cell_type": "markdown",
   "metadata": {},
   "source": [
    "Generate the random points and a grid for plotting."
   ]
  },
  {
   "cell_type": "code",
   "execution_count": 9,
   "metadata": {},
   "outputs": [],
   "source": [
    "# generate the random points and order\n",
    "SIZE = 20\n",
    "x = np.random.random_sample(SIZE) * 10  # scales random points [0, 10)\n",
    "x = np.sort(x)  # sort the random points ascending\n",
    "x_grid = np.linspace(start=0, stop=10, num=100)"
   ]
  },
  {
   "cell_type": "markdown",
   "metadata": {},
   "source": [
    "Calculate the estimate and the true value and plot."
   ]
  },
  {
   "cell_type": "code",
   "execution_count": 10,
   "metadata": {},
   "outputs": [
    {
     "data": {
      "text/plain": [
       "<matplotlib.legend.Legend at 0x7f94c82c5fd0>"
      ]
     },
     "execution_count": 10,
     "metadata": {},
     "output_type": "execute_result"
    },
    {
     "data": {
      "image/png": "[encoded data removed]",
      "text/plain": [
       "<Figure size 648x432 with 1 Axes>"
      ]
     },
     "metadata": {},
     "output_type": "display_data"
    }
   ],
   "source": [
    "# get the estimate y(x) and the true f(x)\n",
    "y_x = y(x)\n",
    "f_x = f(x_grid)\n",
    "\n",
    "# plot\n",
    "fig, axs = plt.subplots(figsize=(9, 6))\n",
    "sns.scatterplot(x=x, y=y_x, marker='o', color='black')\n",
    "sns.lineplot(x=x_grid, y=f_x, color='black', label='f (x)')\n",
    "plt.legend(fontsize=14)"
   ]
  },
  {
   "cell_type": "markdown",
   "metadata": {},
   "source": [
    "#### Q3 (10 points)"
   ]
  },
  {
   "cell_type": "markdown",
   "metadata": {},
   "source": [
    "Create the base plot, and iterate through the varying polynomial degree fits and plot their function."
   ]
  },
  {
   "cell_type": "code",
   "execution_count": 11,
   "metadata": {},
   "outputs": [
    {
     "data": {
      "text/plain": [
       "<matplotlib.legend.Legend at 0x7f94c82d1400>"
      ]
     },
     "execution_count": 11,
     "metadata": {},
     "output_type": "execute_result"
    },
    {
     "data": {
      "image/png": "[encoded data removed]",
      "text/plain": [
       "<Figure size 648x432 with 1 Axes>"
      ]
     },
     "metadata": {},
     "output_type": "display_data"
    }
   ],
   "source": [
    "# plot\n",
    "fig, axs = plt.subplots(figsize=(9, 6))\n",
    "sns.scatterplot(x=x, y=y_x, marker='o', color='black')\n",
    "sns.lineplot(x=x_grid, y=f_x, color='black')\n",
    "\n",
    "# loop through varying degrees, fit and plot\n",
    "polynomial_degrees = [1, 3, 10]\n",
    "theta = {}\n",
    "fit = {}\n",
    "POLYNOMIAL_FIT_COLORS = ['orange', 'royalblue', 'darkgreen']\n",
    "\n",
    "for ii, degree in enumerate(polynomial_degrees):\n",
    "    theta[degree] = np.polyfit(x, y(x), degree)\n",
    "    fit[degree] = np.polyval(theta[degree], x_grid)\n",
    "    plt.plot(x_grid, fit[degree], POLYNOMIAL_FIT_COLORS[ii], label=\"$g_{d}(x)$\".format(d=degree))\n",
    "plt.legend(fontsize=14)"
   ]
  },
  {
   "cell_type": "markdown",
   "metadata": {},
   "source": [
    "From the plot above, estimators $g_{1}(x)$ is underfitting and $g_{10}(x)$ is overfitting.\n",
    "\n",
    "#### Q4 (10 points)\n",
    "\n",
    "Define variables for experiment"
   ]
  },
  {
   "cell_type": "code",
   "execution_count": 12,
   "metadata": {},
   "outputs": [],
   "source": [
    "n_observations_per_dataset = 50\n",
    "n_datasets = 100\n",
    "max_poly_degree = 15\n",
    "model_poly_degrees = range(1, max_poly_degree + 1)\n",
    "percent_train = .8\n",
    "n_train = int(np.ceil(n_observations_per_dataset * percent_train))"
   ]
  },
  {
   "cell_type": "markdown",
   "metadata": {},
   "source": [
    "Set up logging"
   ]
  },
  {
   "cell_type": "code",
   "execution_count": 13,
   "metadata": {},
   "outputs": [],
   "source": [
    "from collections import defaultdict\n",
    "\n",
    "theta_hat = defaultdict(list)\n",
    "pred_train = defaultdict(list)\n",
    "pred_test = defaultdict(list)\n",
    "train_errors = defaultdict(list)\n",
    "test_errors = defaultdict(list)"
   ]
  },
  {
   "cell_type": "markdown",
   "metadata": {},
   "source": [
    "Loop over each degree, fit, and log"
   ]
  },
  {
   "cell_type": "code",
   "execution_count": 14,
   "metadata": {},
   "outputs": [],
   "source": [
    "def error_function(pred, actual):\n",
    "    return (pred - actual) ** 2\n",
    "\n",
    "# Loop over datasets\n",
    "for dataset in range(n_datasets):\n",
    "    \n",
    "    # create x_train and x_test\n",
    "    x = np.random.random_sample(n_observations_per_dataset) * 10\n",
    "    x_train = x[:n_train]\n",
    "    x_test = x[n_train:]\n",
    "\n",
    "    # Simulate training/testing targets\n",
    "    y_train = y(x_train)\n",
    "    y_test = y(x_test)\n",
    "\n",
    "    # Loop over model complexities\n",
    "    for degree in model_poly_degrees:\n",
    "        # Train model\n",
    "        tmp_theta_hat = np.polyfit(x_train, y_train, degree)\n",
    "\n",
    "        # Make predictions on train set\n",
    "        tmp_pred_train = np.polyval(tmp_theta_hat, x_train)\n",
    "        pred_train[degree].append(tmp_pred_train)\n",
    "\n",
    "        # Test predictions\n",
    "        tmp_pred_test = np.polyval(tmp_theta_hat, x_test)\n",
    "        pred_test[degree].append(tmp_pred_test)\n",
    "\n",
    "        # Mean Squared Error for train and test sets\n",
    "        train_errors[degree].append(np.mean(error_function(tmp_pred_train, y_train)))\n",
    "        test_errors[degree].append(np.mean(error_function(tmp_pred_test, y_test)))"
   ]
  },
  {
   "cell_type": "markdown",
   "metadata": {},
   "source": [
    "Create functions for squared bias and variance"
   ]
  },
  {
   "cell_type": "code",
   "execution_count": 15,
   "metadata": {},
   "outputs": [],
   "source": [
    "def calculate_estimator_bias_squared(pred_test):\n",
    "    pred_test = np.array(pred_test)\n",
    "    average_model_prediction = pred_test.mean(0)  # E[g(x)]\n",
    "\n",
    "    # (E[g(x)] - f(x))^2, averaged across all trials\n",
    "    return np.mean((average_model_prediction - f(x_test)) ** 2)\n",
    "\n",
    "\n",
    "def calculate_estimator_variance(pred_test):\n",
    "    pred_test = np.array(pred_test)\n",
    "    average_model_prediction = pred_test.mean(0)  # E[g(x)]\n",
    "\n",
    "    # (g(x) - E[g(x)])^2, averaged across all trials\n",
    "    return np.mean((pred_test - average_model_prediction) ** 2)"
   ]
  },
  {
   "cell_type": "markdown",
   "metadata": {},
   "source": [
    "Calculate squared bias and variance for each degree"
   ]
  },
  {
   "cell_type": "code",
   "execution_count": 16,
   "metadata": {},
   "outputs": [],
   "source": [
    "complexity_train_error = []\n",
    "complexity_test_error = []\n",
    "bias_squared = []\n",
    "variance = []\n",
    "for degree in model_poly_degrees:\n",
    "    complexity_train_error.append(np.mean(train_errors[degree]))\n",
    "    complexity_test_error.append(np.mean(test_errors[degree]))\n",
    "    bias_squared.append(calculate_estimator_bias_squared(pred_test[degree]))\n",
    "    variance.append(calculate_estimator_variance(pred_test[degree]))"
   ]
  },
  {
   "cell_type": "markdown",
   "metadata": {},
   "source": [
    "Determine which degree model is the best based on the minimum test error"
   ]
  },
  {
   "cell_type": "code",
   "execution_count": 17,
   "metadata": {},
   "outputs": [
    {
     "name": "stdout",
     "output_type": "stream",
     "text": [
      "the best model is degree 8\n"
     ]
    }
   ],
   "source": [
    "best_model_degree = model_poly_degrees[np.argmin(complexity_test_error)]\n",
    "print(f\"the best model is degree {best_model_degree}\")"
   ]
  },
  {
   "cell_type": "markdown",
   "metadata": {},
   "source": [
    "Visualize"
   ]
  },
  {
   "cell_type": "code",
   "execution_count": 18,
   "metadata": {},
   "outputs": [
    {
     "data": {
      "image/png": "[encoded data removed]",
      "text/plain": [
       "<Figure size 1008x720 with 2 Axes>"
      ]
     },
     "metadata": {},
     "output_type": "display_data"
    }
   ],
   "source": [
    "DATA_COLOR = 'black'\n",
    "ERROR_COLOR = 'red'\n",
    "NOISE_STD = 0.3\n",
    "\n",
    "# Visualizations\n",
    "fig, axs = plt.subplots(1, 2, figsize=(14, 10))\n",
    "\n",
    "## Plot Bias^2 + variance\n",
    "plt.sca(axs[0])\n",
    "plt.plot(model_poly_degrees, bias_squared, color='blue', label='$bias^2$')\n",
    "plt.plot(model_poly_degrees, variance, color='green', label='variance')\n",
    "plt.plot(model_poly_degrees, np.array(bias_squared) + np.array(variance),  linestyle='-.', color='gray', label='$bias^2 + variance$')\n",
    "plt.plot(model_poly_degrees, complexity_test_error, label='Testing Set Error', linewidth=3, color=ERROR_COLOR)\n",
    "plt.axvline(best_model_degree, linestyle='--', color='black', label=f'Best Model(degree={best_model_degree})')\n",
    "plt.plot(model_poly_degrees, np.array(complexity_test_error) - (np.array(bias_squared) + np.array(variance)), color='red', label='Testing Error - ($bias^2 + variance$)')\n",
    "plt.axhline(NOISE_STD **2, color='tomato', linestyle='--', label=f'$\\sigma^2$ = {round(NOISE_STD**2, 3)}')\n",
    "\n",
    "plt.xlabel('Model Complexity (Polynomial Degree)')\n",
    "plt.legend()\n",
    "plt.title('Testing Error Relationship to Bias and Variance')\n",
    "plt.yscale('log')\n",
    "\n",
    "## Plot Train / Test Set Error\n",
    "plt.sca(axs[1])\n",
    "plt.plot(model_poly_degrees, complexity_train_error, label='Training Set Error', linewidth=3, color=DATA_COLOR)\n",
    "plt.plot(model_poly_degrees, complexity_test_error, label='Testing Set Error', linewidth=3, color=ERROR_COLOR)\n",
    "plt.axvline(best_model_degree, linestyle='--', color='black', label=f'Best Model(degree={best_model_degree})')\n",
    "plt.xlabel('Model Complexity (Polynomial Degree)')\n",
    "plt.title('Error on Training and Testing Sets')\n",
    "plt.legend(loc='upper center')\n",
    "plt.yscale('log')"
   ]
  },
  {
   "cell_type": "markdown",
   "metadata": {},
   "source": [
    "Based on the plots of squared bias, variance, and error above for each degree of polynomial from 1 to 15, as well as the numerical calculation for the minimum test error, $g_{6}(x)$ is the best model."
   ]
  },
  {
   "cell_type": "markdown",
   "metadata": {},
   "source": [
    "#### Q5 (10 points)\n",
    "\n",
    "Showing the metrics associated with the degree-10 non-regularized model"
   ]
  },
  {
   "cell_type": "code",
   "execution_count": 19,
   "metadata": {},
   "outputs": [
    {
     "name": "stdout",
     "output_type": "stream",
     "text": [
      "\n",
      "--- Degree 10 Non-Regularized Metrics ---\n",
      "\n",
      "Train MSE: 0.06738843588312507\n",
      "Test MSE: 5.376079569628409\n",
      "Bias Squared: 7.490802795216512\n",
      "Variance: 15.242698901380944\n",
      "\n"
     ]
    }
   ],
   "source": [
    "focus_degree = 10\n",
    "\n",
    "print(f\"\"\"\n",
    "--- Degree 10 Non-Regularized Metrics ---\n",
    "\n",
    "Train MSE: {complexity_train_error[focus_degree-1]}\n",
    "Test MSE: {complexity_test_error[focus_degree-1]}\n",
    "Bias Squared: {bias_squared[focus_degree-1]}\n",
    "Variance: {variance[focus_degree-1]}\n",
    "\"\"\")"
   ]
  },
  {
   "cell_type": "markdown",
   "metadata": {},
   "source": [
    "Fitting the 10-degree polynomial with regularization on 100 datasets of size 50, split into train and test"
   ]
  },
  {
   "cell_type": "code",
   "execution_count": 20,
   "metadata": {},
   "outputs": [],
   "source": [
    "def error_function_L2(pred, actual, weights, l=1e2):\n",
    "    se = (pred - actual) ** 2\n",
    "    reg = l * np.sum(weights ** 2)\n",
    "    return se + reg\n",
    "\n",
    "pred_train = []\n",
    "pred_test = []\n",
    "train_errors = []\n",
    "test_errors = []\n",
    "\n",
    "# Loop over datasets\n",
    "for dataset in range(n_datasets):\n",
    "    \n",
    "    # create x_train and x_test\n",
    "    x = np.random.random_sample(n_observations_per_dataset) * 10\n",
    "    x_train = x[:n_train]\n",
    "    x_test = x[n_train:]\n",
    "\n",
    "    # Simulate training/testing targets\n",
    "    y_train = y(x_train)\n",
    "    y_test = y(x_test)\n",
    "\n",
    "    # Train model\n",
    "    tmp_theta_hat = np.polyfit(x_train, y_train, focus_degree)\n",
    "    \n",
    "    # Make predictions on train set\n",
    "    tmp_pred_train = np.polyval(tmp_theta_hat, x_train)\n",
    "    pred_train.append(tmp_pred_train)\n",
    "    \n",
    "    # Test predictions\n",
    "    tmp_pred_test = np.polyval(tmp_theta_hat, x_test)\n",
    "    pred_test.append(tmp_pred_test)\n",
    "    \n",
    "    # Mean Squared Error + L2 regularization for train and test sets\n",
    "    train_errors.append(np.mean(error_function_L2(tmp_pred_train, y_train, tmp_theta_hat)))\n",
    "    test_errors.append(np.mean(error_function_L2(tmp_pred_test, y_test, tmp_theta_hat)))"
   ]
  },
  {
   "cell_type": "code",
   "execution_count": 21,
   "metadata": {},
   "outputs": [],
   "source": [
    "complexity_train_error = np.mean(train_errors)\n",
    "complexity_test_error = np.mean(test_errors)\n",
    "bias_squared = calculate_estimator_bias_squared(pred_test)\n",
    "variance = calculate_estimator_variance(pred_test)"
   ]
  },
  {
   "cell_type": "code",
   "execution_count": 22,
   "metadata": {},
   "outputs": [
    {
     "name": "stdout",
     "output_type": "stream",
     "text": [
      "\n",
      "--- Degree 10 Non-Regularized Metrics ---\n",
      "\n",
      "Train MSE: 299404.0265965669\n",
      "Test MSE: 299406.7604919832\n",
      "Bias Squared: 9.007274940534558\n",
      "Variance: 11.401447748109938\n",
      "\n"
     ]
    }
   ],
   "source": [
    "print(f\"\"\"\n",
    "--- Degree 10 Non-Regularized Metrics ---\n",
    "\n",
    "Train MSE: {complexity_train_error}\n",
    "Test MSE: {complexity_test_error}\n",
    "Bias Squared: {bias_squared}\n",
    "Variance: {variance}\n",
    "\"\"\")"
   ]
  },
  {
   "cell_type": "markdown",
   "metadata": {},
   "source": [
    "The MSE is just about equal now  between training and test due to adding the L2 regularization terms, as opposed to an overfit degree-10 model without regularization. The regularized model has higher bias. The lambda hyperparameter greatly impacts the performance of the L2 model."
   ]
  },
  {
   "cell_type": "markdown",
   "metadata": {},
   "source": [
    "### Problem 3: OpenML, Algorithmic Performance Scaling (25 points)\n",
    "\n",
    "Using the [Mushroom](https://www.openml.org/d/24) (`dataset_id=24`) and [Letter](https://www.openml.org/d/6) (`dataset_id=6`) datasets.\n",
    "\n",
    "Install the OpenML python library for pulling data."
   ]
  },
  {
   "cell_type": "code",
   "execution_count": 23,
   "metadata": {},
   "outputs": [],
   "source": [
    "# Install openml package if not already installed\n",
    "# !pip install openml"
   ]
  },
  {
   "cell_type": "markdown",
   "metadata": {},
   "source": [
    "#### Q1 (5 points)\n",
    "\n",
    "Import the `openml` package and pull the data datasets."
   ]
  },
  {
   "cell_type": "code",
   "execution_count": 24,
   "metadata": {},
   "outputs": [],
   "source": [
    "import openml\n",
    "openml_mushroom = openml.datasets.get_dataset(24)\n",
    "openml_letters = openml.datasets.get_dataset(6)"
   ]
  },
  {
   "cell_type": "markdown",
   "metadata": {},
   "source": [
    "Summarizing the Mushroom dataset."
   ]
  },
  {
   "cell_type": "code",
   "execution_count": 25,
   "metadata": {},
   "outputs": [
    {
     "data": {
      "text/html": [
       "<div>\n",
       "<style scoped>\n",
       "    .dataframe tbody tr th:only-of-type {\n",
       "        vertical-align: middle;\n",
       "    }\n",
       "\n",
       "    .dataframe tbody tr th {\n",
       "        vertical-align: top;\n",
       "    }\n",
       "\n",
       "    .dataframe thead th {\n",
       "        text-align: right;\n",
       "    }\n",
       "</style>\n",
       "<table border=\"1\" class=\"dataframe\">\n",
       "  <thead>\n",
       "    <tr style=\"text-align: right;\">\n",
       "      <th></th>\n",
       "      <th>cap-shape</th>\n",
       "      <th>cap-surface</th>\n",
       "      <th>cap-color</th>\n",
       "      <th>bruises%3F</th>\n",
       "      <th>odor</th>\n",
       "      <th>gill-attachment</th>\n",
       "      <th>gill-spacing</th>\n",
       "      <th>gill-size</th>\n",
       "      <th>gill-color</th>\n",
       "      <th>stalk-shape</th>\n",
       "      <th>...</th>\n",
       "      <th>stalk-color-above-ring</th>\n",
       "      <th>stalk-color-below-ring</th>\n",
       "      <th>veil-type</th>\n",
       "      <th>veil-color</th>\n",
       "      <th>ring-number</th>\n",
       "      <th>ring-type</th>\n",
       "      <th>spore-print-color</th>\n",
       "      <th>population</th>\n",
       "      <th>habitat</th>\n",
       "      <th>class</th>\n",
       "    </tr>\n",
       "  </thead>\n",
       "  <tbody>\n",
       "    <tr>\n",
       "      <th>0</th>\n",
       "      <td>x</td>\n",
       "      <td>s</td>\n",
       "      <td>n</td>\n",
       "      <td>t</td>\n",
       "      <td>p</td>\n",
       "      <td>f</td>\n",
       "      <td>c</td>\n",
       "      <td>n</td>\n",
       "      <td>k</td>\n",
       "      <td>e</td>\n",
       "      <td>...</td>\n",
       "      <td>w</td>\n",
       "      <td>w</td>\n",
       "      <td>p</td>\n",
       "      <td>w</td>\n",
       "      <td>o</td>\n",
       "      <td>p</td>\n",
       "      <td>k</td>\n",
       "      <td>s</td>\n",
       "      <td>u</td>\n",
       "      <td>p</td>\n",
       "    </tr>\n",
       "    <tr>\n",
       "      <th>1</th>\n",
       "      <td>x</td>\n",
       "      <td>s</td>\n",
       "      <td>y</td>\n",
       "      <td>t</td>\n",
       "      <td>a</td>\n",
       "      <td>f</td>\n",
       "      <td>c</td>\n",
       "      <td>b</td>\n",
       "      <td>k</td>\n",
       "      <td>e</td>\n",
       "      <td>...</td>\n",
       "      <td>w</td>\n",
       "      <td>w</td>\n",
       "      <td>p</td>\n",
       "      <td>w</td>\n",
       "      <td>o</td>\n",
       "      <td>p</td>\n",
       "      <td>n</td>\n",
       "      <td>n</td>\n",
       "      <td>g</td>\n",
       "      <td>e</td>\n",
       "    </tr>\n",
       "    <tr>\n",
       "      <th>2</th>\n",
       "      <td>b</td>\n",
       "      <td>s</td>\n",
       "      <td>w</td>\n",
       "      <td>t</td>\n",
       "      <td>l</td>\n",
       "      <td>f</td>\n",
       "      <td>c</td>\n",
       "      <td>b</td>\n",
       "      <td>n</td>\n",
       "      <td>e</td>\n",
       "      <td>...</td>\n",
       "      <td>w</td>\n",
       "      <td>w</td>\n",
       "      <td>p</td>\n",
       "      <td>w</td>\n",
       "      <td>o</td>\n",
       "      <td>p</td>\n",
       "      <td>n</td>\n",
       "      <td>n</td>\n",
       "      <td>m</td>\n",
       "      <td>e</td>\n",
       "    </tr>\n",
       "    <tr>\n",
       "      <th>3</th>\n",
       "      <td>x</td>\n",
       "      <td>y</td>\n",
       "      <td>w</td>\n",
       "      <td>t</td>\n",
       "      <td>p</td>\n",
       "      <td>f</td>\n",
       "      <td>c</td>\n",
       "      <td>n</td>\n",
       "      <td>n</td>\n",
       "      <td>e</td>\n",
       "      <td>...</td>\n",
       "      <td>w</td>\n",
       "      <td>w</td>\n",
       "      <td>p</td>\n",
       "      <td>w</td>\n",
       "      <td>o</td>\n",
       "      <td>p</td>\n",
       "      <td>k</td>\n",
       "      <td>s</td>\n",
       "      <td>u</td>\n",
       "      <td>p</td>\n",
       "    </tr>\n",
       "    <tr>\n",
       "      <th>4</th>\n",
       "      <td>x</td>\n",
       "      <td>s</td>\n",
       "      <td>g</td>\n",
       "      <td>f</td>\n",
       "      <td>n</td>\n",
       "      <td>f</td>\n",
       "      <td>w</td>\n",
       "      <td>b</td>\n",
       "      <td>k</td>\n",
       "      <td>t</td>\n",
       "      <td>...</td>\n",
       "      <td>w</td>\n",
       "      <td>w</td>\n",
       "      <td>p</td>\n",
       "      <td>w</td>\n",
       "      <td>o</td>\n",
       "      <td>e</td>\n",
       "      <td>n</td>\n",
       "      <td>a</td>\n",
       "      <td>g</td>\n",
       "      <td>e</td>\n",
       "    </tr>\n",
       "  </tbody>\n",
       "</table>\n",
       "<p>5 rows × 23 columns</p>\n",
       "</div>"
      ],
      "text/plain": [
       "  cap-shape cap-surface cap-color bruises%3F odor gill-attachment  \\\n",
       "0         x           s         n          t    p               f   \n",
       "1         x           s         y          t    a               f   \n",
       "2         b           s         w          t    l               f   \n",
       "3         x           y         w          t    p               f   \n",
       "4         x           s         g          f    n               f   \n",
       "\n",
       "  gill-spacing gill-size gill-color stalk-shape  ... stalk-color-above-ring  \\\n",
       "0            c         n          k           e  ...                      w   \n",
       "1            c         b          k           e  ...                      w   \n",
       "2            c         b          n           e  ...                      w   \n",
       "3            c         n          n           e  ...                      w   \n",
       "4            w         b          k           t  ...                      w   \n",
       "\n",
       "  stalk-color-below-ring veil-type veil-color ring-number ring-type  \\\n",
       "0                      w         p          w           o         p   \n",
       "1                      w         p          w           o         p   \n",
       "2                      w         p          w           o         p   \n",
       "3                      w         p          w           o         p   \n",
       "4                      w         p          w           o         e   \n",
       "\n",
       "  spore-print-color population habitat class  \n",
       "0                 k          s       u     p  \n",
       "1                 n          n       g     e  \n",
       "2                 n          n       m     e  \n",
       "3                 k          s       u     p  \n",
       "4                 n          a       g     e  \n",
       "\n",
       "[5 rows x 23 columns]"
      ]
     },
     "execution_count": 25,
     "metadata": {},
     "output_type": "execute_result"
    }
   ],
   "source": [
    "# get the mushroom dataframe\n",
    "df_mushroom = openml_mushroom.get_data()[0]\n",
    "df_mushroom.head()"
   ]
  },
  {
   "cell_type": "code",
   "execution_count": 26,
   "metadata": {},
   "outputs": [
    {
     "name": "stdout",
     "output_type": "stream",
     "text": [
      "<class 'pandas.core.frame.DataFrame'>\n",
      "RangeIndex: 8124 entries, 0 to 8123\n",
      "Data columns (total 23 columns):\n",
      " #   Column                    Non-Null Count  Dtype   \n",
      "---  ------                    --------------  -----   \n",
      " 0   cap-shape                 8124 non-null   category\n",
      " 1   cap-surface               8124 non-null   category\n",
      " 2   cap-color                 8124 non-null   category\n",
      " 3   bruises%3F                8124 non-null   category\n",
      " 4   odor                      8124 non-null   category\n",
      " 5   gill-attachment           8124 non-null   category\n",
      " 6   gill-spacing              8124 non-null   category\n",
      " 7   gill-size                 8124 non-null   category\n",
      " 8   gill-color                8124 non-null   category\n",
      " 9   stalk-shape               8124 non-null   category\n",
      " 10  stalk-root                5644 non-null   category\n",
      " 11  stalk-surface-above-ring  8124 non-null   category\n",
      " 12  stalk-surface-below-ring  8124 non-null   category\n",
      " 13  stalk-color-above-ring    8124 non-null   category\n",
      " 14  stalk-color-below-ring    8124 non-null   category\n",
      " 15  veil-type                 8124 non-null   category\n",
      " 16  veil-color                8124 non-null   category\n",
      " 17  ring-number               8124 non-null   category\n",
      " 18  ring-type                 8124 non-null   category\n",
      " 19  spore-print-color         8124 non-null   category\n",
      " 20  population                8124 non-null   category\n",
      " 21  habitat                   8124 non-null   category\n",
      " 22  class                     8124 non-null   category\n",
      "dtypes: category(23)\n",
      "memory usage: 187.9 KB\n"
     ]
    }
   ],
   "source": [
    "# get some summary stats about the dataframe\n",
    "df_mushroom.info()"
   ]
  },
  {
   "cell_type": "code",
   "execution_count": 27,
   "metadata": {},
   "outputs": [
    {
     "data": {
      "text/plain": [
       "e    4208\n",
       "p    3916\n",
       "Name: class, dtype: int64"
      ]
     },
     "execution_count": 27,
     "metadata": {},
     "output_type": "execute_result"
    }
   ],
   "source": [
    "# determine the target distribution\n",
    "df_mushroom['class'].value_counts()"
   ]
  },
  {
   "cell_type": "markdown",
   "metadata": {},
   "source": [
    "Summarizing the Letters dataset."
   ]
  },
  {
   "cell_type": "code",
   "execution_count": 28,
   "metadata": {},
   "outputs": [
    {
     "data": {
      "text/html": [
       "<div>\n",
       "<style scoped>\n",
       "    .dataframe tbody tr th:only-of-type {\n",
       "        vertical-align: middle;\n",
       "    }\n",
       "\n",
       "    .dataframe tbody tr th {\n",
       "        vertical-align: top;\n",
       "    }\n",
       "\n",
       "    .dataframe thead th {\n",
       "        text-align: right;\n",
       "    }\n",
       "</style>\n",
       "<table border=\"1\" class=\"dataframe\">\n",
       "  <thead>\n",
       "    <tr style=\"text-align: right;\">\n",
       "      <th></th>\n",
       "      <th>x-box</th>\n",
       "      <th>y-box</th>\n",
       "      <th>width</th>\n",
       "      <th>high</th>\n",
       "      <th>onpix</th>\n",
       "      <th>x-bar</th>\n",
       "      <th>y-bar</th>\n",
       "      <th>x2bar</th>\n",
       "      <th>y2bar</th>\n",
       "      <th>xybar</th>\n",
       "      <th>x2ybr</th>\n",
       "      <th>xy2br</th>\n",
       "      <th>x-ege</th>\n",
       "      <th>xegvy</th>\n",
       "      <th>y-ege</th>\n",
       "      <th>yegvx</th>\n",
       "      <th>class</th>\n",
       "    </tr>\n",
       "  </thead>\n",
       "  <tbody>\n",
       "    <tr>\n",
       "      <th>0</th>\n",
       "      <td>2</td>\n",
       "      <td>4</td>\n",
       "      <td>4</td>\n",
       "      <td>3</td>\n",
       "      <td>2</td>\n",
       "      <td>7</td>\n",
       "      <td>8</td>\n",
       "      <td>2</td>\n",
       "      <td>9</td>\n",
       "      <td>11</td>\n",
       "      <td>7</td>\n",
       "      <td>7</td>\n",
       "      <td>1</td>\n",
       "      <td>8</td>\n",
       "      <td>5</td>\n",
       "      <td>6</td>\n",
       "      <td>Z</td>\n",
       "    </tr>\n",
       "    <tr>\n",
       "      <th>1</th>\n",
       "      <td>4</td>\n",
       "      <td>7</td>\n",
       "      <td>5</td>\n",
       "      <td>5</td>\n",
       "      <td>5</td>\n",
       "      <td>5</td>\n",
       "      <td>9</td>\n",
       "      <td>6</td>\n",
       "      <td>4</td>\n",
       "      <td>8</td>\n",
       "      <td>7</td>\n",
       "      <td>9</td>\n",
       "      <td>2</td>\n",
       "      <td>9</td>\n",
       "      <td>7</td>\n",
       "      <td>10</td>\n",
       "      <td>P</td>\n",
       "    </tr>\n",
       "    <tr>\n",
       "      <th>2</th>\n",
       "      <td>7</td>\n",
       "      <td>10</td>\n",
       "      <td>8</td>\n",
       "      <td>7</td>\n",
       "      <td>4</td>\n",
       "      <td>8</td>\n",
       "      <td>8</td>\n",
       "      <td>5</td>\n",
       "      <td>10</td>\n",
       "      <td>11</td>\n",
       "      <td>2</td>\n",
       "      <td>8</td>\n",
       "      <td>2</td>\n",
       "      <td>5</td>\n",
       "      <td>5</td>\n",
       "      <td>10</td>\n",
       "      <td>S</td>\n",
       "    </tr>\n",
       "    <tr>\n",
       "      <th>3</th>\n",
       "      <td>4</td>\n",
       "      <td>9</td>\n",
       "      <td>5</td>\n",
       "      <td>7</td>\n",
       "      <td>4</td>\n",
       "      <td>7</td>\n",
       "      <td>7</td>\n",
       "      <td>13</td>\n",
       "      <td>1</td>\n",
       "      <td>7</td>\n",
       "      <td>6</td>\n",
       "      <td>8</td>\n",
       "      <td>3</td>\n",
       "      <td>8</td>\n",
       "      <td>0</td>\n",
       "      <td>8</td>\n",
       "      <td>H</td>\n",
       "    </tr>\n",
       "    <tr>\n",
       "      <th>4</th>\n",
       "      <td>6</td>\n",
       "      <td>7</td>\n",
       "      <td>8</td>\n",
       "      <td>5</td>\n",
       "      <td>4</td>\n",
       "      <td>7</td>\n",
       "      <td>6</td>\n",
       "      <td>3</td>\n",
       "      <td>7</td>\n",
       "      <td>10</td>\n",
       "      <td>7</td>\n",
       "      <td>9</td>\n",
       "      <td>3</td>\n",
       "      <td>8</td>\n",
       "      <td>3</td>\n",
       "      <td>7</td>\n",
       "      <td>H</td>\n",
       "    </tr>\n",
       "  </tbody>\n",
       "</table>\n",
       "</div>"
      ],
      "text/plain": [
       "   x-box  y-box  width  high  onpix  x-bar  y-bar  x2bar  y2bar  xybar  x2ybr  \\\n",
       "0      2      4      4     3      2      7      8      2      9     11      7   \n",
       "1      4      7      5     5      5      5      9      6      4      8      7   \n",
       "2      7     10      8     7      4      8      8      5     10     11      2   \n",
       "3      4      9      5     7      4      7      7     13      1      7      6   \n",
       "4      6      7      8     5      4      7      6      3      7     10      7   \n",
       "\n",
       "   xy2br  x-ege  xegvy  y-ege  yegvx class  \n",
       "0      7      1      8      5      6     Z  \n",
       "1      9      2      9      7     10     P  \n",
       "2      8      2      5      5     10     S  \n",
       "3      8      3      8      0      8     H  \n",
       "4      9      3      8      3      7     H  "
      ]
     },
     "execution_count": 28,
     "metadata": {},
     "output_type": "execute_result"
    }
   ],
   "source": [
    "# get the letters dataframe\n",
    "df_letters = openml_letters.get_data()[0]\n",
    "df_letters.head()"
   ]
  },
  {
   "cell_type": "code",
   "execution_count": 29,
   "metadata": {},
   "outputs": [
    {
     "name": "stdout",
     "output_type": "stream",
     "text": [
      "<class 'pandas.core.frame.DataFrame'>\n",
      "RangeIndex: 20000 entries, 0 to 19999\n",
      "Data columns (total 17 columns):\n",
      " #   Column  Non-Null Count  Dtype   \n",
      "---  ------  --------------  -----   \n",
      " 0   x-box   20000 non-null  int64   \n",
      " 1   y-box   20000 non-null  int64   \n",
      " 2   width   20000 non-null  int64   \n",
      " 3   high    20000 non-null  int64   \n",
      " 4   onpix   20000 non-null  int64   \n",
      " 5   x-bar   20000 non-null  int64   \n",
      " 6   y-bar   20000 non-null  int64   \n",
      " 7   x2bar   20000 non-null  int64   \n",
      " 8   y2bar   20000 non-null  int64   \n",
      " 9   xybar   20000 non-null  int64   \n",
      " 10  x2ybr   20000 non-null  int64   \n",
      " 11  xy2br   20000 non-null  int64   \n",
      " 12  x-ege   20000 non-null  int64   \n",
      " 13  xegvy   20000 non-null  int64   \n",
      " 14  y-ege   20000 non-null  int64   \n",
      " 15  yegvx   20000 non-null  int64   \n",
      " 16  class   20000 non-null  category\n",
      "dtypes: category(1), int64(16)\n",
      "memory usage: 2.5 MB\n"
     ]
    }
   ],
   "source": [
    "# get some summary stats about the dataframe\n",
    "df_letters.info()"
   ]
  },
  {
   "cell_type": "code",
   "execution_count": 30,
   "metadata": {},
   "outputs": [
    {
     "data": {
      "text/plain": [
       "U    813\n",
       "D    805\n",
       "P    803\n",
       "T    796\n",
       "M    792\n",
       "A    789\n",
       "X    787\n",
       "Y    786\n",
       "Q    783\n",
       "N    783\n",
       "F    775\n",
       "G    773\n",
       "E    768\n",
       "B    766\n",
       "V    764\n",
       "L    761\n",
       "R    758\n",
       "I    755\n",
       "O    753\n",
       "W    752\n",
       "S    748\n",
       "J    747\n",
       "K    739\n",
       "C    736\n",
       "H    734\n",
       "Z    734\n",
       "Name: class, dtype: int64"
      ]
     },
     "execution_count": 30,
     "metadata": {},
     "output_type": "execute_result"
    }
   ],
   "source": [
    "# determine the target distribution\n",
    "df_letters['class'].value_counts()"
   ]
  },
  {
   "cell_type": "markdown",
   "metadata": {},
   "source": [
    "In summary, the characterists of each dataset are listed in the table below.\n",
    "\n",
    "|Dataset|n_features|n_instances|n_classes|n_numerical|n_categorical\n",
    "|-------|----------|-----------|---------|-----------|------------|\n",
    "|Mushroom|22|8124|2|0|22|\n",
    "|Letters|16|20000|26|16|0|"
   ]
  },
  {
   "cell_type": "markdown",
   "metadata": {},
   "source": [
    "#### Q2 (15 points)\n",
    "\n",
    "Drop the `stalk-root` from the Mushroom dataframe as it contains mostly null values, and encode all of the categorical features in the Mushroom dataset."
   ]
  },
  {
   "cell_type": "code",
   "execution_count": 31,
   "metadata": {},
   "outputs": [],
   "source": [
    "df_mushroom = df_mushroom.drop(columns=['stalk-root'])"
   ]
  },
  {
   "cell_type": "code",
   "execution_count": 32,
   "metadata": {},
   "outputs": [
    {
     "data": {
      "text/html": [
       "<div>\n",
       "<style scoped>\n",
       "    .dataframe tbody tr th:only-of-type {\n",
       "        vertical-align: middle;\n",
       "    }\n",
       "\n",
       "    .dataframe tbody tr th {\n",
       "        vertical-align: top;\n",
       "    }\n",
       "\n",
       "    .dataframe thead th {\n",
       "        text-align: right;\n",
       "    }\n",
       "</style>\n",
       "<table border=\"1\" class=\"dataframe\">\n",
       "  <thead>\n",
       "    <tr style=\"text-align: right;\">\n",
       "      <th></th>\n",
       "      <th>cap-shape</th>\n",
       "      <th>cap-surface</th>\n",
       "      <th>cap-color</th>\n",
       "      <th>bruises%3F</th>\n",
       "      <th>odor</th>\n",
       "      <th>gill-attachment</th>\n",
       "      <th>gill-spacing</th>\n",
       "      <th>gill-size</th>\n",
       "      <th>gill-color</th>\n",
       "      <th>stalk-shape</th>\n",
       "      <th>...</th>\n",
       "      <th>stalk-color-above-ring</th>\n",
       "      <th>stalk-color-below-ring</th>\n",
       "      <th>veil-type</th>\n",
       "      <th>veil-color</th>\n",
       "      <th>ring-number</th>\n",
       "      <th>ring-type</th>\n",
       "      <th>spore-print-color</th>\n",
       "      <th>population</th>\n",
       "      <th>habitat</th>\n",
       "      <th>class</th>\n",
       "    </tr>\n",
       "  </thead>\n",
       "  <tbody>\n",
       "    <tr>\n",
       "      <th>0</th>\n",
       "      <td>5.0</td>\n",
       "      <td>2.0</td>\n",
       "      <td>4.0</td>\n",
       "      <td>1.0</td>\n",
       "      <td>6.0</td>\n",
       "      <td>1.0</td>\n",
       "      <td>0.0</td>\n",
       "      <td>1.0</td>\n",
       "      <td>4.0</td>\n",
       "      <td>0.0</td>\n",
       "      <td>...</td>\n",
       "      <td>7.0</td>\n",
       "      <td>7.0</td>\n",
       "      <td>0.0</td>\n",
       "      <td>2.0</td>\n",
       "      <td>1.0</td>\n",
       "      <td>4.0</td>\n",
       "      <td>2.0</td>\n",
       "      <td>3.0</td>\n",
       "      <td>5.0</td>\n",
       "      <td>1.0</td>\n",
       "    </tr>\n",
       "    <tr>\n",
       "      <th>1</th>\n",
       "      <td>5.0</td>\n",
       "      <td>2.0</td>\n",
       "      <td>9.0</td>\n",
       "      <td>1.0</td>\n",
       "      <td>0.0</td>\n",
       "      <td>1.0</td>\n",
       "      <td>0.0</td>\n",
       "      <td>0.0</td>\n",
       "      <td>4.0</td>\n",
       "      <td>0.0</td>\n",
       "      <td>...</td>\n",
       "      <td>7.0</td>\n",
       "      <td>7.0</td>\n",
       "      <td>0.0</td>\n",
       "      <td>2.0</td>\n",
       "      <td>1.0</td>\n",
       "      <td>4.0</td>\n",
       "      <td>3.0</td>\n",
       "      <td>2.0</td>\n",
       "      <td>1.0</td>\n",
       "      <td>0.0</td>\n",
       "    </tr>\n",
       "    <tr>\n",
       "      <th>2</th>\n",
       "      <td>0.0</td>\n",
       "      <td>2.0</td>\n",
       "      <td>8.0</td>\n",
       "      <td>1.0</td>\n",
       "      <td>3.0</td>\n",
       "      <td>1.0</td>\n",
       "      <td>0.0</td>\n",
       "      <td>0.0</td>\n",
       "      <td>5.0</td>\n",
       "      <td>0.0</td>\n",
       "      <td>...</td>\n",
       "      <td>7.0</td>\n",
       "      <td>7.0</td>\n",
       "      <td>0.0</td>\n",
       "      <td>2.0</td>\n",
       "      <td>1.0</td>\n",
       "      <td>4.0</td>\n",
       "      <td>3.0</td>\n",
       "      <td>2.0</td>\n",
       "      <td>3.0</td>\n",
       "      <td>0.0</td>\n",
       "    </tr>\n",
       "    <tr>\n",
       "      <th>3</th>\n",
       "      <td>5.0</td>\n",
       "      <td>3.0</td>\n",
       "      <td>8.0</td>\n",
       "      <td>1.0</td>\n",
       "      <td>6.0</td>\n",
       "      <td>1.0</td>\n",
       "      <td>0.0</td>\n",
       "      <td>1.0</td>\n",
       "      <td>5.0</td>\n",
       "      <td>0.0</td>\n",
       "      <td>...</td>\n",
       "      <td>7.0</td>\n",
       "      <td>7.0</td>\n",
       "      <td>0.0</td>\n",
       "      <td>2.0</td>\n",
       "      <td>1.0</td>\n",
       "      <td>4.0</td>\n",
       "      <td>2.0</td>\n",
       "      <td>3.0</td>\n",
       "      <td>5.0</td>\n",
       "      <td>1.0</td>\n",
       "    </tr>\n",
       "    <tr>\n",
       "      <th>4</th>\n",
       "      <td>5.0</td>\n",
       "      <td>2.0</td>\n",
       "      <td>3.0</td>\n",
       "      <td>0.0</td>\n",
       "      <td>5.0</td>\n",
       "      <td>1.0</td>\n",
       "      <td>1.0</td>\n",
       "      <td>0.0</td>\n",
       "      <td>4.0</td>\n",
       "      <td>1.0</td>\n",
       "      <td>...</td>\n",
       "      <td>7.0</td>\n",
       "      <td>7.0</td>\n",
       "      <td>0.0</td>\n",
       "      <td>2.0</td>\n",
       "      <td>1.0</td>\n",
       "      <td>0.0</td>\n",
       "      <td>3.0</td>\n",
       "      <td>0.0</td>\n",
       "      <td>1.0</td>\n",
       "      <td>0.0</td>\n",
       "    </tr>\n",
       "  </tbody>\n",
       "</table>\n",
       "<p>5 rows × 22 columns</p>\n",
       "</div>"
      ],
      "text/plain": [
       "   cap-shape  cap-surface  cap-color  bruises%3F  odor  gill-attachment  \\\n",
       "0        5.0          2.0        4.0         1.0   6.0              1.0   \n",
       "1        5.0          2.0        9.0         1.0   0.0              1.0   \n",
       "2        0.0          2.0        8.0         1.0   3.0              1.0   \n",
       "3        5.0          3.0        8.0         1.0   6.0              1.0   \n",
       "4        5.0          2.0        3.0         0.0   5.0              1.0   \n",
       "\n",
       "   gill-spacing  gill-size  gill-color  stalk-shape  ...  \\\n",
       "0           0.0        1.0         4.0          0.0  ...   \n",
       "1           0.0        0.0         4.0          0.0  ...   \n",
       "2           0.0        0.0         5.0          0.0  ...   \n",
       "3           0.0        1.0         5.0          0.0  ...   \n",
       "4           1.0        0.0         4.0          1.0  ...   \n",
       "\n",
       "   stalk-color-above-ring  stalk-color-below-ring  veil-type  veil-color  \\\n",
       "0                     7.0                     7.0        0.0         2.0   \n",
       "1                     7.0                     7.0        0.0         2.0   \n",
       "2                     7.0                     7.0        0.0         2.0   \n",
       "3                     7.0                     7.0        0.0         2.0   \n",
       "4                     7.0                     7.0        0.0         2.0   \n",
       "\n",
       "   ring-number  ring-type  spore-print-color  population  habitat  class  \n",
       "0          1.0        4.0                2.0         3.0      5.0    1.0  \n",
       "1          1.0        4.0                3.0         2.0      1.0    0.0  \n",
       "2          1.0        4.0                3.0         2.0      3.0    0.0  \n",
       "3          1.0        4.0                2.0         3.0      5.0    1.0  \n",
       "4          1.0        0.0                3.0         0.0      1.0    0.0  \n",
       "\n",
       "[5 rows x 22 columns]"
      ]
     },
     "execution_count": 32,
     "metadata": {},
     "output_type": "execute_result"
    }
   ],
   "source": [
    "from sklearn.preprocessing import LabelEncoder, OrdinalEncoder\n",
    "encoder = OrdinalEncoder()\n",
    "df_mushroom = pd.DataFrame(data=encoder.fit_transform(df_mushroom), columns=df_mushroom.columns)\n",
    "df_mushroom.head()"
   ]
  },
  {
   "cell_type": "markdown",
   "metadata": {},
   "source": [
    "Split the two datasets in to train and test."
   ]
  },
  {
   "cell_type": "code",
   "execution_count": 33,
   "metadata": {},
   "outputs": [
    {
     "name": "stdout",
     "output_type": "stream",
     "text": [
      "MUSHROOM: train shape=(6499, 22), test shape=(1625, 22)\n",
      "LETTERS: train shape=(16000, 17), test shape=(4000, 17)\n"
     ]
    }
   ],
   "source": [
    "from sklearn.model_selection import train_test_split\n",
    "\n",
    "TEST_PERC = 0.2\n",
    "df_mushroom_train, df_mushroom_test = train_test_split(df_mushroom, test_size=TEST_PERC)\n",
    "df_letters_train, df_letters_test = train_test_split(df_letters, test_size=TEST_PERC)\n",
    "\n",
    "print(f\"MUSHROOM: train shape={df_mushroom_train.shape}, test shape={df_mushroom_test.shape}\")\n",
    "print(f\"LETTERS: train shape={df_letters_train.shape}, test shape={df_letters_test.shape}\")"
   ]
  },
  {
   "cell_type": "code",
   "execution_count": 34,
   "metadata": {},
   "outputs": [],
   "source": [
    "from sklearn.ensemble import GradientBoostingClassifier, RandomForestClassifier\n",
    "from time import time\n",
    "\n",
    "EXP_LOG = []\n",
    "DATASETS = ['mushroom', 'letters']\n",
    "MODELS = ['RandomForestClassifier', 'GradientBoostingClassifier']\n",
    "TRAIN_PERC = np.linspace(0.1, 1.0, 10)"
   ]
  },
  {
   "cell_type": "markdown",
   "metadata": {},
   "source": [
    "Perform experiment."
   ]
  },
  {
   "cell_type": "code",
   "execution_count": 35,
   "metadata": {},
   "outputs": [],
   "source": [
    "# silence warnings\n",
    "import warnings\n",
    "warnings.filterwarnings('ignore')"
   ]
  },
  {
   "cell_type": "code",
   "execution_count": 36,
   "metadata": {},
   "outputs": [
    {
     "name": "stdout",
     "output_type": "stream",
     "text": [
      "0.1\n",
      "  (649, 22), (1600, 17)\n",
      "    (0.5004285364944527, 0.5012116449704141)\n",
      "    (0.5006991911225283, 0.5018698224852071)\n",
      "    (0.03884609375, 0.0386056875)\n",
      "    (0.039030078125, 0.038586)\n",
      "0.2\n",
      "  (1299, 22), (3200, 17)\n",
      "    (0.5024537735843466, 0.5011817278106508)\n",
      "    (0.5038559299182589, 0.502916923076923)\n",
      "    (0.0386767578125, 0.0386194375)\n",
      "    (0.038737109375, 0.038584)\n",
      "0.3\n",
      "  (1949, 22), (4800, 17)\n",
      "    (0.5004276574454648, 0.5011817278106508)\n",
      "    (0.5009528507995443, 0.5019894911242604)\n",
      "    (0.03863185763888889, 0.0386105625)\n",
      "    (0.038880121527777776, 0.038447625)\n",
      "0.4\n",
      "  (2599, 22), (6400, 17)\n",
      "    (0.5006680433664885, 0.5011817278106508)\n",
      "    (0.5009633888548308, 0.5018399053254438)\n",
      "    (0.038582763671875, 0.038604875)\n",
      "    (0.03864052734375, 0.03841025)\n",
      "0.5\n",
      "  (3249, 22), (8000, 17)\n",
      "    (0.5003922413421522, 0.5011817278106508)\n",
      "    (0.5007370688956926, 0.5018399053254438)\n",
      "    (0.038570125, 0.038601625)\n",
      "    (0.038673421875, 0.038433625)\n",
      "0.6\n",
      "  (3899, 22), (9600, 17)\n",
      "    (0.50069151170939, 0.5011817278106508)\n",
      "    (0.501063497318579, 0.5018399053254438)\n",
      "    (0.03855907118055556, 0.0386011875)\n",
      "    (0.038635611979166665, 0.03842625)\n",
      "0.7\n",
      "  (4549, 22), (11200, 17)\n",
      "    (0.5008449311932823, 0.5011817278106508)\n",
      "    (0.5015226834873591, 0.5021390769230769)\n",
      "    (0.038520073341836734, 0.038615)\n",
      "    (0.03859418845663265, 0.0384038125)\n",
      "0.8\n",
      "  (5199, 22), (12800, 17)\n",
      "    (0.5006331022052453, 0.5011817278106508)\n",
      "    (0.5009821639616507, 0.5018399053254438)\n",
      "    (0.03850927734375, 0.03862975)\n",
      "    (0.03859013671875, 0.038485625)\n",
      "0.9\n",
      "  (5849, 22), (14400, 17)\n",
      "    (0.5005110812810258, 0.5011817278106508)\n",
      "    (0.5009811667373705, 0.5019595739644971)\n",
      "    (0.0385088638117284, 0.0386249375)\n",
      "    (0.038550877700617284, 0.0384816875)\n",
      "1.0\n",
      "  (6499, 22), (16000, 17)\n",
      "    (0.5005370764841945, 0.5011817278106508)\n",
      "    (0.5010111158223568, 0.5019595739644971)\n",
      "    (0.0385012109375, 0.0386426875)\n",
      "    (0.03853739453125, 0.0384588125)\n"
     ]
    }
   ],
   "source": [
    "for tp in TRAIN_PERC:\n",
    "    print(round(tp, 2))\n",
    "    \n",
    "    # split each dataset\n",
    "    if tp < 1:\n",
    "        df_mushroom_train_tp, _ = train_test_split(df_mushroom_train, train_size=tp)\n",
    "        df_letters_train_tp, _ = train_test_split(df_letters_train, train_size=tp)\n",
    "    else:\n",
    "        df_mushroom_train_tp = df_mushroom_train\n",
    "        df_letters_train_tp = df_letters_train\n",
    "        \n",
    "    print(f'  {df_mushroom_train_tp.shape}, {df_letters_train_tp.shape}')\n",
    "                \n",
    "    for dataset in DATASETS:\n",
    "        \n",
    "        if dataset == 'mushroom':\n",
    "            df_exp = df_mushroom_train_tp\n",
    "            df_exp_train_y = df_exp[['class']].values\n",
    "            df_exp_train_X = df_exp.drop(columns=['class'])\n",
    "            df_exp_test_y = df_mushroom_test[['class']].values\n",
    "            df_exp_test_X = df_mushroom_test[[col for col in df_mushroom_test.columns if col != 'class']]\n",
    "        else:\n",
    "            df_exp = df_letters_train_tp\n",
    "            df_exp_train_y = df_exp[['class']].values\n",
    "            df_exp_train_X = df_exp.drop(columns=['class'])\n",
    "            df_exp_test_y = df_letters_test[['class']].values\n",
    "            df_exp_test_X = df_letters_test[[col for col in df_letters_test.columns if col != 'class']]\n",
    "            \n",
    "        for mdl in MODELS:\n",
    "            \n",
    "            if mdl == 'RandomForestClassifier':\n",
    "                # train RandomForestClassifier\n",
    "                clf = RandomForestClassifier(n_estimators=50)\n",
    "            else:\n",
    "                # train GradientBoostingClassifier\n",
    "                clf = GradientBoostingClassifier(n_estimators=10)\n",
    "                \n",
    "            t1 = time()\n",
    "            clf.fit(df_exp_train_X, df_exp_train_y)\n",
    "            exp_time = time() - t1\n",
    "            \n",
    "            exp_train_pred = clf.predict(df_exp_train_X)\n",
    "            exp_test_pred = clf.predict(df_exp_test_X)\n",
    "            train_acc = np.mean(exp_train_pred == df_exp_train_y)\n",
    "            test_acc = np.mean(exp_test_pred == df_exp_test_y)\n",
    "            \n",
    "            print(f'    {train_acc, test_acc}')\n",
    "            \n",
    "            exp_metrics = {\n",
    "                'Percent of Training Dataset Used': tp,\n",
    "                'Dataset': dataset,\n",
    "                'Model': mdl,\n",
    "                'Train Time': exp_time,\n",
    "                'Train Accuracy': train_acc,\n",
    "                'Test Accuracy': test_acc\n",
    "            }\n",
    "            \n",
    "            EXP_LOG.append(exp_metrics)"
   ]
  },
  {
   "cell_type": "code",
   "execution_count": 37,
   "metadata": {},
   "outputs": [
    {
     "data": {
      "text/html": [
       "<div>\n",
       "<style scoped>\n",
       "    .dataframe tbody tr th:only-of-type {\n",
       "        vertical-align: middle;\n",
       "    }\n",
       "\n",
       "    .dataframe tbody tr th {\n",
       "        vertical-align: top;\n",
       "    }\n",
       "\n",
       "    .dataframe thead th {\n",
       "        text-align: right;\n",
       "    }\n",
       "</style>\n",
       "<table border=\"1\" class=\"dataframe\">\n",
       "  <thead>\n",
       "    <tr style=\"text-align: right;\">\n",
       "      <th></th>\n",
       "      <th>Percent of Training Dataset Used</th>\n",
       "      <th>Dataset</th>\n",
       "      <th>Model</th>\n",
       "      <th>Train Time</th>\n",
       "      <th>Train Accuracy</th>\n",
       "      <th>Test Accuracy</th>\n",
       "    </tr>\n",
       "  </thead>\n",
       "  <tbody>\n",
       "    <tr>\n",
       "      <th>0</th>\n",
       "      <td>0.1</td>\n",
       "      <td>mushroom</td>\n",
       "      <td>RandomForestClassifier</td>\n",
       "      <td>0.060386</td>\n",
       "      <td>0.500429</td>\n",
       "      <td>0.501212</td>\n",
       "    </tr>\n",
       "    <tr>\n",
       "      <th>1</th>\n",
       "      <td>0.1</td>\n",
       "      <td>mushroom</td>\n",
       "      <td>GradientBoostingClassifier</td>\n",
       "      <td>0.010260</td>\n",
       "      <td>0.500699</td>\n",
       "      <td>0.501870</td>\n",
       "    </tr>\n",
       "    <tr>\n",
       "      <th>2</th>\n",
       "      <td>0.1</td>\n",
       "      <td>letters</td>\n",
       "      <td>RandomForestClassifier</td>\n",
       "      <td>0.136937</td>\n",
       "      <td>0.038846</td>\n",
       "      <td>0.038606</td>\n",
       "    </tr>\n",
       "    <tr>\n",
       "      <th>3</th>\n",
       "      <td>0.1</td>\n",
       "      <td>letters</td>\n",
       "      <td>GradientBoostingClassifier</td>\n",
       "      <td>0.527463</td>\n",
       "      <td>0.039030</td>\n",
       "      <td>0.038586</td>\n",
       "    </tr>\n",
       "    <tr>\n",
       "      <th>4</th>\n",
       "      <td>0.2</td>\n",
       "      <td>mushroom</td>\n",
       "      <td>RandomForestClassifier</td>\n",
       "      <td>0.058064</td>\n",
       "      <td>0.502454</td>\n",
       "      <td>0.501182</td>\n",
       "    </tr>\n",
       "    <tr>\n",
       "      <th>5</th>\n",
       "      <td>0.2</td>\n",
       "      <td>mushroom</td>\n",
       "      <td>GradientBoostingClassifier</td>\n",
       "      <td>0.012116</td>\n",
       "      <td>0.503856</td>\n",
       "      <td>0.502917</td>\n",
       "    </tr>\n",
       "    <tr>\n",
       "      <th>6</th>\n",
       "      <td>0.2</td>\n",
       "      <td>letters</td>\n",
       "      <td>RandomForestClassifier</td>\n",
       "      <td>0.187462</td>\n",
       "      <td>0.038677</td>\n",
       "      <td>0.038619</td>\n",
       "    </tr>\n",
       "    <tr>\n",
       "      <th>7</th>\n",
       "      <td>0.2</td>\n",
       "      <td>letters</td>\n",
       "      <td>GradientBoostingClassifier</td>\n",
       "      <td>0.910283</td>\n",
       "      <td>0.038737</td>\n",
       "      <td>0.038584</td>\n",
       "    </tr>\n",
       "    <tr>\n",
       "      <th>8</th>\n",
       "      <td>0.3</td>\n",
       "      <td>mushroom</td>\n",
       "      <td>RandomForestClassifier</td>\n",
       "      <td>0.062009</td>\n",
       "      <td>0.500428</td>\n",
       "      <td>0.501182</td>\n",
       "    </tr>\n",
       "    <tr>\n",
       "      <th>9</th>\n",
       "      <td>0.3</td>\n",
       "      <td>mushroom</td>\n",
       "      <td>GradientBoostingClassifier</td>\n",
       "      <td>0.015370</td>\n",
       "      <td>0.500953</td>\n",
       "      <td>0.501989</td>\n",
       "    </tr>\n",
       "  </tbody>\n",
       "</table>\n",
       "</div>"
      ],
      "text/plain": [
       "   Percent of Training Dataset Used   Dataset                       Model  \\\n",
       "0                               0.1  mushroom      RandomForestClassifier   \n",
       "1                               0.1  mushroom  GradientBoostingClassifier   \n",
       "2                               0.1   letters      RandomForestClassifier   \n",
       "3                               0.1   letters  GradientBoostingClassifier   \n",
       "4                               0.2  mushroom      RandomForestClassifier   \n",
       "5                               0.2  mushroom  GradientBoostingClassifier   \n",
       "6                               0.2   letters      RandomForestClassifier   \n",
       "7                               0.2   letters  GradientBoostingClassifier   \n",
       "8                               0.3  mushroom      RandomForestClassifier   \n",
       "9                               0.3  mushroom  GradientBoostingClassifier   \n",
       "\n",
       "   Train Time  Train Accuracy  Test Accuracy  \n",
       "0    0.060386        0.500429       0.501212  \n",
       "1    0.010260        0.500699       0.501870  \n",
       "2    0.136937        0.038846       0.038606  \n",
       "3    0.527463        0.039030       0.038586  \n",
       "4    0.058064        0.502454       0.501182  \n",
       "5    0.012116        0.503856       0.502917  \n",
       "6    0.187462        0.038677       0.038619  \n",
       "7    0.910283        0.038737       0.038584  \n",
       "8    0.062009        0.500428       0.501182  \n",
       "9    0.015370        0.500953       0.501989  "
      ]
     },
     "execution_count": 37,
     "metadata": {},
     "output_type": "execute_result"
    }
   ],
   "source": [
    "df_exp_results = pd.DataFrame(EXP_LOG)\n",
    "df_exp_results.head(10)"
   ]
  },
  {
   "cell_type": "markdown",
   "metadata": {},
   "source": [
    "Plot results."
   ]
  },
  {
   "cell_type": "code",
   "execution_count": 38,
   "metadata": {},
   "outputs": [
    {
     "data": {
      "text/plain": [
       "<seaborn.axisgrid.FacetGrid at 0x7f951b869880>"
      ]
     },
     "execution_count": 38,
     "metadata": {},
     "output_type": "execute_result"
    },
    {
     "data": {
      "image/png": "[encoded data removed]",
      "text/plain": [
       "<Figure size 890.35x360 with 2 Axes>"
      ]
     },
     "metadata": {},
     "output_type": "display_data"
    }
   ],
   "source": [
    "sns.relplot(\n",
    "    x='Percent of Training Dataset Used',\n",
    "    y='Test Accuracy',\n",
    "    data=df_exp_results,\n",
    "    col='Dataset',\n",
    "    hue='Model',\n",
    "    kind='line',\n",
    "    facet_kws={'sharey': False}\n",
    ")"
   ]
  },
  {
   "cell_type": "code",
   "execution_count": 39,
   "metadata": {},
   "outputs": [
    {
     "data": {
      "text/plain": [
       "<seaborn.axisgrid.FacetGrid at 0x7f95087c85b0>"
      ]
     },
     "execution_count": 39,
     "metadata": {},
     "output_type": "execute_result"
    },
    {
     "data": {
      "image/png": "[encoded data removed]",
      "text/plain": [
       "<Figure size 890.35x360 with 2 Axes>"
      ]
     },
     "metadata": {},
     "output_type": "display_data"
    }
   ],
   "source": [
    "sns.relplot(\n",
    "    x='Percent of Training Dataset Used',\n",
    "    y='Train Time',\n",
    "    data=df_exp_results,\n",
    "    col='Dataset',\n",
    "    hue='Model',\n",
    "    kind='line',\n",
    "    facet_kws={'sharey': False}\n",
    ")"
   ]
  },
  {
   "cell_type": "markdown",
   "metadata": {},
   "source": [
    "#### Q3 (5 points)\n",
    "\n",
    "The two classifiers perform similarily on both datasets. The accuracy differences are so small that they are pretty much negligible. The two models trained in gnerally the same amount of time for the Mushroom dataset (orders of milliseconds), but the Random Forest model trained much faster on the much larger Letters dataset."
   ]
  },
  {
   "cell_type": "markdown",
   "metadata": {},
   "source": [
    "### Problem 4: Precision, Recall, ROC (25 points)\n",
    "\n",
    "#### Q1 (5 points)\n",
    "\n",
    "True negative does matter in ROC space but not in PR space. Each point in a ROC curve corresponds to each point in a PR curve because true negative can be determined via knowing the other three values of the confusion matrix. Because of this, there is a one-to-one mapping between confusion matrices and points in PR space, and a one-to-one mapping between points in ROC space and PR space, making it possible to translate between the two.\n",
    "\n",
    "#### Q2 (10 points)\n",
    "\n",
    "Using the [Titanic](https://www.openml.org/d/40945) (`dataset_id=40945`)."
   ]
  },
  {
   "cell_type": "code",
   "execution_count": 40,
   "metadata": {},
   "outputs": [
    {
     "data": {
      "text/html": [
       "<div>\n",
       "<style scoped>\n",
       "    .dataframe tbody tr th:only-of-type {\n",
       "        vertical-align: middle;\n",
       "    }\n",
       "\n",
       "    .dataframe tbody tr th {\n",
       "        vertical-align: top;\n",
       "    }\n",
       "\n",
       "    .dataframe thead th {\n",
       "        text-align: right;\n",
       "    }\n",
       "</style>\n",
       "<table border=\"1\" class=\"dataframe\">\n",
       "  <thead>\n",
       "    <tr style=\"text-align: right;\">\n",
       "      <th></th>\n",
       "      <th>pclass</th>\n",
       "      <th>survived</th>\n",
       "      <th>name</th>\n",
       "      <th>sex</th>\n",
       "      <th>age</th>\n",
       "      <th>sibsp</th>\n",
       "      <th>parch</th>\n",
       "      <th>ticket</th>\n",
       "      <th>fare</th>\n",
       "      <th>cabin</th>\n",
       "      <th>embarked</th>\n",
       "      <th>boat</th>\n",
       "      <th>body</th>\n",
       "      <th>home.dest</th>\n",
       "    </tr>\n",
       "  </thead>\n",
       "  <tbody>\n",
       "    <tr>\n",
       "      <th>0</th>\n",
       "      <td>1.0</td>\n",
       "      <td>1</td>\n",
       "      <td>Allen, Miss. Elisabeth Walton</td>\n",
       "      <td>female</td>\n",
       "      <td>29.0000</td>\n",
       "      <td>0.0</td>\n",
       "      <td>0.0</td>\n",
       "      <td>24160</td>\n",
       "      <td>211.3375</td>\n",
       "      <td>B5</td>\n",
       "      <td>S</td>\n",
       "      <td>2</td>\n",
       "      <td>NaN</td>\n",
       "      <td>St Louis, MO</td>\n",
       "    </tr>\n",
       "    <tr>\n",
       "      <th>1</th>\n",
       "      <td>1.0</td>\n",
       "      <td>1</td>\n",
       "      <td>Allison, Master. Hudson Trevor</td>\n",
       "      <td>male</td>\n",
       "      <td>0.9167</td>\n",
       "      <td>1.0</td>\n",
       "      <td>2.0</td>\n",
       "      <td>113781</td>\n",
       "      <td>151.5500</td>\n",
       "      <td>C22 C26</td>\n",
       "      <td>S</td>\n",
       "      <td>11</td>\n",
       "      <td>NaN</td>\n",
       "      <td>Montreal, PQ / Chesterville, ON</td>\n",
       "    </tr>\n",
       "    <tr>\n",
       "      <th>2</th>\n",
       "      <td>1.0</td>\n",
       "      <td>0</td>\n",
       "      <td>Allison, Miss. Helen Loraine</td>\n",
       "      <td>female</td>\n",
       "      <td>2.0000</td>\n",
       "      <td>1.0</td>\n",
       "      <td>2.0</td>\n",
       "      <td>113781</td>\n",
       "      <td>151.5500</td>\n",
       "      <td>C22 C26</td>\n",
       "      <td>S</td>\n",
       "      <td>None</td>\n",
       "      <td>NaN</td>\n",
       "      <td>Montreal, PQ / Chesterville, ON</td>\n",
       "    </tr>\n",
       "    <tr>\n",
       "      <th>3</th>\n",
       "      <td>1.0</td>\n",
       "      <td>0</td>\n",
       "      <td>Allison, Mr. Hudson Joshua Creighton</td>\n",
       "      <td>male</td>\n",
       "      <td>30.0000</td>\n",
       "      <td>1.0</td>\n",
       "      <td>2.0</td>\n",
       "      <td>113781</td>\n",
       "      <td>151.5500</td>\n",
       "      <td>C22 C26</td>\n",
       "      <td>S</td>\n",
       "      <td>None</td>\n",
       "      <td>135.0</td>\n",
       "      <td>Montreal, PQ / Chesterville, ON</td>\n",
       "    </tr>\n",
       "    <tr>\n",
       "      <th>4</th>\n",
       "      <td>1.0</td>\n",
       "      <td>0</td>\n",
       "      <td>Allison, Mrs. Hudson J C (Bessie Waldo Daniels)</td>\n",
       "      <td>female</td>\n",
       "      <td>25.0000</td>\n",
       "      <td>1.0</td>\n",
       "      <td>2.0</td>\n",
       "      <td>113781</td>\n",
       "      <td>151.5500</td>\n",
       "      <td>C22 C26</td>\n",
       "      <td>S</td>\n",
       "      <td>None</td>\n",
       "      <td>NaN</td>\n",
       "      <td>Montreal, PQ / Chesterville, ON</td>\n",
       "    </tr>\n",
       "  </tbody>\n",
       "</table>\n",
       "</div>"
      ],
      "text/plain": [
       "   pclass survived                                             name     sex  \\\n",
       "0     1.0        1                    Allen, Miss. Elisabeth Walton  female   \n",
       "1     1.0        1                   Allison, Master. Hudson Trevor    male   \n",
       "2     1.0        0                     Allison, Miss. Helen Loraine  female   \n",
       "3     1.0        0             Allison, Mr. Hudson Joshua Creighton    male   \n",
       "4     1.0        0  Allison, Mrs. Hudson J C (Bessie Waldo Daniels)  female   \n",
       "\n",
       "       age  sibsp  parch  ticket      fare    cabin embarked  boat   body  \\\n",
       "0  29.0000    0.0    0.0   24160  211.3375       B5        S     2    NaN   \n",
       "1   0.9167    1.0    2.0  113781  151.5500  C22 C26        S    11    NaN   \n",
       "2   2.0000    1.0    2.0  113781  151.5500  C22 C26        S  None    NaN   \n",
       "3  30.0000    1.0    2.0  113781  151.5500  C22 C26        S  None  135.0   \n",
       "4  25.0000    1.0    2.0  113781  151.5500  C22 C26        S  None    NaN   \n",
       "\n",
       "                         home.dest  \n",
       "0                     St Louis, MO  \n",
       "1  Montreal, PQ / Chesterville, ON  \n",
       "2  Montreal, PQ / Chesterville, ON  \n",
       "3  Montreal, PQ / Chesterville, ON  \n",
       "4  Montreal, PQ / Chesterville, ON  "
      ]
     },
     "execution_count": 40,
     "metadata": {},
     "output_type": "execute_result"
    }
   ],
   "source": [
    "openml_titanic = openml.datasets.get_dataset(40945)\n",
    "titanic_df = openml_titanic.get_data()[0]\n",
    "titanic_df.head()"
   ]
  },
  {
   "cell_type": "code",
   "execution_count": 41,
   "metadata": {},
   "outputs": [
    {
     "name": "stdout",
     "output_type": "stream",
     "text": [
      "<class 'pandas.core.frame.DataFrame'>\n",
      "RangeIndex: 1309 entries, 0 to 1308\n",
      "Data columns (total 14 columns):\n",
      " #   Column     Non-Null Count  Dtype   \n",
      "---  ------     --------------  -----   \n",
      " 0   pclass     1309 non-null   float64 \n",
      " 1   survived   1309 non-null   category\n",
      " 2   name       1309 non-null   object  \n",
      " 3   sex        1309 non-null   category\n",
      " 4   age        1046 non-null   float64 \n",
      " 5   sibsp      1309 non-null   float64 \n",
      " 6   parch      1309 non-null   float64 \n",
      " 7   ticket     1309 non-null   object  \n",
      " 8   fare       1308 non-null   float64 \n",
      " 9   cabin      295 non-null    object  \n",
      " 10  embarked   1307 non-null   category\n",
      " 11  boat       486 non-null    object  \n",
      " 12  body       121 non-null    float64 \n",
      " 13  home.dest  745 non-null    object  \n",
      "dtypes: category(3), float64(6), object(5)\n",
      "memory usage: 116.7+ KB\n"
     ]
    }
   ],
   "source": [
    "titanic_df.info()"
   ]
  },
  {
   "cell_type": "markdown",
   "metadata": {},
   "source": [
    "Using `pclass`, `sex`, `age`, `sibsp`, and `parch` as features to predict `survived`, and dropping rows with null values."
   ]
  },
  {
   "cell_type": "code",
   "execution_count": 42,
   "metadata": {},
   "outputs": [
    {
     "data": {
      "text/html": [
       "<div>\n",
       "<style scoped>\n",
       "    .dataframe tbody tr th:only-of-type {\n",
       "        vertical-align: middle;\n",
       "    }\n",
       "\n",
       "    .dataframe tbody tr th {\n",
       "        vertical-align: top;\n",
       "    }\n",
       "\n",
       "    .dataframe thead th {\n",
       "        text-align: right;\n",
       "    }\n",
       "</style>\n",
       "<table border=\"1\" class=\"dataframe\">\n",
       "  <thead>\n",
       "    <tr style=\"text-align: right;\">\n",
       "      <th></th>\n",
       "      <th>pclass</th>\n",
       "      <th>sex</th>\n",
       "      <th>age</th>\n",
       "      <th>sibsp</th>\n",
       "      <th>parch</th>\n",
       "      <th>survived</th>\n",
       "    </tr>\n",
       "  </thead>\n",
       "  <tbody>\n",
       "    <tr>\n",
       "      <th>0</th>\n",
       "      <td>1.0</td>\n",
       "      <td>female</td>\n",
       "      <td>29.0000</td>\n",
       "      <td>0.0</td>\n",
       "      <td>0.0</td>\n",
       "      <td>1</td>\n",
       "    </tr>\n",
       "    <tr>\n",
       "      <th>1</th>\n",
       "      <td>1.0</td>\n",
       "      <td>male</td>\n",
       "      <td>0.9167</td>\n",
       "      <td>1.0</td>\n",
       "      <td>2.0</td>\n",
       "      <td>1</td>\n",
       "    </tr>\n",
       "    <tr>\n",
       "      <th>2</th>\n",
       "      <td>1.0</td>\n",
       "      <td>female</td>\n",
       "      <td>2.0000</td>\n",
       "      <td>1.0</td>\n",
       "      <td>2.0</td>\n",
       "      <td>0</td>\n",
       "    </tr>\n",
       "    <tr>\n",
       "      <th>3</th>\n",
       "      <td>1.0</td>\n",
       "      <td>male</td>\n",
       "      <td>30.0000</td>\n",
       "      <td>1.0</td>\n",
       "      <td>2.0</td>\n",
       "      <td>0</td>\n",
       "    </tr>\n",
       "    <tr>\n",
       "      <th>4</th>\n",
       "      <td>1.0</td>\n",
       "      <td>female</td>\n",
       "      <td>25.0000</td>\n",
       "      <td>1.0</td>\n",
       "      <td>2.0</td>\n",
       "      <td>0</td>\n",
       "    </tr>\n",
       "  </tbody>\n",
       "</table>\n",
       "</div>"
      ],
      "text/plain": [
       "   pclass     sex      age  sibsp  parch  survived\n",
       "0     1.0  female  29.0000    0.0    0.0         1\n",
       "1     1.0    male   0.9167    1.0    2.0         1\n",
       "2     1.0  female   2.0000    1.0    2.0         0\n",
       "3     1.0    male  30.0000    1.0    2.0         0\n",
       "4     1.0  female  25.0000    1.0    2.0         0"
      ]
     },
     "execution_count": 42,
     "metadata": {},
     "output_type": "execute_result"
    }
   ],
   "source": [
    "titanic_df = titanic_df[['pclass', 'sex', 'age', 'sibsp', 'parch', 'survived']].dropna().reset_index(drop=True)\n",
    "titanic_df['survived'] = titanic_df['survived'].astype(int)\n",
    "titanic_df.head()"
   ]
  },
  {
   "cell_type": "markdown",
   "metadata": {},
   "source": [
    "Encode `sex`."
   ]
  },
  {
   "cell_type": "code",
   "execution_count": 43,
   "metadata": {},
   "outputs": [
    {
     "data": {
      "text/html": [
       "<div>\n",
       "<style scoped>\n",
       "    .dataframe tbody tr th:only-of-type {\n",
       "        vertical-align: middle;\n",
       "    }\n",
       "\n",
       "    .dataframe tbody tr th {\n",
       "        vertical-align: top;\n",
       "    }\n",
       "\n",
       "    .dataframe thead th {\n",
       "        text-align: right;\n",
       "    }\n",
       "</style>\n",
       "<table border=\"1\" class=\"dataframe\">\n",
       "  <thead>\n",
       "    <tr style=\"text-align: right;\">\n",
       "      <th></th>\n",
       "      <th>pclass</th>\n",
       "      <th>age</th>\n",
       "      <th>sibsp</th>\n",
       "      <th>parch</th>\n",
       "      <th>survived</th>\n",
       "      <th>sex_enc</th>\n",
       "    </tr>\n",
       "  </thead>\n",
       "  <tbody>\n",
       "    <tr>\n",
       "      <th>0</th>\n",
       "      <td>1.0</td>\n",
       "      <td>29.0000</td>\n",
       "      <td>0.0</td>\n",
       "      <td>0.0</td>\n",
       "      <td>1</td>\n",
       "      <td>0</td>\n",
       "    </tr>\n",
       "    <tr>\n",
       "      <th>1</th>\n",
       "      <td>1.0</td>\n",
       "      <td>0.9167</td>\n",
       "      <td>1.0</td>\n",
       "      <td>2.0</td>\n",
       "      <td>1</td>\n",
       "      <td>1</td>\n",
       "    </tr>\n",
       "    <tr>\n",
       "      <th>2</th>\n",
       "      <td>1.0</td>\n",
       "      <td>2.0000</td>\n",
       "      <td>1.0</td>\n",
       "      <td>2.0</td>\n",
       "      <td>0</td>\n",
       "      <td>0</td>\n",
       "    </tr>\n",
       "    <tr>\n",
       "      <th>3</th>\n",
       "      <td>1.0</td>\n",
       "      <td>30.0000</td>\n",
       "      <td>1.0</td>\n",
       "      <td>2.0</td>\n",
       "      <td>0</td>\n",
       "      <td>1</td>\n",
       "    </tr>\n",
       "    <tr>\n",
       "      <th>4</th>\n",
       "      <td>1.0</td>\n",
       "      <td>25.0000</td>\n",
       "      <td>1.0</td>\n",
       "      <td>2.0</td>\n",
       "      <td>0</td>\n",
       "      <td>0</td>\n",
       "    </tr>\n",
       "  </tbody>\n",
       "</table>\n",
       "</div>"
      ],
      "text/plain": [
       "   pclass      age  sibsp  parch  survived sex_enc\n",
       "0     1.0  29.0000    0.0    0.0         1       0\n",
       "1     1.0   0.9167    1.0    2.0         1       1\n",
       "2     1.0   2.0000    1.0    2.0         0       0\n",
       "3     1.0  30.0000    1.0    2.0         0       1\n",
       "4     1.0  25.0000    1.0    2.0         0       0"
      ]
     },
     "execution_count": 43,
     "metadata": {},
     "output_type": "execute_result"
    }
   ],
   "source": [
    "titanic_df['sex_enc'] = titanic_df['sex'].apply(lambda x: 1 if x == 'male' else 0)\n",
    "titanic_df.drop(columns=['sex'], inplace=True)\n",
    "titanic_df.head()"
   ]
  },
  {
   "cell_type": "markdown",
   "metadata": {},
   "source": [
    "Perform train test split and train the `AdaBoostClassifier` and `LogisticRegression` classifier."
   ]
  },
  {
   "cell_type": "code",
   "execution_count": 44,
   "metadata": {},
   "outputs": [
    {
     "name": "stdout",
     "output_type": "stream",
     "text": [
      "(836, 6) (210, 6)\n"
     ]
    }
   ],
   "source": [
    "df_train, df_test = train_test_split(titanic_df, test_size=0.2)\n",
    "print(df_train.shape, df_test.shape)"
   ]
  },
  {
   "cell_type": "code",
   "execution_count": 45,
   "metadata": {},
   "outputs": [],
   "source": [
    "from sklearn.linear_model import LogisticRegression\n",
    "from sklearn.ensemble import AdaBoostClassifier"
   ]
  },
  {
   "cell_type": "code",
   "execution_count": 46,
   "metadata": {},
   "outputs": [],
   "source": [
    "target_col = 'survived'\n",
    "feature_cols = [col for col in df_train.columns if col!=target_col]\n",
    "\n",
    "X_train = df_train[feature_cols].values\n",
    "y_train = np.array(df_train[target_col].values)\n",
    "\n",
    "X_test = df_test[feature_cols].values\n",
    "y_test = np.array(df_test[target_col].values)"
   ]
  },
  {
   "cell_type": "code",
   "execution_count": 47,
   "metadata": {},
   "outputs": [],
   "source": [
    "lr_clf = LogisticRegression()\n",
    "ab_clf = AdaBoostClassifier()"
   ]
  },
  {
   "cell_type": "code",
   "execution_count": 48,
   "metadata": {},
   "outputs": [
    {
     "data": {
      "text/plain": [
       "array([ 2.27789068,  0.29508564, -2.11933319,  0.33296726, -1.8162802 ])"
      ]
     },
     "execution_count": 48,
     "metadata": {},
     "output_type": "execute_result"
    }
   ],
   "source": [
    "lr_clf.fit(X_train, y_train)\n",
    "y_pred_lr = lr_clf.predict(X_test)\n",
    "y_scores_lr = lr_clf.decision_function(X_test)\n",
    "y_scores_lr[:5]"
   ]
  },
  {
   "cell_type": "code",
   "execution_count": 49,
   "metadata": {},
   "outputs": [
    {
     "data": {
      "text/plain": [
       "array([ 0.04819644,  0.00049247, -0.04334529,  0.00353802, -0.04029974])"
      ]
     },
     "execution_count": 49,
     "metadata": {},
     "output_type": "execute_result"
    }
   ],
   "source": [
    "ab_clf.fit(X_train, y_train)\n",
    "y_pred_ab = ab_clf.predict(X_test)\n",
    "y_scores_ab = ab_clf.decision_function(X_test)\n",
    "y_scores_ab[:5]"
   ]
  },
  {
   "cell_type": "markdown",
   "metadata": {},
   "source": [
    "Generate the ROC and PR curves."
   ]
  },
  {
   "cell_type": "code",
   "execution_count": 50,
   "metadata": {},
   "outputs": [],
   "source": [
    "from sklearn.metrics import roc_curve, precision_recall_curve"
   ]
  },
  {
   "cell_type": "code",
   "execution_count": 51,
   "metadata": {},
   "outputs": [],
   "source": [
    "fpr_lr, tpr_lr, thresholds_lr = roc_curve(y_test, y_scores_lr)\n",
    "fpr_ab, tpr_ab, thresholds_ab = roc_curve(y_test, y_scores_ab)\n",
    "fpr_ap, tpr_ap, thresholds_ap = roc_curve(y_test, np.ones(shape=y_test.shape))"
   ]
  },
  {
   "cell_type": "code",
   "execution_count": 52,
   "metadata": {},
   "outputs": [
    {
     "data": {
      "image/png": "[encoded data removed]",
      "text/plain": [
       "<Figure size 864x648 with 1 Axes>"
      ]
     },
     "metadata": {},
     "output_type": "display_data"
    }
   ],
   "source": [
    "plt.figure(figsize=(12, 9))\n",
    "lw = 2\n",
    "plt.plot(fpr_lr, tpr_lr, color='darkorange',\n",
    "         lw=lw, label='LogisticRegression ROC Curve')\n",
    "plt.plot(fpr_ab, tpr_ab, color='purple',\n",
    "         lw=lw, label='AdaBoostClassifier ROC Curve')\n",
    "plt.plot(fpr_ap, tpr_ap, '--', color='navy',\n",
    "         lw=lw, label='AllPositiveClassifier ROC Curve')\n",
    "plt.xlim([0.0, 1.0])\n",
    "plt.ylim([0.0, 1.05])\n",
    "plt.xlabel('False Positive Rate')\n",
    "plt.ylabel('True Positive Rate')\n",
    "plt.title('Receiver operating characteristic for both classifiers')\n",
    "plt.legend(loc=\"lower right\")\n",
    "plt.show()"
   ]
  },
  {
   "cell_type": "code",
   "execution_count": 53,
   "metadata": {},
   "outputs": [],
   "source": [
    "precision_lr, recall_lr, thresholds_lr = precision_recall_curve(y_test, y_scores_lr)\n",
    "precision_ab, recall_ab, thresholds_ab = precision_recall_curve(y_test, y_scores_ab)\n",
    "precision_ap, recall_ap, thresholds_ap = precision_recall_curve(y_test, np.ones(shape=y_test.shape))"
   ]
  },
  {
   "cell_type": "code",
   "execution_count": 54,
   "metadata": {},
   "outputs": [
    {
     "data": {
      "image/png": "[encoded data removed]",
      "text/plain": [
       "<Figure size 864x648 with 1 Axes>"
      ]
     },
     "metadata": {},
     "output_type": "display_data"
    }
   ],
   "source": [
    "plt.figure(figsize=(12, 9))\n",
    "lw = 2\n",
    "plt.plot(recall_lr, precision_lr, color='darkorange',\n",
    "         lw=lw, label='LogisticRegression PR Curve')\n",
    "plt.plot(recall_ab, precision_ab, color='purple',\n",
    "         lw=lw, label='AdaBoostClassifier PR Curve')\n",
    "plt.plot(recall_ap, precision_ap, '--', color='navy',\n",
    "         lw=lw, label='AllPositiveClassifier')\n",
    "plt.xlim([0.0, 1.0])\n",
    "plt.ylim([0.0, 1.05])\n",
    "plt.xlabel('Recall')\n",
    "plt.ylabel('Precision')\n",
    "plt.title('Precision Recall Curve for both classifiers')\n",
    "plt.legend(loc=\"lower right\")\n",
    "plt.show()"
   ]
  },
  {
   "cell_type": "markdown",
   "metadata": {},
   "source": [
    "#### Q3 (10 points)\n",
    "\n",
    "Install `pyprg` for Area Under PRG calculation."
   ]
  },
  {
   "cell_type": "code",
   "execution_count": 55,
   "metadata": {},
   "outputs": [],
   "source": [
    "#!pip install pyprg"
   ]
  },
  {
   "cell_type": "code",
   "execution_count": 56,
   "metadata": {},
   "outputs": [],
   "source": [
    "from sklearn.metrics import average_precision_score, roc_auc_score\n",
    "from prg import prg"
   ]
  },
  {
   "cell_type": "code",
   "execution_count": 57,
   "metadata": {},
   "outputs": [
    {
     "name": "stdout",
     "output_type": "stream",
     "text": [
      "\n",
      "-- Area Under Precision Recall --\n",
      "* Logistic Regression: 0.8444081506077105\n",
      "* AdaBoost Classifier: 0.7429512094243728\n",
      "\n",
      "-- Area Under ROC --\n",
      "* Logistic Regression: 0.8427717035791049\n",
      "* AdaBoost Classifier: 0.8290346696570414\n",
      "\n",
      "-- Area Under Precision Recall Gain --\n",
      "* Logistic Regression: 0.788933255126147\n",
      "* AdaBoost Classifier: 0.788933255126147\n",
      "\n"
     ]
    }
   ],
   "source": [
    "ab_auc_pr = average_precision_score(y_test, y_scores_ab)\n",
    "ab_auc_roc = roc_auc_score(y_test, y_scores_ab)\n",
    "ab_prg_curve = prg.create_prg_curve(y_test, y_scores_ab)\n",
    "ab_auc_prg = prg.calc_auprg(ab_prg_curve)\n",
    "\n",
    "lr_auc_pr = average_precision_score(y_test, y_scores_lr)\n",
    "lr_auc_roc = roc_auc_score(y_test, y_scores_lr)\n",
    "lr_prg_curve = prg.create_prg_curve(y_test, y_scores_ab)\n",
    "lr_auc_prg = prg.calc_auprg(lr_prg_curve)\n",
    "\n",
    "print(f\"\"\"\n",
    "-- Area Under Precision Recall --\n",
    "* Logistic Regression: {lr_auc_pr}\n",
    "* AdaBoost Classifier: {ab_auc_pr}\n",
    "\n",
    "-- Area Under ROC --\n",
    "* Logistic Regression: {lr_auc_roc}\n",
    "* AdaBoost Classifier: {ab_auc_roc}\n",
    "\n",
    "-- Area Under Precision Recall Gain --\n",
    "* Logistic Regression: {lr_auc_prg}\n",
    "* AdaBoost Classifier: {ab_auc_prg}\n",
    "\"\"\")"
   ]
  },
  {
   "cell_type": "markdown",
   "metadata": {},
   "source": [
    "I agree with the NIPS paper that AUPRG should be used, as it accounts for the negative examples."
   ]
  },
  {
   "cell_type": "code",
   "execution_count": null,
   "metadata": {},
   "outputs": [],
   "source": []
  }
 ],
 "metadata": {
  "kernelspec": {
   "display_name": "Python 3",
   "language": "python",
   "name": "python3"
  },
  "language_info": {
   "codemirror_mode": {
    "name": "ipython",
    "version": 3
   },
   "file_extension": ".py",
   "mimetype": "text/x-python",
   "name": "python",
   "nbconvert_exporter": "python",
   "pygments_lexer": "ipython3",
   "version": "3.8.1"
  }
 },
 "nbformat": 4,
 "nbformat_minor": 4
}
