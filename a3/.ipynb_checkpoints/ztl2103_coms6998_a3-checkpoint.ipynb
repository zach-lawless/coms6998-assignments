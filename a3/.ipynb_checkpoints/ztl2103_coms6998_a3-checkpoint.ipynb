{
 "cells": [
  {
   "cell_type": "markdown",
   "metadata": {
    "id": "pcxgoovc64GV"
   },
   "source": [
    "# COMS 6998 - Practical Deep Learning System Performance\n",
    "\n",
    "## Assignment 2\n",
    "* **Name**: Zach Lawless\n",
    "* **UNI**: ztl2103\n",
    "\n",
    "### Problem 1: *Adaptive Learning Rate Methods, CIFAR-10* (20 points)\n",
    "\n",
    "#### Q1: (6 points)\n",
    "\n",
    "Below are the weight update equations explained as well as a description of the hyperparameters for each of the five adaptive learning rate methods in the problem statement.  Let $\\eta$ represent the learning rate for all five learning rate methods.\n",
    "\n",
    "(Note: Referenced [this blog post](https://ruder.io/optimizing-gradient-descent/) by Sebastian Ruder.)\n",
    "\n",
    "##### -- AdaGrad --\n",
    "\n",
    "Because AdaGrad uses a different learning rate per model parameter $\\theta_i$ at time $t$, first we must show AdaGrad's per-parameter update, which will then be vectorized. Letting $g_{t,i}$ represent the partial derivative of model parameter $\\theta_i$ at time step $t$:\n",
    "\n",
    "$$ g_{t,i} = \\nabla_{\\theta}J(\\theta_{t,i}) $$\n",
    "\n",
    "Where $J$ represents the objective function we are trying to optimize over.\n",
    "\n",
    "The Stochastic Gradient Descent for each model parameter $\\theta_i$ at each time step $t$ now becomes:\n",
    "\n",
    "$$ \\theta_{t+1,i} = \\theta_{t,i} - \\eta g_{t,i} $$\n",
    "\n",
    "Each update, AdaGrad changes the learning rate $\\eta$ for each model parameter based on the past gradients for each model parameter. Let $G_t$ be an $dxd$ matrix where each diagonal element $i$, $i$ is the sum of the squares of the gradients w.r.t. $\\theta_i$ up to time step $t$\n",
    "\n",
    "$$ \\theta_{t+1, i} = \\theta_{t,i} - \\frac{\\eta}{\\sqrt{G_{t,ii} + \\epsilon}} g_{t,i} $$\n",
    "\n",
    "Here, $\\epsilon$ is a smoothing parameter so that we don't incur division by zero errors.\n",
    "\n",
    "Because $G_t$ contains the sum of squares of the gradients w.r.t $\\theta$ on the diagonal, the implementation can be vectorized by taking the matrix vector product $\\odot$ between $G_t$ and $g_t$:\n",
    "\n",
    "$$ \\theta_{t+1} = \\theta_t - \\frac{\\eta}{\\sqrt{G_t+ \\epsilon}} \\odot g_t $$\n",
    "\n",
    "##### -- RMSProp --\n",
    "\n",
    "RMSProp is identical to the first update vector of AdaDelta below (using $\\gamma$ = 0.9):\n",
    "\n",
    "$$ E[g^2]_t = 0.9 E[g^2]_{t-1} + 0.1g_t^2 $$\n",
    "\n",
    "The parameter update formula is thus:\n",
    "\n",
    "$$ \\theta_{t+1} = \\theta_t - \\frac{\\eta}{\\sqrt{E[g_t]^2 + \\epsilon}} g_t $$ \n",
    "\n",
    "##### -- RMSProp + Nesterov --\n",
    "\n",
    "Adam is essentially RMSProp with momentum. RMSProp + Nesterov momentum (also known as Nadam) takes it a step further to use Nesterov which is proven to be better than standard momentum.\n",
    "\n",
    "The momentum update rule is:\n",
    "\n",
    "$$ g_t = \\nabla _{\\theta_t}J(\\theta_t) $$\n",
    "\n",
    "$$ m_t = \\gamma m_{t-1} + \\eta g_t $$\n",
    "\n",
    "$$ \\theta_{t+1} = \\theta_t - m_t $$\n",
    "\n",
    "In the above series of formulas, $J$ is the objective funtion, $\\gamma$ is the momentum decay term, and $\\eta$ is the step size. We can combine the second into the third:\n",
    "\n",
    "$$ \\theta_{t+1} = \\theta_t - ( \\gamma m_{t-1} + \\eta g_t ) $$\n",
    "\n",
    "This shows that momentum involves taking a step in the direction of the previous momentum vector as well as a step in the direction of the current gradient.\n",
    "\n",
    "RMSProp + Nesterov allows us to take a more accurate step in the gradient direction by updating the parameters with the momentum step before computing the gradient. We thus only need to modify the gradient $g_t$ to arrive at RMSProp + Nesterov:\n",
    "\n",
    "$$ g_t = \\nabla _{\\theta_t}J(\\theta_t - \\gamma m_{t-1}) $$\n",
    "\n",
    "$$ m_t = \\gamma m_{t-1} + \\eta g_t $$\n",
    "\n",
    "$$ \\theta_{t+1} = \\theta_t - m_t $$\n",
    "\n",
    "One note from above is that we are actually apply momentum twice; once in the gradient calculation as well as in the parameter update. One way to correct for this is to apply the momentum directly to the current parameter updates as opposed to the gradient.\n",
    "\n",
    "$$ g_t = \\nabla _{\\theta_t}J(\\theta_t) $$\n",
    "\n",
    "$$ m_t = \\gamma m_{t-1} + \\eta g_t $$\n",
    "\n",
    "$$ \\theta_{t+1} = \\theta_t - ( \\gamma m_{t-1} + \\eta g_t ) $$\n",
    "\n",
    "In order to add Nesterov momentum, we can thus similarly replace the previous momentum vector with the current momentum vector.\n",
    "\n",
    "Using the Adam update formulas from below:\n",
    "\n",
    "$$ m_t = \\beta_1 m_{t-1} + (1-\\beta_1)g_t $$\n",
    "\n",
    "$$ \\hat{m}_t = \\frac{m_t}{1 - \\beta_1^t} $$\n",
    "\n",
    "$$ \\theta_{t+1} = \\theta_t - \\frac{\\eta}{\\sqrt{\\hat{v}_t} + \\epsilon} \\hat{m}_t $$\n",
    "\n",
    "Plugging $m_t$ and $\\hat{m}_t$ into the parameter update equation yields:\n",
    "\n",
    "$$ \\theta_{t+1} = \\theta_t - \\frac{\\eta}{\\sqrt{\\hat{v}_t} + \\epsilon} (\\frac{\\beta_1m_{t-1}}{1-\\beta_1^t} + \\frac{(1-\\beta_1)g_t}{1-\\beta_1^t}) $$\n",
    "\n",
    "We are still using the previous momentum vector, so to add Nesterov momentum, we simply use the current momentum vector. Simplifying and replacing $\\frac{\\beta_1m_{t-1}}{1-\\beta_1^t} = \\hat{m}_{t-1}$, we get the final RMSProp + Nesterov update formula:\n",
    "\n",
    "$$ \\theta_{t+1} = \\theta_t - \\frac{\\eta}{\\sqrt{\\hat{v}_t} + \\epsilon} (\\beta_1\\hat{m}_{t} + \\frac{(1-\\beta_1)g_t}{1-\\beta_1^t}) $$\n",
    "\n",
    "##### -- AdaDelta --\n",
    "\n",
    "AdaDelta is similar to AdaGrad but slightly different in the sense that it restricts the accumulation of all past gradients to a fixed window $w$.\n",
    "\n",
    "Instead of inefficiently storing $w$ previous squared gradients, the sum of gradients is recursively defined as a decaying average of all past squared gradients.  The running average $E[g^2]_t$ at time $t$ thus depends only on the previous average and current gradient.\n",
    "\n",
    "$$ E[g^2]_t = \\gamma E[g^2]_{t-1} + (1 - \\gamma)g_t^2 $$\n",
    "\n",
    "This is the running average ($E$) of the squared gradients ($g^2$) at time ($t$) with momentum ($\\gamma$).\n",
    "\n",
    "We can simplify the paramater update.\n",
    "\n",
    "$$\\triangle \\theta_t = -\\eta \\cdot g_t$$\n",
    "$$\\theta_{t+1} = \\theta_t + \\triangle \\theta_t $$\n",
    "\n",
    "Using the AdaGrad derived parameter update formula from above and replacing $G_t$ with $E[g^2]_t$.\n",
    "\n",
    "$$ \\Delta\\theta_t = - \\frac{\\eta}{\\sqrt{ E[g^2]_t+ \\epsilon}} g_t $$\n",
    "\n",
    "The denominator of the above formula is simply the Root Mean Squared error and can be rewritten.\n",
    "\n",
    "$$ \\Delta\\theta_t = - \\frac{\\eta}{RMS[g]_t} g_t $$\n",
    "\n",
    "The units from the above formula do not match. To fix this, we define another exponentially decaying average not of the gradients but of the parameter updates.\n",
    "\n",
    "$$ E[\\Delta\\theta^2]_t = \\gamma E[\\Delta\\theta^2]_{t-1} + (1 - \\gamma)\\Delta\\theta^2 $$\n",
    "\n",
    "The root mean square error of the parameter updates is thus:\n",
    "\n",
    "$$ RMS[\\Delta\\theta]_t = \\sqrt{E[\\Delta\\theta^2]_t + \\epsilon} $$\n",
    "\n",
    "Because the above is unknown, we can approximate it with the RMS of parameter updates until the previous time step. Replacing learning rate $\\eta$ with $RMS[\\Delta\\theta]_{t-1}$ yields:\n",
    "\n",
    "$$ \\Delta\\theta_t = - \\frac{RMS[\\Delta\\theta]_{t-1}}{RMS[g]_t} g_t $$\n",
    "\n",
    "$$ \\theta_{t+1} = \\theta_t + \\Delta \\theta_t $$\n",
    "\n",
    "##### -- Adam --\n",
    "\n",
    "Adam also computes adaptive learning rates per model parameters. Adam stores the exponentially decaying average of past squared gradients $v_t$ similarly to AdaDelta and RMSProp, but also stores the past exponentially decaying gradients $m_t$, similar to momentum.  We compute the decaying averages of past and past squared gradients $m_t% and $v_t$ respectively as follows: \n",
    "\n",
    "$$ m_t = \\beta_1 m_{t-1} + (1-\\beta_1)g_t $$\n",
    "$$ v_t = \\beta_2 v_{t-1} + (1-\\beta_2)g_t^2 $$\n",
    "\n",
    "$m_t$ and $v_t$ are estimates of the first and second moment (mean and variance) of the gradients, respectively.\n",
    "\n",
    "When $m_t$ and $v_t$ are initialized to vectors of 0s, they bias towards 0, especially in the initial time steps. In order to account for this, we take bias-corrected estimates as follows:\n",
    "\n",
    "$$ \\hat{m}_t = \\frac{m_t}{1 - \\beta_1^t} $$\n",
    "\n",
    "$$ \\hat{v}_t = \\frac{v_t}{1 - \\beta_2^t} $$\n",
    "\n",
    "Using these in the same parameter update formula as AdaDelta and RMSProp yields the final Adam update rule:\n",
    "\n",
    "$$ \\theta_{t+1} = \\theta_t - \\frac{\\eta}{\\sqrt{\\hat{v}_t} + \\epsilon} \\hat{m}_t $$\n",
    "\n",
    "AdaDelta and Adam are different from RMSProp in the sense that both of them use momentum whereas RMSProp does not.\n",
    "\n",
    "#### Q2: (5 points)\n",
    "\n",
    "Import the necessary libraries."
   ]
  },
  {
   "cell_type": "code",
   "execution_count": null,
   "metadata": {
    "colab": {
     "base_uri": "https://localhost:8080/",
     "height": 35
    },
    "id": "uFoRrdnN6uRG",
    "outputId": "2a1b7a23-ad0f-4863-9586-39459a429b9b"
   },
   "outputs": [
    {
     "data": {
      "application/vnd.google.colaboratory.intrinsic+json": {
       "type": "string"
      },
      "text/plain": [
       "'2.3.0'"
      ]
     },
     "execution_count": 2,
     "metadata": {
      "tags": []
     },
     "output_type": "execute_result"
    }
   ],
   "source": [
    "import tensorflow as tf\n",
    "from tensorflow import keras\n",
    "from tensorflow.keras.datasets import cifar10\n",
    "from tensorflow.keras import layers, Model\n",
    "from tensorflow.keras.utils import to_categorical\n",
    "\n",
    "tf.__version__"
   ]
  },
  {
   "cell_type": "markdown",
   "metadata": {
    "id": "1dV7hDl3Ob75"
   },
   "source": [
    "Validate that the GPU is available for training."
   ]
  },
  {
   "cell_type": "code",
   "execution_count": null,
   "metadata": {
    "colab": {
     "base_uri": "https://localhost:8080/",
     "height": 34
    },
    "id": "dI-OkIfYNz4r",
    "outputId": "696cac36-2f2c-4488-a519-f76b04ed5fba"
   },
   "outputs": [
    {
     "data": {
      "text/plain": [
       "[PhysicalDevice(name='/physical_device:GPU:0', device_type='GPU')]"
      ]
     },
     "execution_count": 3,
     "metadata": {
      "tags": []
     },
     "output_type": "execute_result"
    }
   ],
   "source": [
    "tf.config.list_physical_devices('GPU')"
   ]
  },
  {
   "cell_type": "markdown",
   "metadata": {
    "id": "3dzvuGtmVWGg"
   },
   "source": [
    "Load CIFAR-10 dataset and preprocess."
   ]
  },
  {
   "cell_type": "code",
   "execution_count": null,
   "metadata": {
    "colab": {
     "base_uri": "https://localhost:8080/",
     "height": 85
    },
    "id": "Wi4DlWz2VVox",
    "outputId": "fd6fc1f6-745f-4e99-bd05-8ed005853b61"
   },
   "outputs": [
    {
     "name": "stdout",
     "output_type": "stream",
     "text": [
      "Downloading data from https://www.cs.toronto.edu/~kriz/cifar-10-python.tar.gz\n",
      "170500096/170498071 [==============================] - 4s 0us/step\n",
      "(50000, 3072) (50000, 10)\n",
      "(10000, 3072) (10000, 10)\n"
     ]
    }
   ],
   "source": [
    "(x_train, y_train), (x_test, y_test) = cifar10.load_data()\n",
    "\n",
    "# Set numeric type to float32 from uint8\n",
    "x_train = x_train.astype('float32')\n",
    "x_test = x_test.astype('float32')\n",
    "\n",
    "# Normalize value to [0, 1]\n",
    "x_train /= 255\n",
    "x_test /= 255\n",
    "\n",
    "# flatten x matrices\n",
    "x_train = x_train.reshape(x_train.shape[0], -1)\n",
    "x_test = x_test.reshape(x_test.shape[0], -1)\n",
    "\n",
    "# expand y targets\n",
    "y_train = to_categorical(y_train)\n",
    "y_test = to_categorical(y_test)\n",
    "\n",
    "print(x_train.shape, y_train.shape)\n",
    "print(x_test.shape, y_test.shape)"
   ]
  },
  {
   "cell_type": "markdown",
   "metadata": {
    "id": "tx-pUMZfPL2f"
   },
   "source": [
    "Create helper function that returns model with correct architecture for questions 2 and 3."
   ]
  },
  {
   "cell_type": "code",
   "execution_count": null,
   "metadata": {
    "id": "B_lcWVOAOpbY"
   },
   "outputs": [],
   "source": [
    "def create_model(model_name, optimizer, dropout=False):\n",
    "  \"\"\" Return network for training. \"\"\"\n",
    "  \n",
    "  # define input\n",
    "  inputs = layers.Input(shape=(3072,), dtype='float32', name=f'input_{model_name}')\n",
    "\n",
    "  # add fully connected with dropout if needed\n",
    "  if dropout:\n",
    "    x = layers.Dropout(0.2, name=f'input_dropout_{model_name}')(inputs)\n",
    "    for i in range(2):\n",
    "      x = layers.Dense(1000,\n",
    "                       activation='relu',\n",
    "                       kernel_regularizer='l2',\n",
    "                       bias_regularizer='l2',\n",
    "                       name=f'dense_{i}_{model_name}')(x)\n",
    "      x = layers.Dropout(0.5, name=f'dropout_{i}_{model_name}')(x)\n",
    "  else:\n",
    "      x = layers.Dense(1000,\n",
    "                       activation='relu',\n",
    "                       kernel_regularizer='l2',\n",
    "                       bias_regularizer='l2',\n",
    "                       name=f'dense_0_{model_name}')(inputs)\n",
    "      x = layers.Dense(1000,\n",
    "                       activation='relu',\n",
    "                       kernel_regularizer='l2',\n",
    "                       bias_regularizer='l2',\n",
    "                       name=f'dense_1_{model_name}')(x)\n",
    "  \n",
    "  outputs = layers.Dense(10,\n",
    "                         activation='softmax',\n",
    "                         name=f'output_{model_name}')(x)\n",
    "  \n",
    "  model = Model(inputs=inputs, outputs=outputs, name=model_name)\n",
    "\n",
    "  # compile\n",
    "  if optimizer == 'adagrad':\n",
    "    opt = keras.optimizers.Adagrad(name=f'adagrad_{model_name}')\n",
    "  elif optimizer == 'rmsprop':\n",
    "    opt = keras.optimizers.RMSprop(name=f'rmsprop_{model_name}')\n",
    "  elif optimizer == 'nadam':\n",
    "    opt = keras.optimizers.Nadam(name=f'nadam_{model_name}')\n",
    "  elif optimizer == 'adadelta':\n",
    "    opt = keras.optimizers.Adadelta(name=f'adadelta_{model_name}')\n",
    "  elif optimizer == 'adam':\n",
    "    opt = keras.optimizers.Adam(name=f'adam_{model_name}')\n",
    "  else:\n",
    "    raise NotImplementedError\n",
    "  \n",
    "  model.compile(loss='categorical_crossentropy',\n",
    "                optimizer=opt,\n",
    "                metrics=['acc'])\n",
    "  \n",
    "  # return\n",
    "  return model"
   ]
  },
  {
   "cell_type": "markdown",
   "metadata": {
    "id": "SmFcHpDVwEha"
   },
   "source": [
    "Loop through the five optimizer options and train."
   ]
  },
  {
   "cell_type": "code",
   "execution_count": null,
   "metadata": {
    "id": "5Mfd7AhHwRsi"
   },
   "outputs": [],
   "source": [
    "from time import time"
   ]
  },
  {
   "cell_type": "code",
   "execution_count": null,
   "metadata": {
    "colab": {
     "base_uri": "https://localhost:8080/",
     "height": 102
    },
    "id": "g0yKr0N9wC1U",
    "outputId": "6e772b4a-f70d-428c-c6da-4010957d55ca"
   },
   "outputs": [
    {
     "name": "stdout",
     "output_type": "stream",
     "text": [
      "training adagrad without dropout...\n",
      "training rmsprop without dropout...\n",
      "training nadam without dropout...\n",
      "training adadelta without dropout...\n",
      "training adam without dropout...\n"
     ]
    }
   ],
   "source": [
    "OPTIMIZERS = ['adagrad', 'rmsprop', 'nadam', 'adadelta', 'adam']\n",
    "METRICS = dict()\n",
    "for opt in OPTIMIZERS:\n",
    "  print(f'training {opt} without dropout...')\n",
    "  model = create_model(model_name = opt, optimizer=opt, dropout=False)\n",
    "  t1 = time()\n",
    "  history = model.fit(x=x_train,\n",
    "                      y=y_train,\n",
    "                      epochs=200,\n",
    "                      batch_size=128,\n",
    "                      verbose=0)\n",
    "  t2 = time()\n",
    "  METRICS[opt] = {\n",
    "      'history': history,\n",
    "      'training_time': t2 - t1,\n",
    "      'test_acc': model.evaluate(x_test, y_test, return_dict=True, verbose=0)['acc']\n",
    "  }"
   ]
  },
  {
   "cell_type": "markdown",
   "metadata": {
    "id": "t0wEbLaO_37y"
   },
   "source": [
    "Plot the training loss per epoch for each optimization model."
   ]
  },
  {
   "cell_type": "code",
   "execution_count": null,
   "metadata": {
    "id": "0K7EzmUXCiZQ"
   },
   "outputs": [],
   "source": [
    "import matplotlib.pyplot as plt\n",
    "import pandas as pd\n",
    "import seaborn as sns\n",
    "sns.set_theme(style=\"darkgrid\")"
   ]
  },
  {
   "cell_type": "code",
   "execution_count": null,
   "metadata": {
    "colab": {
     "base_uri": "https://localhost:8080/",
     "height": 845
    },
    "id": "3fKM02a6_-nF",
    "outputId": "598ebfc8-85eb-4f5d-eb93-d365c9fc0f59"
   },
   "outputs": [
    {
     "name": "stdout",
     "output_type": "stream",
     "text": [
      "adagrad\n",
      "\tMinimum Training Loss: 1.5973317623138428\n",
      "\tFinal Training Loss: 1.5973317623138428\n",
      "rmsprop\n",
      "\tMinimum Training Loss: 1.9577230215072632\n",
      "\tFinal Training Loss: 1.9685896635055542\n",
      "nadam\n",
      "\tMinimum Training Loss: 1.817350149154663\n",
      "\tFinal Training Loss: 1.848476529121399\n",
      "adadelta\n",
      "\tMinimum Training Loss: 4.688837051391602\n",
      "\tFinal Training Loss: 4.688837051391602\n",
      "adam\n",
      "\tMinimum Training Loss: 1.8387531042099\n",
      "\tFinal Training Loss: 1.8734663724899292\n"
     ]
    },
    {
     "data": {
      "text/plain": [
       "Text(0.5, 1.0, 'Training Loss Per Optimizer (No Dropout)')"
      ]
     },
     "execution_count": 10,
     "metadata": {
      "tags": []
     },
     "output_type": "execute_result"
    },
    {
     "data": {
      "image/png": "[encoded data removed]",
      "text/plain": [
       "<Figure size 864x648 with 1 Axes>"
      ]
     },
     "metadata": {
      "tags": []
     },
     "output_type": "display_data"
    }
   ],
   "source": [
    "DATA = {\n",
    "    'optimizer': [],\n",
    "    'epoch': [],\n",
    "    'training_loss': []\n",
    "}\n",
    "\n",
    "for opt in METRICS.keys():\n",
    "  opt_hist = METRICS[opt]['history']\n",
    "  opt_loss = opt_hist.history['loss']\n",
    "  DATA['optimizer'] += [opt] * 200\n",
    "  DATA['epoch'] += [i+1 for i in range(200)]\n",
    "  DATA['training_loss'] += opt_loss\n",
    "  print(f'{opt}\\n\\tMinimum Training Loss: {min(opt_loss)}\\n\\tFinal Training Loss: {opt_loss[-1]}')\n",
    "\n",
    "df = pd.DataFrame(data=DATA)\n",
    "\n",
    "fig, ax = plt.subplots(figsize=(12, 9))\n",
    "sns.lineplot(x='epoch', y='training_loss', hue='optimizer', data=df)\n",
    "plt.legend(fontsize=14)\n",
    "plt.title('Training Loss Per Optimizer (No Dropout)')"
   ]
  },
  {
   "cell_type": "markdown",
   "metadata": {
    "id": "Porg4zWpG4H6"
   },
   "source": [
    "Per the line plot and diagnostics printed above, the AdaGrad optimizer achieved the smallest loss in the 200 epochs as well as finished with the smallest loss at the end of training.\n",
    "\n",
    "#### Q3: (5 points)\n",
    "\n",
    "Repeating the exercise but with dropout introduced to the networks."
   ]
  },
  {
   "cell_type": "code",
   "execution_count": null,
   "metadata": {
    "colab": {
     "base_uri": "https://localhost:8080/",
     "height": 102
    },
    "id": "457JvovWHQrB",
    "outputId": "4211d46d-596b-463a-eca4-d145a681fc42"
   },
   "outputs": [
    {
     "name": "stdout",
     "output_type": "stream",
     "text": [
      "training adagrad with dropout...\n",
      "training rmsprop with dropout...\n",
      "training nadam with dropout...\n",
      "training adadelta with dropout...\n",
      "training adam with dropout...\n"
     ]
    }
   ],
   "source": [
    "OPTIMIZERS = ['adagrad', 'rmsprop', 'nadam', 'adadelta', 'adam']\n",
    "METRICS_DROPOUT = dict()\n",
    "for opt in OPTIMIZERS:\n",
    "  print(f'training {opt} with dropout...')\n",
    "  model = create_model(model_name = opt, optimizer=opt, dropout=True)\n",
    "  t1 = time()\n",
    "  history = model.fit(x=x_train,\n",
    "                      y=y_train,\n",
    "                      epochs=200,\n",
    "                      batch_size=128,\n",
    "                      verbose=0)\n",
    "  t2 = time()\n",
    "  METRICS_DROPOUT[opt] = {\n",
    "      'history': history,\n",
    "      'training_time': t2 - t1,\n",
    "      'test_acc': model.evaluate(x_test, y_test, return_dict=True, verbose=0)['acc']\n",
    "  }"
   ]
  },
  {
   "cell_type": "code",
   "execution_count": null,
   "metadata": {
    "colab": {
     "base_uri": "https://localhost:8080/",
     "height": 845
    },
    "id": "Lou_HH2gHUwV",
    "outputId": "a4a756ce-f077-4305-9d91-e0c1a3e2ce66"
   },
   "outputs": [
    {
     "name": "stdout",
     "output_type": "stream",
     "text": [
      "adagrad\n",
      "\tMinimum Training Loss: 1.7147144079208374\n",
      "\tFinal Training Loss: 1.7147144079208374\n",
      "rmsprop\n",
      "\tMinimum Training Loss: 2.243259906768799\n",
      "\tFinal Training Loss: 2.252845525741577\n",
      "nadam\n",
      "\tMinimum Training Loss: 2.2300102710723877\n",
      "\tFinal Training Loss: 2.2887513637542725\n",
      "adadelta\n",
      "\tMinimum Training Loss: 5.573465824127197\n",
      "\tFinal Training Loss: 5.573465824127197\n",
      "adam\n",
      "\tMinimum Training Loss: 2.293626546859741\n",
      "\tFinal Training Loss: 2.3687984943389893\n"
     ]
    },
    {
     "data": {
      "text/plain": [
       "Text(0.5, 1.0, 'Training Loss Per Optimizer (With Dropout)')"
      ]
     },
     "execution_count": 12,
     "metadata": {
      "tags": []
     },
     "output_type": "execute_result"
    },
    {
     "data": {
      "image/png": "[encoded data removed]",
      "text/plain": [
       "<Figure size 864x648 with 1 Axes>"
      ]
     },
     "metadata": {
      "tags": []
     },
     "output_type": "display_data"
    }
   ],
   "source": [
    "DATA = {\n",
    "    'optimizer': [],\n",
    "    'epoch': [],\n",
    "    'training_loss': []\n",
    "}\n",
    "\n",
    "for opt in METRICS_DROPOUT.keys():\n",
    "  opt_hist = METRICS_DROPOUT[opt]['history']\n",
    "  opt_loss = opt_hist.history['loss']\n",
    "  DATA['optimizer'] += [opt] * 200\n",
    "  DATA['epoch'] += [i+1 for i in range(200)]\n",
    "  DATA['training_loss'] += opt_loss\n",
    "  print(f'{opt}\\n\\tMinimum Training Loss: {min(opt_loss)}\\n\\tFinal Training Loss: {opt_loss[-1]}')\n",
    "\n",
    "df_dropout = pd.DataFrame(data=DATA)\n",
    "\n",
    "fig, ax = plt.subplots(figsize=(12, 9))\n",
    "sns.lineplot(x='epoch', y='training_loss', hue='optimizer', data=df_dropout)\n",
    "plt.legend(fontsize=14)\n",
    "plt.title('Training Loss Per Optimizer (With Dropout)')"
   ]
  },
  {
   "cell_type": "markdown",
   "metadata": {
    "id": "ZgmcrrKrleFC"
   },
   "source": [
    "Compare non-dropout models to dropout models for training time and loss."
   ]
  },
  {
   "cell_type": "code",
   "execution_count": null,
   "metadata": {
    "colab": {
     "base_uri": "https://localhost:8080/",
     "height": 612
    },
    "id": "cFspyLAylRvU",
    "outputId": "95d30f79-4c3b-430c-b597-4148a61f42b7"
   },
   "outputs": [
    {
     "name": "stdout",
     "output_type": "stream",
     "text": [
      "--- adagrad ---\n",
      "\tTraining Time:\n",
      "\t\tNon Dropout: 415.31490755081177\n",
      "\t\tDropout: 444.38312220573425\n",
      "\tTraining Loss:\n",
      "\t\tNon Dropout: 1.5973317623138428\n",
      "\t\tDropout: 1.7147144079208374\n",
      "--- rmsprop ---\n",
      "\tTraining Time:\n",
      "\t\tNon Dropout: 554.7393670082092\n",
      "\t\tDropout: 584.0763900279999\n",
      "\tTraining Loss:\n",
      "\t\tNon Dropout: 1.9577230215072632\n",
      "\t\tDropout: 2.243259906768799\n",
      "--- nadam ---\n",
      "\tTraining Time:\n",
      "\t\tNon Dropout: 788.6662545204163\n",
      "\t\tDropout: 812.9193739891052\n",
      "\tTraining Loss:\n",
      "\t\tNon Dropout: 1.817350149154663\n",
      "\t\tDropout: 2.2300102710723877\n",
      "--- adadelta ---\n",
      "\tTraining Time:\n",
      "\t\tNon Dropout: 461.5627610683441\n",
      "\t\tDropout: 484.38758873939514\n",
      "\tTraining Loss:\n",
      "\t\tNon Dropout: 4.688837051391602\n",
      "\t\tDropout: 5.573465824127197\n",
      "--- adam ---\n",
      "\tTraining Time:\n",
      "\t\tNon Dropout: 423.1025047302246\n",
      "\t\tDropout: 448.29078125953674\n",
      "\tTraining Loss:\n",
      "\t\tNon Dropout: 1.8387531042099\n",
      "\t\tDropout: 2.293626546859741\n"
     ]
    }
   ],
   "source": [
    "for opt in OPTIMIZERS:\n",
    "  print(f'--- {opt} ---')\n",
    "\n",
    "  non_dropout_opt_metrics = METRICS[opt]\n",
    "  dropout_opt_metrics = METRICS_DROPOUT[opt]\n",
    "  print('\\tTraining Time:')\n",
    "  print(f\"\\t\\tNon Dropout: {non_dropout_opt_metrics['training_time']}\")\n",
    "  print(f\"\\t\\tDropout: {dropout_opt_metrics['training_time']}\")\n",
    "  print('\\tTraining Loss:')\n",
    "  print(f\"\\t\\tNon Dropout: {min(non_dropout_opt_metrics['history'].history['loss'])}\")\n",
    "  print(f\"\\t\\tDropout: {min(dropout_opt_metrics['history'].history['loss'])}\")"
   ]
  },
  {
   "cell_type": "markdown",
   "metadata": {
    "id": "k1kNq_nVrW-I"
   },
   "source": [
    "#### Q4: (4 points)\n",
    "\n",
    "Comparing the test accuracy for all optimizers and their respective dropout and non-dropout models."
   ]
  },
  {
   "cell_type": "code",
   "execution_count": null,
   "metadata": {
    "colab": {
     "base_uri": "https://localhost:8080/",
     "height": 357
    },
    "id": "uEvzAI0jmU6i",
    "outputId": "110d3547-1ee3-4b9f-f2df-c3d95cc79f6c"
   },
   "outputs": [
    {
     "name": "stdout",
     "output_type": "stream",
     "text": [
      "--- adagrad ---\n",
      "\tTest Accuracy:\n",
      "\t\tNon Dropout: 0.5102999806404114\n",
      "\t\tDropout: 0.4805000126361847\n",
      "--- rmsprop ---\n",
      "\tTest Accuracy:\n",
      "\t\tNon Dropout: 0.3312000036239624\n",
      "\t\tDropout: 0.25529998540878296\n",
      "--- nadam ---\n",
      "\tTest Accuracy:\n",
      "\t\tNon Dropout: 0.39750000834465027\n",
      "\t\tDropout: 0.2567000091075897\n",
      "--- adadelta ---\n",
      "\tTest Accuracy:\n",
      "\t\tNon Dropout: 0.4507000148296356\n",
      "\t\tDropout: 0.40369999408721924\n",
      "--- adam ---\n",
      "\tTest Accuracy:\n",
      "\t\tNon Dropout: 0.41760000586509705\n",
      "\t\tDropout: 0.28119999170303345\n"
     ]
    }
   ],
   "source": [
    "for opt in OPTIMIZERS:\n",
    "  print(f'--- {opt} ---')\n",
    "\n",
    "  non_dropout_opt_metrics = METRICS[opt]\n",
    "  dropout_opt_metrics = METRICS_DROPOUT[opt]\n",
    "  print('\\tTest Accuracy:')\n",
    "  print(f\"\\t\\tNon Dropout: {non_dropout_opt_metrics['test_acc']}\")\n",
    "  print(f\"\\t\\tDropout: {dropout_opt_metrics['test_acc']}\")"
   ]
  },
  {
   "cell_type": "markdown",
   "metadata": {
    "id": "lRN2TW_iGPDR"
   },
   "source": [
    "### Problem 2: *TF 2.0, tensorflow.distribute.strategy, Strong and Weak Scaling* (0 points)\n",
    "\n",
    "Not doable due to GCP limits.\n",
    "\n",
    "### Problem 3: *Convolutional Neural Networks Architectures* (30 points)\n",
    "\n",
    "#### Q1: (5 points)\n",
    "\n",
    "Below is a table depicting the inputs, outputs, and number of parameters for each layer in AlexNet (note, bias is included):\n",
    "\n",
    "| Layer | Input Size | Layer Description | Number of Parameters | Output Size |\n",
    "| -----------|------------|-------------------|----------------------|------------|\n",
    "| Input | 3 x 27 x 27 | | | 3 x 27 x 27 |\n",
    "| Convolution | 3 x 27 x 27 | 11 x 11 filter, 96 filters, stride 4 | (11 x 11 x 3 + 1) x 96 = 34944 | 96 x 55 x 55 |\n",
    "| Max Pooling | 96 x 55 x 55 | 3 x 3 filter, stride 2 | | 96 x 27 x 27 |\n",
    "| Normalizing | 96 x 27 x 27 | | | 96 x 27 x 27 |\n",
    "| Convolution | 96 x 27 x 27 | 5 x 5 filter, 256 filters, stride 1, padding 2 | (5 x 5 x 96 + 1) x 256 = 614656 | 256 x 27 x 27 |\n",
    "| Max Pooling | 256 x 27 x 27 | 3 x 3 filter, stride 2 | | 256 x 13 x 13 |\n",
    "| Normalizing | 256 x 13 x 13 | | | 256 x 13 x 13 |\n",
    "| Convolution | 256 x 13 x 13 | 3 x 3 filter, 384 filters, stride 1, padding 1 | (3 x 3 x 256 + 1) x 384 = 885120 | 384 x 13 x 13 |\n",
    "| Convolution | 384 x 13 x 13 | 3 x 3 filters, 384 filters, stride 1, padding 1 | (3 x 3 x 384 + 1) x 384 = 1327488 | 384 x 13 x 13 |\n",
    "| Convolution | 384 x 13 x 13 | 3 x 3 filters, 256 filters, stride 1, padding 1 | (3 x 3 x 384 + 1) x 256 = 884992 | 256 x 13 x 13 |\n",
    "| Max Pooling | 256 x 13 x 13 | 3 x 3 filter, stride 2 | | 256 x 6 x 6 |\n",
    "| Dense | 256 x 6 x 6 | 4096 units | 256 x 6 x 6 x 4096 = 37748736 | 4096 |\n",
    "| Dense | 4096 | 4096 units | 4096 x 4096 = 16777216 | 4096 |\n",
    "| Dense | 4096 | 1000 units | 4096 x 1000 = 4096000 | 1000 |\n",
    "\n",
    "Summing the Number of Parameters columns shows that AlexNet in total contains 62369152 learning parameters.\n",
    "\n",
    "#### Q2: (6 points)\n",
    "\n",
    "The completed VGG19 memory and weights table follows.\n",
    "\n",
    "| Layer | Number of Activations (Memory) | Parameters (Compute) |\n",
    "|-------|--------------------------------|----------------------|\n",
    "| Input | 224 x 224 x 3 = 150K | 0 |\n",
    "| CONV3-64 | 224 x 224 x 64 = 3.2M | (3 x 3 x 3) x 64 = 1728 |\n",
    "| CONV3-64 | 224 x 224 x 64 = 3.2M | (3 x 3 x 64) x 64 = 36864 |\n",
    "| POOL2 | 112 x 112 x 64 = 800K | 0 |\n",
    "| CONV3-128 | 112 x 112 x 128 = 1.6M | (3 x 3 x 64) x 128 = 73728 |\n",
    "| CONV3-128 | 112 x 112 x 128 = 1.6M | (3 x 3 x 128) x 128 = 147456 |\n",
    "| POOL2 | 56 x 56 x 128 = 400K | 0 |\n",
    "| CONV3-256 | 56 x 56 x 256 = 800K | (3 x 3 x 128) x 256 = 294912 |\n",
    "| CONV3-256 | 56 x 56 x 256 = 800K | (3 x 3 x 256) x 256 = 589824 |\n",
    "| CONV3-256 | 56 x 56 x 256 = 800K | (3 x 3 x 256) x 256 = 589824 |\n",
    "| CONV3-256 | 56 x 56 x 256 = 800K | (3 x 3 x 256) x 256 = 589824 |\n",
    "| POOL2 | 28 x 28 x 256 = 200K | 0 |\n",
    "| CONV3-512 | 28 x 28 x 512 = 400K | (3 x 3 x 256) x 512 = 1179648 |\n",
    "| CONV3-512 | 28 x 28 x 512 = 400K | (3 x 3 x 512) x 512 = 2359296 |\n",
    "| CONV3-512 | 28 x 28 x 512 = 400K | (3 x 3 x 512) x 512 = 2359296 |\n",
    "| CONV3-512 | 28 x 28 x 512 = 400K | (3 x 3 x 512) x 512 = 2359296 |\n",
    "| POOL2 | 14 x 14 x 512 = 100K | 0 |\n",
    "| CONV3-512 | 14 x 14 x 512 = 100K | (3 x 3 x 512) x 512 = 2359296 |\n",
    "| CONV3-512 | 14 x 14 x 512 = 100K | (3 x 3 x 512) x 512 = 2359296 |\n",
    "| CONV3-512 | 14 x 14 x 512 = 100K | (3 x 3 x 512) x 512 = 2359296 |\n",
    "| CONV3-512 | 14 x 14 x 512 = 100K | (3 x 3 x 512) x 512 = 2359296 |\n",
    "| POOL2 | 7 x 7 x 512 = 25K | 0 |\n",
    "| FC | 4096 | (7 x 7 x 512) x 4096 = 102760448 |\n",
    "| FC | 4096 | 4096 x 4096 = 16777216 |\n",
    "| FC | 1000 | 4096 x 1000 = 4096000 |\n",
    "| TOTAL | 16M | 143652544 |\n",
    "\n",
    "#### Q3: (4 points)\n",
    "\n",
    "Knowing that the output of an convolution activation field is $L - F + 1$ where $L$ and $F$ are the length of the input image (assuming square) and convolution filter size (assuming square as well) respectively, we can start the proof by induction.\n",
    "\n",
    "The first of $N$ successive stacks of convolutions on an $F x F$ filter results in an output activation map of:\n",
    "\n",
    "$$ L - F + 1 $$\n",
    "\n",
    "Repeating the convolution on this output yields:\n",
    "\n",
    "$$ (L - F + 1) - F + 1 = L - 2F + 2 $$\n",
    "\n",
    "Repeating a third time results in:\n",
    "\n",
    "$$ (L - 2F + 2) - F + 1 = L - 3F + 3 $$\n",
    "\n",
    "It is easy to see that stacking $N$ convolution filters successively results in an output activation size $ L - NF + N $.\n",
    "\n",
    "Now, looking at one convolution of filter size $ (NF - N + 1) $ yields:\n",
    "\n",
    "$$ L - (NF - N + 1) + 1 = L - NF + N $$\n",
    "\n",
    "This is the same as above and the proof is correct.\n",
    "\n",
    "Using the formula to calculate the output of 3 successive 5 x 5 filters results in an output size of:\n",
    "\n",
    "$$ L - 3 x 5 + 3 = L - 12 $$\n",
    "\n",
    "Using CIFAR-10 32x32 images as an example, the output size of 3 5x5 filters on this dataset would be a 20 x 20 feature map.\n",
    "\n",
    "#### Q4: \n",
    "\n",
    "##### a: (3 points)\n",
    "\n",
    "The general idea behind an inception module is to preserve local feature correlations of various sizes while also maintaining the sparsity that leads to reasonable training time and model size. Inception modules can be thought of as a dimensionality reduction technique within network while still allowing for state-of-the-art model performance.\n",
    "\n",
    "##### b: (4 points)\n",
    "\n",
    "For the naive version and the dimensionality reduction version, we zero-pad each convolution so that they can be concatenated together.\n",
    "\n",
    "For the naive Inception module, the output of the three convolution branches and one max pooling branch are $32x32x128$, $32x32x192$, $32x32x96$, and $32x32x256$ respectively. This results in a dimension of $32x32x672$ coming out of the concatenation layer.\n",
    "\n",
    "As for the dimensionality reduction module, the output of the three convolution branches and one max pooling branch are $32x32x128$, $32x32x192$, $32x32x96$, and $32x32x64$ respectively. This results in a dimension of $32x32x480$ coming out of the concatenation layer.\n",
    "\n",
    "##### c: (4 points)\n",
    "\n",
    "For the Naive architecture:\n",
    "\n",
    "```\n",
    "# First Convolution Block\n",
    "(32 x 32) x (1 x 1 x 256) x 128 = 33,554,432 Multiplications\n",
    "\n",
    "# Second Convolution Block\n",
    "(32 x 32) x (3 x 3 x 256) x 192 = 452,984,832 Multiplications\n",
    "\n",
    "# Third Convolution Block\n",
    "(32 x 32) x (5 x 5 x 256) x 96 = 629,145,600 Multiplications\n",
    "\n",
    "TOTAL = 33,554,432 + 452,984,832 + 629,145,600 = 1.11B Multiplications\n",
    "```\n",
    "\n",
    "For the Dimensionality Reduction architecture\n",
    "\n",
    "```\n",
    "# First Convolution Block\n",
    "(32 x 32) x (1 x 1 x 256) x 128 = 33,554,432 Multiplications\n",
    "\n",
    "# Second Convolution Block\n",
    "(32 x 32) x (1 x 1 x 256) x 128 = 33,554,432 Multiplications\n",
    "(32 x 32) x (3 x 3 x 128) x 192 = 226,492,416 Multiplications\n",
    "\n",
    "# Third Convolution Block\n",
    "(32 x 32) x (1 x 1 x 256) x 32 = 8,388,608 Multiplications\n",
    "(32 x 32) x (5 x 5 x 32) x 96 = 78,643,200 Multiplications\n",
    "\n",
    "# Max Pooling Block\n",
    "(32 x 32) x (1 x 1 x 256) x 64 = 16,777,216 Multiplications\n",
    "\n",
    "TOTAL = 33,554,432 + (33,554,432 + 226,492,416) + (8,388,608 + 78,643,200) + 16,777,216 = 397M Multiplications\n",
    "```\n",
    "\n",
    "##### d: (4 points)\n",
    "\n",
    "The naive architecture still generates a lot of parameters despite the attempt to go \"wide\" instead of \"deep\". The dimensionality reduction architecture helps in this by first reducing the dimension with $n$ smaller $1x1$ filters where $n$ is less than the input dimension of the Inception module.\n",
    "\n",
    "Based on the calculations from part c, the dimensionality reduction architecture reduces the number of multiplications needed in the naive architecture by a factor of roughly 3.\n",
    "\n",
    "### Problem 4: *Batch Augmentation, Cutout Regularization* (20 points)\n",
    "\n",
    "#### Q1: (6 points)\n",
    "\n",
    "Cutout regularization has a few advantages over simple dropout when applied to computer vision. In general, convolutional layers have fewer parameters than dense layers, and thus don't need as much regularization. Also, the neighboring features (pixels) in images often contain the same or very similar information, and applying dropout on these images doesn't result in the averaging effect observed in dense layers. Cutout also has a pleasant property in that the regularization technique is applied at input and no where else in the network, which in turn requires zero model adaptation at inference. Appling cutout at the input cascades the cutout throughout the network's feature maps inherently as if dropout were being applied to the same features regardless of feature map, which is different than the random nature of dropout from layer to layer not continuing the feature masking from prior layers.\n",
    "\n",
    "Below are two examples of images from CIFAR-10 before and after Cutout has been applied.\n"
   ]
  },
  {
   "cell_type": "code",
   "execution_count": 1,
   "metadata": {
    "colab": {
     "base_uri": "https://localhost:8080/"
    },
    "id": "x7geGzayruQf",
    "outputId": "2559be5a-3034-4ac7-93f2-f5466af7a929"
   },
   "outputs": [
    {
     "name": "stdout",
     "output_type": "stream",
     "text": [
      "Downloading data from https://www.cs.toronto.edu/~kriz/cifar-10-python.tar.gz\n",
      "170500096/170498071 [==============================] - 4s 0us/step\n"
     ]
    }
   ],
   "source": [
    "import matplotlib.pyplot as plt\n",
    "import numpy as np\n",
    "from tensorflow.keras.datasets import cifar10\n",
    "\n",
    "(x_train, y_train), (x_test, y_test) = cifar10.load_data()\n",
    "\n",
    "# Set numeric type to float32 from uint8\n",
    "x_train = x_train.astype('float32')\n",
    "x_test = x_test.astype('float32')\n",
    "\n",
    "# Normalize value to [0, 1]\n",
    "x_train /= 255\n",
    "x_test /= 255"
   ]
  },
  {
   "cell_type": "code",
   "execution_count": 2,
   "metadata": {
    "id": "uM66tMDqqbaP"
   },
   "outputs": [],
   "source": [
    "# Create a function to apply cutout to an image\n",
    "def cutout(img, length, n_holes=1):\n",
    "  \"\"\"\n",
    "  Args:\n",
    "      img (np.ndarray): image of size (H, W, C).\n",
    "  Returns:\n",
    "      Tensor: Image with n_holes of dimension length x length cut out of it.\n",
    "  \"\"\"\n",
    "  h = img.shape[0]\n",
    "  w = img.shape[1]\n",
    "\n",
    "  mask = np.ones((h, w), np.float32)\n",
    "\n",
    "  for n in range(n_holes):\n",
    "      y = np.random.randint(h)\n",
    "      x = np.random.randint(w)\n",
    "\n",
    "      y1 = np.clip(y - length // 2, 0, h)\n",
    "      y2 = np.clip(y + length // 2, 0, h)\n",
    "      x1 = np.clip(x - length // 2, 0, w)\n",
    "      x2 = np.clip(x + length // 2, 0, w)\n",
    "\n",
    "      mask[y1: y2, x1: x2] = 0.\n",
    "\n",
    "  mask = np.expand_dims(mask, axis=2)\n",
    "  mask = np.repeat(mask, repeats=3, axis=2)\n",
    "  img = img * mask\n",
    "\n",
    "  return img"
   ]
  },
  {
   "cell_type": "code",
   "execution_count": 3,
   "metadata": {
    "colab": {
     "base_uri": "https://localhost:8080/",
     "height": 700
    },
    "id": "NH6UKAyazDRw",
    "outputId": "596bed18-6cb8-419c-b306-5d1809ea1efa"
   },
   "outputs": [
    {
     "data": {
      "image/png": "[encoded data removed]",
      "text/plain": [
       "<Figure size 864x864 with 4 Axes>"
      ]
     },
     "metadata": {
      "needs_background": "light",
      "tags": []
     },
     "output_type": "display_data"
    }
   ],
   "source": [
    "fig, ((ax1, ax2), (ax3, ax4)) = plt.subplots(2, 2, figsize=(12, 12))\n",
    "ax1.imshow(x_train[7])\n",
    "ax2.imshow(cutout(x_train[7], length=12))\n",
    "ax3.imshow(x_train[3])\n",
    "ax4.imshow(cutout(x_train[3], length=12))\n",
    "plt.show()"
   ]
  },
  {
   "cell_type": "markdown",
   "metadata": {
    "id": "sie9Z6OaI_Vj"
   },
   "source": [
    "#### Q2: (4 points)\n",
    "\n",
    "Using [this website](https://keras.io/zh/examples/cifar10_resnet/) as reference.\n",
    "\n",
    "Create a helper function to build a `ResNet` layer."
   ]
  },
  {
   "cell_type": "code",
   "execution_count": 4,
   "metadata": {
    "id": "TDtKE1_pJC1p"
   },
   "outputs": [],
   "source": [
    "import tensorflow as tf\n",
    "from tensorflow import keras\n",
    "from tensorflow.keras.layers import Dense, Conv2D, BatchNormalization, Activation\n",
    "from tensorflow.keras.layers import AveragePooling2D, Input, Flatten\n",
    "from tensorflow.keras.optimizers import Adam\n",
    "from tensorflow.keras.callbacks import LearningRateScheduler, ReduceLROnPlateau, EarlyStopping\n",
    "from tensorflow.keras.preprocessing.image import ImageDataGenerator\n",
    "from tensorflow.keras.regularizers import l2\n",
    "from tensorflow.keras import backend as K\n",
    "from tensorflow.keras.models import Model\n",
    "from tensorflow.keras.datasets import cifar10\n",
    "import numpy as np\n",
    "import os"
   ]
  },
  {
   "cell_type": "code",
   "execution_count": 5,
   "metadata": {
    "id": "FC0fphDoEHfo"
   },
   "outputs": [],
   "source": [
    "def resnet_layer(inputs,\n",
    "                 num_filters=16,\n",
    "                 kernel_size=3,\n",
    "                 strides=1,\n",
    "                 activation='relu',\n",
    "                 batch_normalization=True,\n",
    "                 conv_first=True):\n",
    "    \"\"\"2D Convolution-Batch Normalization-Activation stack builder\n",
    "\n",
    "    # Arguments\n",
    "        inputs (tensor): input tensor from input image or previous layer\n",
    "        num_filters (int): Conv2D number of filters\n",
    "        kernel_size (int): Conv2D square kernel dimensions\n",
    "        strides (int): Conv2D square stride dimensions\n",
    "        activation (string): activation name\n",
    "        batch_normalization (bool): whether to include batch normalization\n",
    "        conv_first (bool): conv-bn-activation (True) or\n",
    "            bn-activation-conv (False)\n",
    "\n",
    "    # Returns\n",
    "        x (tensor): tensor as input to the next layer\n",
    "    \"\"\"\n",
    "    conv = Conv2D(num_filters,\n",
    "                  kernel_size=kernel_size,\n",
    "                  strides=strides,\n",
    "                  padding='same',\n",
    "                  kernel_initializer='he_normal',\n",
    "                  kernel_regularizer=l2(1e-4))\n",
    "\n",
    "    x = inputs\n",
    "    if conv_first:\n",
    "        x = conv(x)\n",
    "        if batch_normalization:\n",
    "            x = BatchNormalization()(x)\n",
    "        if activation is not None:\n",
    "            x = Activation(activation)(x)\n",
    "    else:\n",
    "        if batch_normalization:\n",
    "            x = BatchNormalization()(x)\n",
    "        if activation is not None:\n",
    "            x = Activation(activation)(x)\n",
    "        x = conv(x)\n",
    "    return x"
   ]
  },
  {
   "cell_type": "markdown",
   "metadata": {
    "id": "KqiRcZ4uEnYa"
   },
   "source": [
    "Create a function to build the `ResNet-44 V1` model."
   ]
  },
  {
   "cell_type": "code",
   "execution_count": 6,
   "metadata": {
    "id": "Ujig8LoEEw0E"
   },
   "outputs": [],
   "source": [
    "def resnet_v1(input_shape, depth, num_classes=10):\n",
    "    \"\"\"ResNet Version 1 Model builder [a]\n",
    "\n",
    "    Stacks of 2 x (3 x 3) Conv2D-BN-ReLU\n",
    "    Last ReLU is after the shortcut connection.\n",
    "    At the beginning of each stage, the feature map size is halved (downsampled)\n",
    "    by a convolutional layer with strides=2, while the number of filters is\n",
    "    doubled. Within each stage, the layers have the same number filters and the\n",
    "    same number of filters.\n",
    "    Features maps sizes:\n",
    "    stage 0: 32x32, 16\n",
    "    stage 1: 16x16, 32\n",
    "    stage 2:  8x8,  64\n",
    "    The Number of parameters is approx the same as Table 6 of [a]:\n",
    "    ResNet20 0.27M\n",
    "    ResNet32 0.46M\n",
    "    ResNet44 0.66M\n",
    "    ResNet56 0.85M\n",
    "    ResNet110 1.7M\n",
    "\n",
    "    # Arguments\n",
    "        input_shape (tensor): shape of input image tensor\n",
    "        depth (int): number of core convolutional layers\n",
    "        num_classes (int): number of classes (CIFAR10 has 10)\n",
    "\n",
    "    # Returns\n",
    "        model (Model): Keras model instance\n",
    "    \"\"\"\n",
    "    if (depth - 2) % 6 != 0:\n",
    "        raise ValueError('depth should be 6n+2 (eg 20, 32, 44 in [a])')\n",
    "    # Start model definition.\n",
    "    num_filters = 16\n",
    "    num_res_blocks = int((depth - 2) / 6)\n",
    "\n",
    "    inputs = Input(shape=input_shape)\n",
    "    x = resnet_layer(inputs=inputs)\n",
    "    # Instantiate the stack of residual units\n",
    "    for stack in range(3):\n",
    "        for res_block in range(num_res_blocks):\n",
    "            strides = 1\n",
    "            if stack > 0 and res_block == 0:  # first layer but not first stack\n",
    "                strides = 2  # downsample\n",
    "            y = resnet_layer(inputs=x,\n",
    "                             num_filters=num_filters,\n",
    "                             strides=strides)\n",
    "            y = resnet_layer(inputs=y,\n",
    "                             num_filters=num_filters,\n",
    "                             activation=None)\n",
    "            if stack > 0 and res_block == 0:  # first layer but not first stack\n",
    "                # linear projection residual shortcut connection to match\n",
    "                # changed dims\n",
    "                x = resnet_layer(inputs=x,\n",
    "                                 num_filters=num_filters,\n",
    "                                 kernel_size=1,\n",
    "                                 strides=strides,\n",
    "                                 activation=None,\n",
    "                                 batch_normalization=False)\n",
    "            x = keras.layers.add([x, y])\n",
    "            x = Activation('relu')(x)\n",
    "        num_filters *= 2\n",
    "\n",
    "    # Add classifier on top.\n",
    "    # v1 does not use BN after last shortcut connection-ReLU\n",
    "    x = AveragePooling2D(pool_size=8)(x)\n",
    "    y = Flatten()(x)\n",
    "    outputs = Dense(num_classes,\n",
    "                    activation='softmax',\n",
    "                    kernel_initializer='he_normal')(y)\n",
    "\n",
    "    # Instantiate model.\n",
    "    model = Model(inputs=inputs, outputs=outputs)\n",
    "    return model"
   ]
  },
  {
   "cell_type": "markdown",
   "metadata": {
    "id": "PVPVYddrFMgq"
   },
   "source": [
    "Set up some global training parameters."
   ]
  },
  {
   "cell_type": "code",
   "execution_count": 7,
   "metadata": {
    "id": "MKrJKThJFPaT"
   },
   "outputs": [],
   "source": [
    "# Training parameters\n",
    "batch_size = 64\n",
    "epochs = 200\n",
    "data_augmentation = True\n",
    "num_classes = 10\n",
    "\n",
    "# Subtracting pixel mean improves accuracy\n",
    "subtract_pixel_mean = True\n",
    "\n",
    "# which version of ResNet to use\n",
    "version = 1\n",
    "\n",
    "# Calculate n, depth for ResNet 44\n",
    "n = 7\n",
    "depth = n * 6 + 2\n",
    "\n",
    "# Model name, depth and version\n",
    "model_type = 'ResNet%dv%d' % (depth, version)"
   ]
  },
  {
   "cell_type": "markdown",
   "metadata": {
    "id": "UEUFqQCjGnyN"
   },
   "source": [
    "Reload CIFAR-10 and perform standard normalization and `to_categorical` operations."
   ]
  },
  {
   "cell_type": "code",
   "execution_count": 8,
   "metadata": {
    "colab": {
     "base_uri": "https://localhost:8080/"
    },
    "id": "xT7VWOrRGvG2",
    "outputId": "bb02f633-a74b-43f1-fea1-b9a1d20a7ede"
   },
   "outputs": [
    {
     "name": "stdout",
     "output_type": "stream",
     "text": [
      "x_train shape: (50000, 32, 32, 3)\n",
      "50000 train samples\n",
      "10000 test samples\n",
      "y_train shape: (50000, 1)\n"
     ]
    }
   ],
   "source": [
    "# Load the CIFAR10 data.\n",
    "(x_train, y_train), (x_test, y_test) = cifar10.load_data()\n",
    "\n",
    "# Input image dimensions.\n",
    "input_shape = x_train.shape[1:]\n",
    "\n",
    "# Normalize data.\n",
    "x_train = x_train.astype('float32') / 255\n",
    "x_test = x_test.astype('float32') / 255\n",
    "\n",
    "# If subtract pixel mean is enabled\n",
    "if subtract_pixel_mean:\n",
    "    x_train_mean = np.mean(x_train, axis=0)\n",
    "    x_train -= x_train_mean\n",
    "    x_test -= x_train_mean\n",
    "\n",
    "print('x_train shape:', x_train.shape)\n",
    "print(x_train.shape[0], 'train samples')\n",
    "print(x_test.shape[0], 'test samples')\n",
    "print('y_train shape:', y_train.shape)\n",
    "\n",
    "# Convert class vectors to binary class matrices.\n",
    "y_train = keras.utils.to_categorical(y_train, num_classes)\n",
    "y_test = keras.utils.to_categorical(y_test, num_classes)"
   ]
  },
  {
   "cell_type": "markdown",
   "metadata": {
    "id": "ozbE8Y4jHBXO"
   },
   "source": [
    "Set up learning rate decay with scheduler."
   ]
  },
  {
   "cell_type": "code",
   "execution_count": 9,
   "metadata": {
    "id": "Oxh-2l-GHE50"
   },
   "outputs": [],
   "source": [
    "def lr_schedule(epoch):\n",
    "    \"\"\"Learning Rate Schedule\n",
    "\n",
    "    Learning rate is scheduled to be reduced after 80, 120, 160, 180 epochs.\n",
    "    Called automatically every epoch as part of callbacks during training.\n",
    "\n",
    "    # Arguments\n",
    "        epoch (int): The number of epochs\n",
    "\n",
    "    # Returns\n",
    "        lr (float32): learning rate\n",
    "    \"\"\"\n",
    "    lr = 1e-3\n",
    "    if epoch > 180:\n",
    "        lr *= 0.5e-3\n",
    "    elif epoch > 160:\n",
    "        lr *= 1e-3\n",
    "    elif epoch > 120:\n",
    "        lr *= 1e-2\n",
    "    elif epoch > 80:\n",
    "        lr *= 1e-1\n",
    "    print('Learning rate: ', lr)\n",
    "    return lr"
   ]
  },
  {
   "cell_type": "markdown",
   "metadata": {
    "id": "QhpnjaIsHJCU"
   },
   "source": [
    "Build model."
   ]
  },
  {
   "cell_type": "code",
   "execution_count": 10,
   "metadata": {
    "colab": {
     "base_uri": "https://localhost:8080/"
    },
    "id": "b2_csb5uHHR9",
    "outputId": "1568d972-2b9c-41ff-893b-d979c870fd21"
   },
   "outputs": [
    {
     "name": "stdout",
     "output_type": "stream",
     "text": [
      "Learning rate:  0.001\n",
      "Model: \"functional_1\"\n",
      "__________________________________________________________________________________________________\n",
      "Layer (type)                    Output Shape         Param #     Connected to                     \n",
      "==================================================================================================\n",
      "input_1 (InputLayer)            [(None, 32, 32, 3)]  0                                            \n",
      "__________________________________________________________________________________________________\n",
      "conv2d (Conv2D)                 (None, 32, 32, 16)   448         input_1[0][0]                    \n",
      "__________________________________________________________________________________________________\n",
      "batch_normalization (BatchNorma (None, 32, 32, 16)   64          conv2d[0][0]                     \n",
      "__________________________________________________________________________________________________\n",
      "activation (Activation)         (None, 32, 32, 16)   0           batch_normalization[0][0]        \n",
      "__________________________________________________________________________________________________\n",
      "conv2d_1 (Conv2D)               (None, 32, 32, 16)   2320        activation[0][0]                 \n",
      "__________________________________________________________________________________________________\n",
      "batch_normalization_1 (BatchNor (None, 32, 32, 16)   64          conv2d_1[0][0]                   \n",
      "__________________________________________________________________________________________________\n",
      "activation_1 (Activation)       (None, 32, 32, 16)   0           batch_normalization_1[0][0]      \n",
      "__________________________________________________________________________________________________\n",
      "conv2d_2 (Conv2D)               (None, 32, 32, 16)   2320        activation_1[0][0]               \n",
      "__________________________________________________________________________________________________\n",
      "batch_normalization_2 (BatchNor (None, 32, 32, 16)   64          conv2d_2[0][0]                   \n",
      "__________________________________________________________________________________________________\n",
      "add (Add)                       (None, 32, 32, 16)   0           activation[0][0]                 \n",
      "                                                                 batch_normalization_2[0][0]      \n",
      "__________________________________________________________________________________________________\n",
      "activation_2 (Activation)       (None, 32, 32, 16)   0           add[0][0]                        \n",
      "__________________________________________________________________________________________________\n",
      "conv2d_3 (Conv2D)               (None, 32, 32, 16)   2320        activation_2[0][0]               \n",
      "__________________________________________________________________________________________________\n",
      "batch_normalization_3 (BatchNor (None, 32, 32, 16)   64          conv2d_3[0][0]                   \n",
      "__________________________________________________________________________________________________\n",
      "activation_3 (Activation)       (None, 32, 32, 16)   0           batch_normalization_3[0][0]      \n",
      "__________________________________________________________________________________________________\n",
      "conv2d_4 (Conv2D)               (None, 32, 32, 16)   2320        activation_3[0][0]               \n",
      "__________________________________________________________________________________________________\n",
      "batch_normalization_4 (BatchNor (None, 32, 32, 16)   64          conv2d_4[0][0]                   \n",
      "__________________________________________________________________________________________________\n",
      "add_1 (Add)                     (None, 32, 32, 16)   0           activation_2[0][0]               \n",
      "                                                                 batch_normalization_4[0][0]      \n",
      "__________________________________________________________________________________________________\n",
      "activation_4 (Activation)       (None, 32, 32, 16)   0           add_1[0][0]                      \n",
      "__________________________________________________________________________________________________\n",
      "conv2d_5 (Conv2D)               (None, 32, 32, 16)   2320        activation_4[0][0]               \n",
      "__________________________________________________________________________________________________\n",
      "batch_normalization_5 (BatchNor (None, 32, 32, 16)   64          conv2d_5[0][0]                   \n",
      "__________________________________________________________________________________________________\n",
      "activation_5 (Activation)       (None, 32, 32, 16)   0           batch_normalization_5[0][0]      \n",
      "__________________________________________________________________________________________________\n",
      "conv2d_6 (Conv2D)               (None, 32, 32, 16)   2320        activation_5[0][0]               \n",
      "__________________________________________________________________________________________________\n",
      "batch_normalization_6 (BatchNor (None, 32, 32, 16)   64          conv2d_6[0][0]                   \n",
      "__________________________________________________________________________________________________\n",
      "add_2 (Add)                     (None, 32, 32, 16)   0           activation_4[0][0]               \n",
      "                                                                 batch_normalization_6[0][0]      \n",
      "__________________________________________________________________________________________________\n",
      "activation_6 (Activation)       (None, 32, 32, 16)   0           add_2[0][0]                      \n",
      "__________________________________________________________________________________________________\n",
      "conv2d_7 (Conv2D)               (None, 32, 32, 16)   2320        activation_6[0][0]               \n",
      "__________________________________________________________________________________________________\n",
      "batch_normalization_7 (BatchNor (None, 32, 32, 16)   64          conv2d_7[0][0]                   \n",
      "__________________________________________________________________________________________________\n",
      "activation_7 (Activation)       (None, 32, 32, 16)   0           batch_normalization_7[0][0]      \n",
      "__________________________________________________________________________________________________\n",
      "conv2d_8 (Conv2D)               (None, 32, 32, 16)   2320        activation_7[0][0]               \n",
      "__________________________________________________________________________________________________\n",
      "batch_normalization_8 (BatchNor (None, 32, 32, 16)   64          conv2d_8[0][0]                   \n",
      "__________________________________________________________________________________________________\n",
      "add_3 (Add)                     (None, 32, 32, 16)   0           activation_6[0][0]               \n",
      "                                                                 batch_normalization_8[0][0]      \n",
      "__________________________________________________________________________________________________\n",
      "activation_8 (Activation)       (None, 32, 32, 16)   0           add_3[0][0]                      \n",
      "__________________________________________________________________________________________________\n",
      "conv2d_9 (Conv2D)               (None, 32, 32, 16)   2320        activation_8[0][0]               \n",
      "__________________________________________________________________________________________________\n",
      "batch_normalization_9 (BatchNor (None, 32, 32, 16)   64          conv2d_9[0][0]                   \n",
      "__________________________________________________________________________________________________\n",
      "activation_9 (Activation)       (None, 32, 32, 16)   0           batch_normalization_9[0][0]      \n",
      "__________________________________________________________________________________________________\n",
      "conv2d_10 (Conv2D)              (None, 32, 32, 16)   2320        activation_9[0][0]               \n",
      "__________________________________________________________________________________________________\n",
      "batch_normalization_10 (BatchNo (None, 32, 32, 16)   64          conv2d_10[0][0]                  \n",
      "__________________________________________________________________________________________________\n",
      "add_4 (Add)                     (None, 32, 32, 16)   0           activation_8[0][0]               \n",
      "                                                                 batch_normalization_10[0][0]     \n",
      "__________________________________________________________________________________________________\n",
      "activation_10 (Activation)      (None, 32, 32, 16)   0           add_4[0][0]                      \n",
      "__________________________________________________________________________________________________\n",
      "conv2d_11 (Conv2D)              (None, 32, 32, 16)   2320        activation_10[0][0]              \n",
      "__________________________________________________________________________________________________\n",
      "batch_normalization_11 (BatchNo (None, 32, 32, 16)   64          conv2d_11[0][0]                  \n",
      "__________________________________________________________________________________________________\n",
      "activation_11 (Activation)      (None, 32, 32, 16)   0           batch_normalization_11[0][0]     \n",
      "__________________________________________________________________________________________________\n",
      "conv2d_12 (Conv2D)              (None, 32, 32, 16)   2320        activation_11[0][0]              \n",
      "__________________________________________________________________________________________________\n",
      "batch_normalization_12 (BatchNo (None, 32, 32, 16)   64          conv2d_12[0][0]                  \n",
      "__________________________________________________________________________________________________\n",
      "add_5 (Add)                     (None, 32, 32, 16)   0           activation_10[0][0]              \n",
      "                                                                 batch_normalization_12[0][0]     \n",
      "__________________________________________________________________________________________________\n",
      "activation_12 (Activation)      (None, 32, 32, 16)   0           add_5[0][0]                      \n",
      "__________________________________________________________________________________________________\n",
      "conv2d_13 (Conv2D)              (None, 32, 32, 16)   2320        activation_12[0][0]              \n",
      "__________________________________________________________________________________________________\n",
      "batch_normalization_13 (BatchNo (None, 32, 32, 16)   64          conv2d_13[0][0]                  \n",
      "__________________________________________________________________________________________________\n",
      "activation_13 (Activation)      (None, 32, 32, 16)   0           batch_normalization_13[0][0]     \n",
      "__________________________________________________________________________________________________\n",
      "conv2d_14 (Conv2D)              (None, 32, 32, 16)   2320        activation_13[0][0]              \n",
      "__________________________________________________________________________________________________\n",
      "batch_normalization_14 (BatchNo (None, 32, 32, 16)   64          conv2d_14[0][0]                  \n",
      "__________________________________________________________________________________________________\n",
      "add_6 (Add)                     (None, 32, 32, 16)   0           activation_12[0][0]              \n",
      "                                                                 batch_normalization_14[0][0]     \n",
      "__________________________________________________________________________________________________\n",
      "activation_14 (Activation)      (None, 32, 32, 16)   0           add_6[0][0]                      \n",
      "__________________________________________________________________________________________________\n",
      "conv2d_15 (Conv2D)              (None, 16, 16, 32)   4640        activation_14[0][0]              \n",
      "__________________________________________________________________________________________________\n",
      "batch_normalization_15 (BatchNo (None, 16, 16, 32)   128         conv2d_15[0][0]                  \n",
      "__________________________________________________________________________________________________\n",
      "activation_15 (Activation)      (None, 16, 16, 32)   0           batch_normalization_15[0][0]     \n",
      "__________________________________________________________________________________________________\n",
      "conv2d_16 (Conv2D)              (None, 16, 16, 32)   9248        activation_15[0][0]              \n",
      "__________________________________________________________________________________________________\n",
      "conv2d_17 (Conv2D)              (None, 16, 16, 32)   544         activation_14[0][0]              \n",
      "__________________________________________________________________________________________________\n",
      "batch_normalization_16 (BatchNo (None, 16, 16, 32)   128         conv2d_16[0][0]                  \n",
      "__________________________________________________________________________________________________\n",
      "add_7 (Add)                     (None, 16, 16, 32)   0           conv2d_17[0][0]                  \n",
      "                                                                 batch_normalization_16[0][0]     \n",
      "__________________________________________________________________________________________________\n",
      "activation_16 (Activation)      (None, 16, 16, 32)   0           add_7[0][0]                      \n",
      "__________________________________________________________________________________________________\n",
      "conv2d_18 (Conv2D)              (None, 16, 16, 32)   9248        activation_16[0][0]              \n",
      "__________________________________________________________________________________________________\n",
      "batch_normalization_17 (BatchNo (None, 16, 16, 32)   128         conv2d_18[0][0]                  \n",
      "__________________________________________________________________________________________________\n",
      "activation_17 (Activation)      (None, 16, 16, 32)   0           batch_normalization_17[0][0]     \n",
      "__________________________________________________________________________________________________\n",
      "conv2d_19 (Conv2D)              (None, 16, 16, 32)   9248        activation_17[0][0]              \n",
      "__________________________________________________________________________________________________\n",
      "batch_normalization_18 (BatchNo (None, 16, 16, 32)   128         conv2d_19[0][0]                  \n",
      "__________________________________________________________________________________________________\n",
      "add_8 (Add)                     (None, 16, 16, 32)   0           activation_16[0][0]              \n",
      "                                                                 batch_normalization_18[0][0]     \n",
      "__________________________________________________________________________________________________\n",
      "activation_18 (Activation)      (None, 16, 16, 32)   0           add_8[0][0]                      \n",
      "__________________________________________________________________________________________________\n",
      "conv2d_20 (Conv2D)              (None, 16, 16, 32)   9248        activation_18[0][0]              \n",
      "__________________________________________________________________________________________________\n",
      "batch_normalization_19 (BatchNo (None, 16, 16, 32)   128         conv2d_20[0][0]                  \n",
      "__________________________________________________________________________________________________\n",
      "activation_19 (Activation)      (None, 16, 16, 32)   0           batch_normalization_19[0][0]     \n",
      "__________________________________________________________________________________________________\n",
      "conv2d_21 (Conv2D)              (None, 16, 16, 32)   9248        activation_19[0][0]              \n",
      "__________________________________________________________________________________________________\n",
      "batch_normalization_20 (BatchNo (None, 16, 16, 32)   128         conv2d_21[0][0]                  \n",
      "__________________________________________________________________________________________________\n",
      "add_9 (Add)                     (None, 16, 16, 32)   0           activation_18[0][0]              \n",
      "                                                                 batch_normalization_20[0][0]     \n",
      "__________________________________________________________________________________________________\n",
      "activation_20 (Activation)      (None, 16, 16, 32)   0           add_9[0][0]                      \n",
      "__________________________________________________________________________________________________\n",
      "conv2d_22 (Conv2D)              (None, 16, 16, 32)   9248        activation_20[0][0]              \n",
      "__________________________________________________________________________________________________\n",
      "batch_normalization_21 (BatchNo (None, 16, 16, 32)   128         conv2d_22[0][0]                  \n",
      "__________________________________________________________________________________________________\n",
      "activation_21 (Activation)      (None, 16, 16, 32)   0           batch_normalization_21[0][0]     \n",
      "__________________________________________________________________________________________________\n",
      "conv2d_23 (Conv2D)              (None, 16, 16, 32)   9248        activation_21[0][0]              \n",
      "__________________________________________________________________________________________________\n",
      "batch_normalization_22 (BatchNo (None, 16, 16, 32)   128         conv2d_23[0][0]                  \n",
      "__________________________________________________________________________________________________\n",
      "add_10 (Add)                    (None, 16, 16, 32)   0           activation_20[0][0]              \n",
      "                                                                 batch_normalization_22[0][0]     \n",
      "__________________________________________________________________________________________________\n",
      "activation_22 (Activation)      (None, 16, 16, 32)   0           add_10[0][0]                     \n",
      "__________________________________________________________________________________________________\n",
      "conv2d_24 (Conv2D)              (None, 16, 16, 32)   9248        activation_22[0][0]              \n",
      "__________________________________________________________________________________________________\n",
      "batch_normalization_23 (BatchNo (None, 16, 16, 32)   128         conv2d_24[0][0]                  \n",
      "__________________________________________________________________________________________________\n",
      "activation_23 (Activation)      (None, 16, 16, 32)   0           batch_normalization_23[0][0]     \n",
      "__________________________________________________________________________________________________\n",
      "conv2d_25 (Conv2D)              (None, 16, 16, 32)   9248        activation_23[0][0]              \n",
      "__________________________________________________________________________________________________\n",
      "batch_normalization_24 (BatchNo (None, 16, 16, 32)   128         conv2d_25[0][0]                  \n",
      "__________________________________________________________________________________________________\n",
      "add_11 (Add)                    (None, 16, 16, 32)   0           activation_22[0][0]              \n",
      "                                                                 batch_normalization_24[0][0]     \n",
      "__________________________________________________________________________________________________\n",
      "activation_24 (Activation)      (None, 16, 16, 32)   0           add_11[0][0]                     \n",
      "__________________________________________________________________________________________________\n",
      "conv2d_26 (Conv2D)              (None, 16, 16, 32)   9248        activation_24[0][0]              \n",
      "__________________________________________________________________________________________________\n",
      "batch_normalization_25 (BatchNo (None, 16, 16, 32)   128         conv2d_26[0][0]                  \n",
      "__________________________________________________________________________________________________\n",
      "activation_25 (Activation)      (None, 16, 16, 32)   0           batch_normalization_25[0][0]     \n",
      "__________________________________________________________________________________________________\n",
      "conv2d_27 (Conv2D)              (None, 16, 16, 32)   9248        activation_25[0][0]              \n",
      "__________________________________________________________________________________________________\n",
      "batch_normalization_26 (BatchNo (None, 16, 16, 32)   128         conv2d_27[0][0]                  \n",
      "__________________________________________________________________________________________________\n",
      "add_12 (Add)                    (None, 16, 16, 32)   0           activation_24[0][0]              \n",
      "                                                                 batch_normalization_26[0][0]     \n",
      "__________________________________________________________________________________________________\n",
      "activation_26 (Activation)      (None, 16, 16, 32)   0           add_12[0][0]                     \n",
      "__________________________________________________________________________________________________\n",
      "conv2d_28 (Conv2D)              (None, 16, 16, 32)   9248        activation_26[0][0]              \n",
      "__________________________________________________________________________________________________\n",
      "batch_normalization_27 (BatchNo (None, 16, 16, 32)   128         conv2d_28[0][0]                  \n",
      "__________________________________________________________________________________________________\n",
      "activation_27 (Activation)      (None, 16, 16, 32)   0           batch_normalization_27[0][0]     \n",
      "__________________________________________________________________________________________________\n",
      "conv2d_29 (Conv2D)              (None, 16, 16, 32)   9248        activation_27[0][0]              \n",
      "__________________________________________________________________________________________________\n",
      "batch_normalization_28 (BatchNo (None, 16, 16, 32)   128         conv2d_29[0][0]                  \n",
      "__________________________________________________________________________________________________\n",
      "add_13 (Add)                    (None, 16, 16, 32)   0           activation_26[0][0]              \n",
      "                                                                 batch_normalization_28[0][0]     \n",
      "__________________________________________________________________________________________________\n",
      "activation_28 (Activation)      (None, 16, 16, 32)   0           add_13[0][0]                     \n",
      "__________________________________________________________________________________________________\n",
      "conv2d_30 (Conv2D)              (None, 8, 8, 64)     18496       activation_28[0][0]              \n",
      "__________________________________________________________________________________________________\n",
      "batch_normalization_29 (BatchNo (None, 8, 8, 64)     256         conv2d_30[0][0]                  \n",
      "__________________________________________________________________________________________________\n",
      "activation_29 (Activation)      (None, 8, 8, 64)     0           batch_normalization_29[0][0]     \n",
      "__________________________________________________________________________________________________\n",
      "conv2d_31 (Conv2D)              (None, 8, 8, 64)     36928       activation_29[0][0]              \n",
      "__________________________________________________________________________________________________\n",
      "conv2d_32 (Conv2D)              (None, 8, 8, 64)     2112        activation_28[0][0]              \n",
      "__________________________________________________________________________________________________\n",
      "batch_normalization_30 (BatchNo (None, 8, 8, 64)     256         conv2d_31[0][0]                  \n",
      "__________________________________________________________________________________________________\n",
      "add_14 (Add)                    (None, 8, 8, 64)     0           conv2d_32[0][0]                  \n",
      "                                                                 batch_normalization_30[0][0]     \n",
      "__________________________________________________________________________________________________\n",
      "activation_30 (Activation)      (None, 8, 8, 64)     0           add_14[0][0]                     \n",
      "__________________________________________________________________________________________________\n",
      "conv2d_33 (Conv2D)              (None, 8, 8, 64)     36928       activation_30[0][0]              \n",
      "__________________________________________________________________________________________________\n",
      "batch_normalization_31 (BatchNo (None, 8, 8, 64)     256         conv2d_33[0][0]                  \n",
      "__________________________________________________________________________________________________\n",
      "activation_31 (Activation)      (None, 8, 8, 64)     0           batch_normalization_31[0][0]     \n",
      "__________________________________________________________________________________________________\n",
      "conv2d_34 (Conv2D)              (None, 8, 8, 64)     36928       activation_31[0][0]              \n",
      "__________________________________________________________________________________________________\n",
      "batch_normalization_32 (BatchNo (None, 8, 8, 64)     256         conv2d_34[0][0]                  \n",
      "__________________________________________________________________________________________________\n",
      "add_15 (Add)                    (None, 8, 8, 64)     0           activation_30[0][0]              \n",
      "                                                                 batch_normalization_32[0][0]     \n",
      "__________________________________________________________________________________________________\n",
      "activation_32 (Activation)      (None, 8, 8, 64)     0           add_15[0][0]                     \n",
      "__________________________________________________________________________________________________\n",
      "conv2d_35 (Conv2D)              (None, 8, 8, 64)     36928       activation_32[0][0]              \n",
      "__________________________________________________________________________________________________\n",
      "batch_normalization_33 (BatchNo (None, 8, 8, 64)     256         conv2d_35[0][0]                  \n",
      "__________________________________________________________________________________________________\n",
      "activation_33 (Activation)      (None, 8, 8, 64)     0           batch_normalization_33[0][0]     \n",
      "__________________________________________________________________________________________________\n",
      "conv2d_36 (Conv2D)              (None, 8, 8, 64)     36928       activation_33[0][0]              \n",
      "__________________________________________________________________________________________________\n",
      "batch_normalization_34 (BatchNo (None, 8, 8, 64)     256         conv2d_36[0][0]                  \n",
      "__________________________________________________________________________________________________\n",
      "add_16 (Add)                    (None, 8, 8, 64)     0           activation_32[0][0]              \n",
      "                                                                 batch_normalization_34[0][0]     \n",
      "__________________________________________________________________________________________________\n",
      "activation_34 (Activation)      (None, 8, 8, 64)     0           add_16[0][0]                     \n",
      "__________________________________________________________________________________________________\n",
      "conv2d_37 (Conv2D)              (None, 8, 8, 64)     36928       activation_34[0][0]              \n",
      "__________________________________________________________________________________________________\n",
      "batch_normalization_35 (BatchNo (None, 8, 8, 64)     256         conv2d_37[0][0]                  \n",
      "__________________________________________________________________________________________________\n",
      "activation_35 (Activation)      (None, 8, 8, 64)     0           batch_normalization_35[0][0]     \n",
      "__________________________________________________________________________________________________\n",
      "conv2d_38 (Conv2D)              (None, 8, 8, 64)     36928       activation_35[0][0]              \n",
      "__________________________________________________________________________________________________\n",
      "batch_normalization_36 (BatchNo (None, 8, 8, 64)     256         conv2d_38[0][0]                  \n",
      "__________________________________________________________________________________________________\n",
      "add_17 (Add)                    (None, 8, 8, 64)     0           activation_34[0][0]              \n",
      "                                                                 batch_normalization_36[0][0]     \n",
      "__________________________________________________________________________________________________\n",
      "activation_36 (Activation)      (None, 8, 8, 64)     0           add_17[0][0]                     \n",
      "__________________________________________________________________________________________________\n",
      "conv2d_39 (Conv2D)              (None, 8, 8, 64)     36928       activation_36[0][0]              \n",
      "__________________________________________________________________________________________________\n",
      "batch_normalization_37 (BatchNo (None, 8, 8, 64)     256         conv2d_39[0][0]                  \n",
      "__________________________________________________________________________________________________\n",
      "activation_37 (Activation)      (None, 8, 8, 64)     0           batch_normalization_37[0][0]     \n",
      "__________________________________________________________________________________________________\n",
      "conv2d_40 (Conv2D)              (None, 8, 8, 64)     36928       activation_37[0][0]              \n",
      "__________________________________________________________________________________________________\n",
      "batch_normalization_38 (BatchNo (None, 8, 8, 64)     256         conv2d_40[0][0]                  \n",
      "__________________________________________________________________________________________________\n",
      "add_18 (Add)                    (None, 8, 8, 64)     0           activation_36[0][0]              \n",
      "                                                                 batch_normalization_38[0][0]     \n",
      "__________________________________________________________________________________________________\n",
      "activation_38 (Activation)      (None, 8, 8, 64)     0           add_18[0][0]                     \n",
      "__________________________________________________________________________________________________\n",
      "conv2d_41 (Conv2D)              (None, 8, 8, 64)     36928       activation_38[0][0]              \n",
      "__________________________________________________________________________________________________\n",
      "batch_normalization_39 (BatchNo (None, 8, 8, 64)     256         conv2d_41[0][0]                  \n",
      "__________________________________________________________________________________________________\n",
      "activation_39 (Activation)      (None, 8, 8, 64)     0           batch_normalization_39[0][0]     \n",
      "__________________________________________________________________________________________________\n",
      "conv2d_42 (Conv2D)              (None, 8, 8, 64)     36928       activation_39[0][0]              \n",
      "__________________________________________________________________________________________________\n",
      "batch_normalization_40 (BatchNo (None, 8, 8, 64)     256         conv2d_42[0][0]                  \n",
      "__________________________________________________________________________________________________\n",
      "add_19 (Add)                    (None, 8, 8, 64)     0           activation_38[0][0]              \n",
      "                                                                 batch_normalization_40[0][0]     \n",
      "__________________________________________________________________________________________________\n",
      "activation_40 (Activation)      (None, 8, 8, 64)     0           add_19[0][0]                     \n",
      "__________________________________________________________________________________________________\n",
      "conv2d_43 (Conv2D)              (None, 8, 8, 64)     36928       activation_40[0][0]              \n",
      "__________________________________________________________________________________________________\n",
      "batch_normalization_41 (BatchNo (None, 8, 8, 64)     256         conv2d_43[0][0]                  \n",
      "__________________________________________________________________________________________________\n",
      "activation_41 (Activation)      (None, 8, 8, 64)     0           batch_normalization_41[0][0]     \n",
      "__________________________________________________________________________________________________\n",
      "conv2d_44 (Conv2D)              (None, 8, 8, 64)     36928       activation_41[0][0]              \n",
      "__________________________________________________________________________________________________\n",
      "batch_normalization_42 (BatchNo (None, 8, 8, 64)     256         conv2d_44[0][0]                  \n",
      "__________________________________________________________________________________________________\n",
      "add_20 (Add)                    (None, 8, 8, 64)     0           activation_40[0][0]              \n",
      "                                                                 batch_normalization_42[0][0]     \n",
      "__________________________________________________________________________________________________\n",
      "activation_42 (Activation)      (None, 8, 8, 64)     0           add_20[0][0]                     \n",
      "__________________________________________________________________________________________________\n",
      "average_pooling2d (AveragePooli (None, 1, 1, 64)     0           activation_42[0][0]              \n",
      "__________________________________________________________________________________________________\n",
      "flatten (Flatten)               (None, 64)           0           average_pooling2d[0][0]          \n",
      "__________________________________________________________________________________________________\n",
      "dense (Dense)                   (None, 10)           650         flatten[0][0]                    \n",
      "==================================================================================================\n",
      "Total params: 665,994\n",
      "Trainable params: 662,826\n",
      "Non-trainable params: 3,168\n",
      "__________________________________________________________________________________________________\n",
      "ResNet44v1\n"
     ]
    }
   ],
   "source": [
    "model = resnet_v1(input_shape=input_shape, depth=depth)\n",
    "\n",
    "model.compile(loss='categorical_crossentropy',\n",
    "              optimizer=Adam(lr=lr_schedule(0)),\n",
    "              metrics=['accuracy'])\n",
    "model.summary()\n",
    "print(model_type)"
   ]
  },
  {
   "cell_type": "markdown",
   "metadata": {
    "id": "AcfD34DtHUvD"
   },
   "source": [
    "Set up callbacks for learning rate updating and early stopping during training."
   ]
  },
  {
   "cell_type": "code",
   "execution_count": 11,
   "metadata": {
    "id": "BB1DAQ3uHjzp"
   },
   "outputs": [],
   "source": [
    "# Prepare callbacks for model saving and for learning rate adjustment.\n",
    "lr_scheduler = LearningRateScheduler(lr_schedule)\n",
    "\n",
    "lr_reducer = ReduceLROnPlateau(factor=np.sqrt(0.1),\n",
    "                               cooldown=0,\n",
    "                               patience=5,\n",
    "                               min_lr=0.5e-6)\n",
    "\n",
    "early_stopper = EarlyStopping(monitor='val_accuracy', patience=20)\n",
    "\n",
    "callbacks = [lr_reducer, lr_scheduler, early_stopper]"
   ]
  },
  {
   "cell_type": "markdown",
   "metadata": {
    "id": "xCyCTst-HnSW"
   },
   "source": [
    "Set up Data Generator for Image Augmentations."
   ]
  },
  {
   "cell_type": "code",
   "execution_count": 12,
   "metadata": {
    "id": "VLzSPK0nHoSj"
   },
   "outputs": [],
   "source": [
    "datagen = ImageDataGenerator(\n",
    "        # set input mean to 0 over the dataset\n",
    "        featurewise_center=False,\n",
    "        # set each sample mean to 0\n",
    "        samplewise_center=False,\n",
    "        # divide inputs by std of dataset\n",
    "        featurewise_std_normalization=False,\n",
    "        # divide each input by its std\n",
    "        samplewise_std_normalization=False,\n",
    "        # apply ZCA whitening\n",
    "        zca_whitening=False,\n",
    "        # epsilon for ZCA whitening\n",
    "        zca_epsilon=1e-06,\n",
    "        # randomly rotate images in the range (deg 0 to 180)\n",
    "        rotation_range=0,\n",
    "        # randomly shift images horizontally\n",
    "        width_shift_range=0.1,\n",
    "        # randomly shift images vertically\n",
    "        height_shift_range=0.1,\n",
    "        # set range for random shear\n",
    "        shear_range=0.,\n",
    "        # set range for random zoom\n",
    "        zoom_range=0.,\n",
    "        # set range for random channel shifts\n",
    "        channel_shift_range=0.,\n",
    "        # set mode for filling points outside the input boundaries\n",
    "        fill_mode='nearest',\n",
    "        # value used for fill_mode = \"constant\"\n",
    "        cval=0.,\n",
    "        # randomly flip images\n",
    "        horizontal_flip=True,\n",
    "        # randomly flip images\n",
    "        vertical_flip=False,\n",
    "        # set rescaling factor (applied before any other transformation)\n",
    "        rescale=None,\n",
    "        # set function that will be applied on each input\n",
    "        preprocessing_function=None,\n",
    "        # image data format, either \"channels_first\" or \"channels_last\"\n",
    "        data_format=None,\n",
    "        # fraction of images reserved for validation (strictly between 0 and 1)\n",
    "        validation_split=0.0)\n",
    "\n",
    "datagen.fit(x_train)"
   ]
  },
  {
   "cell_type": "markdown",
   "metadata": {
    "id": "t1YLwW47IBi1"
   },
   "source": [
    "Begin training."
   ]
  },
  {
   "cell_type": "code",
   "execution_count": 13,
   "metadata": {
    "colab": {
     "base_uri": "https://localhost:8080/"
    },
    "id": "S13-8akHILw_",
    "outputId": "b8f6c304-602b-4562-bec9-e8ae062bd8c6"
   },
   "outputs": [
    {
     "name": "stdout",
     "output_type": "stream",
     "text": [
      "WARNING:tensorflow:From <ipython-input-13-1b1c47dc6453>:5: Model.fit_generator (from tensorflow.python.keras.engine.training) is deprecated and will be removed in a future version.\n",
      "Instructions for updating:\n",
      "Please use Model.fit, which supports generators.\n",
      "Learning rate:  0.001\n",
      "Epoch 1/200\n",
      "782/782 [==============================] - 39s 50ms/step - loss: 1.7936 - accuracy: 0.4706 - val_loss: 2.0363 - val_accuracy: 0.4527\n",
      "Learning rate:  0.001\n",
      "Epoch 2/200\n",
      "782/782 [==============================] - 38s 49ms/step - loss: 1.3394 - accuracy: 0.6315 - val_loss: 1.3489 - val_accuracy: 0.6386\n",
      "Learning rate:  0.001\n",
      "Epoch 3/200\n",
      "782/782 [==============================] - 37s 48ms/step - loss: 1.1306 - accuracy: 0.7017 - val_loss: 1.1239 - val_accuracy: 0.7095\n",
      "Learning rate:  0.001\n",
      "Epoch 4/200\n",
      "782/782 [==============================] - 39s 50ms/step - loss: 1.0167 - accuracy: 0.7398 - val_loss: 1.5555 - val_accuracy: 0.6002\n",
      "Learning rate:  0.001\n",
      "Epoch 5/200\n",
      "782/782 [==============================] - 38s 49ms/step - loss: 0.9377 - accuracy: 0.7639 - val_loss: 1.3802 - val_accuracy: 0.6359\n",
      "Learning rate:  0.001\n",
      "Epoch 6/200\n",
      "782/782 [==============================] - 38s 49ms/step - loss: 0.8871 - accuracy: 0.7773 - val_loss: 1.1047 - val_accuracy: 0.7101\n",
      "Learning rate:  0.001\n",
      "Epoch 7/200\n",
      "782/782 [==============================] - 38s 49ms/step - loss: 0.8399 - accuracy: 0.7928 - val_loss: 1.8332 - val_accuracy: 0.5923\n",
      "Learning rate:  0.001\n",
      "Epoch 8/200\n",
      "782/782 [==============================] - 38s 49ms/step - loss: 0.8042 - accuracy: 0.8034 - val_loss: 1.0281 - val_accuracy: 0.7372\n",
      "Learning rate:  0.001\n",
      "Epoch 9/200\n",
      "782/782 [==============================] - 39s 50ms/step - loss: 0.7714 - accuracy: 0.8151 - val_loss: 1.2910 - val_accuracy: 0.6670\n",
      "Learning rate:  0.001\n",
      "Epoch 10/200\n",
      "782/782 [==============================] - 40s 51ms/step - loss: 0.7416 - accuracy: 0.8247 - val_loss: 1.2372 - val_accuracy: 0.6980\n",
      "Learning rate:  0.001\n",
      "Epoch 11/200\n",
      "782/782 [==============================] - 39s 50ms/step - loss: 0.7256 - accuracy: 0.8285 - val_loss: 1.5762 - val_accuracy: 0.6348\n",
      "Learning rate:  0.001\n",
      "Epoch 12/200\n",
      "782/782 [==============================] - 39s 50ms/step - loss: 0.7048 - accuracy: 0.8371 - val_loss: 1.0217 - val_accuracy: 0.7544\n",
      "Learning rate:  0.001\n",
      "Epoch 13/200\n",
      "782/782 [==============================] - 39s 50ms/step - loss: 0.6811 - accuracy: 0.8455 - val_loss: 0.9890 - val_accuracy: 0.7567\n",
      "Learning rate:  0.001\n",
      "Epoch 14/200\n",
      "782/782 [==============================] - 40s 51ms/step - loss: 0.6636 - accuracy: 0.8502 - val_loss: 0.9755 - val_accuracy: 0.7611\n",
      "Learning rate:  0.001\n",
      "Epoch 15/200\n",
      "782/782 [==============================] - 39s 50ms/step - loss: 0.6534 - accuracy: 0.8535 - val_loss: 0.9325 - val_accuracy: 0.7689\n",
      "Learning rate:  0.001\n",
      "Epoch 16/200\n",
      "782/782 [==============================] - 39s 50ms/step - loss: 0.6413 - accuracy: 0.8576 - val_loss: 1.0859 - val_accuracy: 0.7341\n",
      "Learning rate:  0.001\n",
      "Epoch 17/200\n",
      "782/782 [==============================] - 39s 49ms/step - loss: 0.6272 - accuracy: 0.8629 - val_loss: 0.9510 - val_accuracy: 0.7688\n",
      "Learning rate:  0.001\n",
      "Epoch 18/200\n",
      "782/782 [==============================] - 39s 50ms/step - loss: 0.6211 - accuracy: 0.8638 - val_loss: 1.0725 - val_accuracy: 0.7413\n",
      "Learning rate:  0.001\n",
      "Epoch 19/200\n",
      "782/782 [==============================] - 39s 49ms/step - loss: 0.6045 - accuracy: 0.8693 - val_loss: 0.8974 - val_accuracy: 0.7861\n",
      "Learning rate:  0.001\n",
      "Epoch 20/200\n",
      "782/782 [==============================] - 39s 50ms/step - loss: 0.6016 - accuracy: 0.8692 - val_loss: 1.3256 - val_accuracy: 0.6873\n",
      "Learning rate:  0.001\n",
      "Epoch 21/200\n",
      "782/782 [==============================] - 39s 50ms/step - loss: 0.5910 - accuracy: 0.8746 - val_loss: 0.9785 - val_accuracy: 0.7632\n",
      "Learning rate:  0.001\n",
      "Epoch 22/200\n",
      "782/782 [==============================] - 40s 51ms/step - loss: 0.5840 - accuracy: 0.8762 - val_loss: 0.6825 - val_accuracy: 0.8436\n",
      "Learning rate:  0.001\n",
      "Epoch 23/200\n",
      "782/782 [==============================] - 39s 50ms/step - loss: 0.5756 - accuracy: 0.8793 - val_loss: 0.7991 - val_accuracy: 0.8139\n",
      "Learning rate:  0.001\n",
      "Epoch 24/200\n",
      "782/782 [==============================] - 39s 50ms/step - loss: 0.5693 - accuracy: 0.8817 - val_loss: 0.8066 - val_accuracy: 0.8092\n",
      "Learning rate:  0.001\n",
      "Epoch 25/200\n",
      "782/782 [==============================] - 39s 50ms/step - loss: 0.5601 - accuracy: 0.8835 - val_loss: 0.8036 - val_accuracy: 0.8094\n",
      "Learning rate:  0.001\n",
      "Epoch 26/200\n",
      "782/782 [==============================] - 40s 51ms/step - loss: 0.5569 - accuracy: 0.8837 - val_loss: 0.7179 - val_accuracy: 0.8282\n",
      "Learning rate:  0.001\n",
      "Epoch 27/200\n",
      "782/782 [==============================] - 39s 50ms/step - loss: 0.5512 - accuracy: 0.8857 - val_loss: 0.6800 - val_accuracy: 0.8462\n",
      "Learning rate:  0.001\n",
      "Epoch 28/200\n",
      "782/782 [==============================] - 39s 50ms/step - loss: 0.5481 - accuracy: 0.8882 - val_loss: 0.7948 - val_accuracy: 0.8235\n",
      "Learning rate:  0.001\n",
      "Epoch 29/200\n",
      "782/782 [==============================] - 39s 50ms/step - loss: 0.5388 - accuracy: 0.8901 - val_loss: 0.7384 - val_accuracy: 0.8307\n",
      "Learning rate:  0.001\n",
      "Epoch 30/200\n",
      "782/782 [==============================] - 39s 50ms/step - loss: 0.5345 - accuracy: 0.8912 - val_loss: 0.8334 - val_accuracy: 0.8033\n",
      "Learning rate:  0.001\n",
      "Epoch 31/200\n",
      "782/782 [==============================] - 39s 50ms/step - loss: 0.5318 - accuracy: 0.8913 - val_loss: 0.7798 - val_accuracy: 0.8120\n",
      "Learning rate:  0.001\n",
      "Epoch 32/200\n",
      "782/782 [==============================] - 39s 50ms/step - loss: 0.5233 - accuracy: 0.8947 - val_loss: 0.7070 - val_accuracy: 0.8495\n",
      "Learning rate:  0.001\n",
      "Epoch 33/200\n",
      "782/782 [==============================] - 39s 50ms/step - loss: 0.5227 - accuracy: 0.8954 - val_loss: 0.6805 - val_accuracy: 0.8500\n",
      "Learning rate:  0.001\n",
      "Epoch 34/200\n",
      "782/782 [==============================] - 39s 50ms/step - loss: 0.5196 - accuracy: 0.8975 - val_loss: 0.7854 - val_accuracy: 0.8211\n",
      "Learning rate:  0.001\n",
      "Epoch 35/200\n",
      "782/782 [==============================] - 39s 50ms/step - loss: 0.5152 - accuracy: 0.8981 - val_loss: 0.6563 - val_accuracy: 0.8525\n",
      "Learning rate:  0.001\n",
      "Epoch 36/200\n",
      "782/782 [==============================] - 39s 50ms/step - loss: 0.5065 - accuracy: 0.9005 - val_loss: 0.7226 - val_accuracy: 0.8411\n",
      "Learning rate:  0.001\n",
      "Epoch 37/200\n",
      "782/782 [==============================] - 39s 50ms/step - loss: 0.5090 - accuracy: 0.8991 - val_loss: 0.7922 - val_accuracy: 0.8229\n",
      "Learning rate:  0.001\n",
      "Epoch 38/200\n",
      "782/782 [==============================] - 39s 50ms/step - loss: 0.5076 - accuracy: 0.8998 - val_loss: 0.8873 - val_accuracy: 0.8001\n",
      "Learning rate:  0.001\n",
      "Epoch 39/200\n",
      "782/782 [==============================] - 39s 50ms/step - loss: 0.4982 - accuracy: 0.9029 - val_loss: 1.0055 - val_accuracy: 0.7760\n",
      "Learning rate:  0.001\n",
      "Epoch 40/200\n",
      "782/782 [==============================] - 39s 50ms/step - loss: 0.4995 - accuracy: 0.9040 - val_loss: 0.6909 - val_accuracy: 0.8470\n",
      "Learning rate:  0.001\n",
      "Epoch 41/200\n",
      "782/782 [==============================] - 39s 50ms/step - loss: 0.4951 - accuracy: 0.9049 - val_loss: 0.6770 - val_accuracy: 0.8489\n",
      "Learning rate:  0.001\n",
      "Epoch 42/200\n",
      "782/782 [==============================] - 39s 50ms/step - loss: 0.4940 - accuracy: 0.9049 - val_loss: 0.8138 - val_accuracy: 0.8117\n",
      "Learning rate:  0.001\n",
      "Epoch 43/200\n",
      "782/782 [==============================] - 39s 50ms/step - loss: 0.4892 - accuracy: 0.9062 - val_loss: 0.6533 - val_accuracy: 0.8574\n",
      "Learning rate:  0.001\n",
      "Epoch 44/200\n",
      "782/782 [==============================] - 39s 49ms/step - loss: 0.4851 - accuracy: 0.9077 - val_loss: 0.7634 - val_accuracy: 0.8324\n",
      "Learning rate:  0.001\n",
      "Epoch 45/200\n",
      "782/782 [==============================] - 39s 50ms/step - loss: 0.4860 - accuracy: 0.9068 - val_loss: 0.7162 - val_accuracy: 0.8454\n",
      "Learning rate:  0.001\n",
      "Epoch 46/200\n",
      "782/782 [==============================] - 39s 50ms/step - loss: 0.4749 - accuracy: 0.9109 - val_loss: 0.6039 - val_accuracy: 0.8751\n",
      "Learning rate:  0.001\n",
      "Epoch 47/200\n",
      "782/782 [==============================] - 39s 50ms/step - loss: 0.4789 - accuracy: 0.9093 - val_loss: 0.8650 - val_accuracy: 0.8083\n",
      "Learning rate:  0.001\n",
      "Epoch 48/200\n",
      "782/782 [==============================] - 39s 50ms/step - loss: 0.4760 - accuracy: 0.9099 - val_loss: 0.6967 - val_accuracy: 0.8477\n",
      "Learning rate:  0.001\n",
      "Epoch 49/200\n",
      "782/782 [==============================] - 39s 50ms/step - loss: 0.4731 - accuracy: 0.9112 - val_loss: 0.8778 - val_accuracy: 0.7986\n",
      "Learning rate:  0.001\n",
      "Epoch 50/200\n",
      "782/782 [==============================] - 39s 50ms/step - loss: 0.4729 - accuracy: 0.9119 - val_loss: 0.7195 - val_accuracy: 0.8464\n",
      "Learning rate:  0.001\n",
      "Epoch 51/200\n",
      "782/782 [==============================] - 39s 50ms/step - loss: 0.4673 - accuracy: 0.9143 - val_loss: 0.7052 - val_accuracy: 0.8477\n",
      "Learning rate:  0.001\n",
      "Epoch 52/200\n",
      "782/782 [==============================] - 39s 50ms/step - loss: 0.4719 - accuracy: 0.9116 - val_loss: 0.8691 - val_accuracy: 0.8061\n",
      "Learning rate:  0.001\n",
      "Epoch 53/200\n",
      "782/782 [==============================] - 39s 50ms/step - loss: 0.4670 - accuracy: 0.9139 - val_loss: 0.6955 - val_accuracy: 0.8457\n",
      "Learning rate:  0.001\n",
      "Epoch 54/200\n",
      "782/782 [==============================] - 39s 50ms/step - loss: 0.4608 - accuracy: 0.9159 - val_loss: 0.7701 - val_accuracy: 0.8314\n",
      "Learning rate:  0.001\n",
      "Epoch 55/200\n",
      "782/782 [==============================] - 40s 51ms/step - loss: 0.4641 - accuracy: 0.9133 - val_loss: 0.6818 - val_accuracy: 0.8517\n",
      "Learning rate:  0.001\n",
      "Epoch 56/200\n",
      "782/782 [==============================] - 39s 50ms/step - loss: 0.4621 - accuracy: 0.9154 - val_loss: 0.8817 - val_accuracy: 0.8042\n",
      "Learning rate:  0.001\n",
      "Epoch 57/200\n",
      "782/782 [==============================] - 40s 51ms/step - loss: 0.4568 - accuracy: 0.9170 - val_loss: 0.8138 - val_accuracy: 0.8174\n",
      "Learning rate:  0.001\n",
      "Epoch 58/200\n",
      "782/782 [==============================] - 39s 50ms/step - loss: 0.4546 - accuracy: 0.9180 - val_loss: 0.6436 - val_accuracy: 0.8627\n",
      "Learning rate:  0.001\n",
      "Epoch 59/200\n",
      "782/782 [==============================] - 39s 50ms/step - loss: 0.4578 - accuracy: 0.9160 - val_loss: 0.7603 - val_accuracy: 0.8300\n",
      "Learning rate:  0.001\n",
      "Epoch 60/200\n",
      "782/782 [==============================] - 39s 50ms/step - loss: 0.4539 - accuracy: 0.9160 - val_loss: 0.7903 - val_accuracy: 0.8244\n",
      "Learning rate:  0.001\n",
      "Epoch 61/200\n",
      "782/782 [==============================] - 37s 48ms/step - loss: 0.4580 - accuracy: 0.9151 - val_loss: 1.0302 - val_accuracy: 0.7671\n",
      "Learning rate:  0.001\n",
      "Epoch 62/200\n",
      "782/782 [==============================] - 38s 49ms/step - loss: 0.4521 - accuracy: 0.9184 - val_loss: 0.7812 - val_accuracy: 0.8307\n",
      "Learning rate:  0.001\n",
      "Epoch 63/200\n",
      "782/782 [==============================] - 39s 50ms/step - loss: 0.4558 - accuracy: 0.9162 - val_loss: 0.6481 - val_accuracy: 0.8674\n",
      "Learning rate:  0.001\n",
      "Epoch 64/200\n",
      "782/782 [==============================] - 38s 49ms/step - loss: 0.4496 - accuracy: 0.9188 - val_loss: 0.8541 - val_accuracy: 0.8043\n",
      "Learning rate:  0.001\n",
      "Epoch 65/200\n",
      "782/782 [==============================] - 39s 50ms/step - loss: 0.4481 - accuracy: 0.9199 - val_loss: 0.7220 - val_accuracy: 0.8487\n",
      "Learning rate:  0.001\n",
      "Epoch 66/200\n",
      "782/782 [==============================] - 38s 49ms/step - loss: 0.4439 - accuracy: 0.9195 - val_loss: 0.7512 - val_accuracy: 0.8425\n"
     ]
    },
    {
     "data": {
      "text/plain": [
       "<tensorflow.python.keras.callbacks.History at 0x7f45c46f0828>"
      ]
     },
     "execution_count": 13,
     "metadata": {
      "tags": []
     },
     "output_type": "execute_result"
    }
   ],
   "source": [
    "# Fit the model on the batches generated by datagen.flow().\n",
    "model.fit_generator(datagen.flow(x_train, y_train, batch_size=batch_size),\n",
    "                    validation_data=(x_test, y_test),\n",
    "                    epochs=epochs, verbose=1, workers=4,\n",
    "                    callbacks=callbacks)"
   ]
  },
  {
   "cell_type": "markdown",
   "metadata": {
    "id": "zaqDJ9GFlbJO"
   },
   "source": [
    "Plotting the validation error vs number of epochs."
   ]
  },
  {
   "cell_type": "code",
   "execution_count": 5,
   "metadata": {
    "id": "sDv0iYvIlayF"
   },
   "outputs": [],
   "source": [
    "import seaborn as sns\n",
    "sns.set_theme(style=\"darkgrid\")"
   ]
  },
  {
   "cell_type": "code",
   "execution_count": 15,
   "metadata": {
    "colab": {
     "base_uri": "https://localhost:8080/",
     "height": 590
    },
    "id": "nC5BlVHPlop9",
    "outputId": "17118996-63da-4790-c1d0-65ae7d4d5f54"
   },
   "outputs": [
    {
     "data": {
      "text/plain": [
       "Text(0.5, 1.0, 'ResNet 44 CIFAR-10 Validation Error')"
      ]
     },
     "execution_count": 15,
     "metadata": {
      "tags": []
     },
     "output_type": "execute_result"
    },
    {
     "data": {
      "image/png": "[encoded data removed]",
      "text/plain": [
       "<Figure size 864x648 with 1 Axes>"
      ]
     },
     "metadata": {
      "tags": []
     },
     "output_type": "display_data"
    }
   ],
   "source": [
    "y = model.history.history.get('val_accuracy')\n",
    "y = [1 - i for i in y]\n",
    "x = [i+1 for i in range(len(y))]\n",
    "\n",
    "fig, ax = plt.subplots(figsize=(12, 9))\n",
    "sns.lineplot(x=x, y=y)\n",
    "ax.set_xlabel('Epoch')\n",
    "ax.set_ylabel('Validation Error')\n",
    "ax.set_title('ResNet 44 CIFAR-10 Validation Error')"
   ]
  },
  {
   "cell_type": "markdown",
   "metadata": {
    "id": "rO_vI4wvJDiX"
   },
   "source": [
    "\n",
    "#### Q3: (10 points)"
   ]
  },
  {
   "cell_type": "code",
   "execution_count": 13,
   "metadata": {
    "id": "2CeIdgtUJHqI"
   },
   "outputs": [],
   "source": [
    "from time import time"
   ]
  },
  {
   "cell_type": "markdown",
   "metadata": {
    "id": "YeiGFqyopUXd"
   },
   "source": [
    "Re-download CIFAR-10."
   ]
  },
  {
   "cell_type": "code",
   "execution_count": 14,
   "metadata": {
    "id": "c98vcl5epTfF"
   },
   "outputs": [],
   "source": [
    "# Training parameters\n",
    "batch_size = 64\n",
    "epochs = 100\n",
    "num_classes = 10\n",
    "\n",
    "# Load the CIFAR10 data.\n",
    "(x_train, y_train), (x_test, y_test) = cifar10.load_data()\n",
    "\n",
    "# Input image dimensions.\n",
    "input_shape = x_train.shape[1:]\n",
    "\n",
    "# Normalize data.\n",
    "x_train = x_train.astype('float32') / 255\n",
    "x_test = x_test.astype('float32') / 255\n",
    "\n",
    "# Convert class vectors to binary class matrices.\n",
    "y_train = keras.utils.to_categorical(y_train, num_classes)\n",
    "y_test = keras.utils.to_categorical(y_test, num_classes)"
   ]
  },
  {
   "cell_type": "markdown",
   "metadata": {
    "id": "UOObzX_PqJxF"
   },
   "source": [
    "My custom data augmentation function."
   ]
  },
  {
   "cell_type": "code",
   "execution_count": 15,
   "metadata": {
    "id": "5B6OMttPqPQW"
   },
   "outputs": [],
   "source": [
    "def my_data_augmentation(x_train, y_train, m):\n",
    "  x_train_m = np.repeat(x_train, repeats=m, axis=0)\n",
    "  y_train_m = np.repeat(y_train, repeats=m, axis=0)\n",
    "  for i in range(x_train_m.shape[0]):\n",
    "    x_train_m[i] = cutout(x_train_m[i], length=12)\n",
    "  return x_train_m, y_train_m"
   ]
  },
  {
   "cell_type": "markdown",
   "metadata": {
    "id": "6wK-KMSuqPxj"
   },
   "source": [
    "Perform experiments.\n",
    "\n",
    "Note: Due to Colab behaviour, I manually run these next few cells for various values of `m`, log the time to train in a markdown table, and persist the validation data to Google Drive to be loaded back in later."
   ]
  },
  {
   "cell_type": "code",
   "execution_count": 16,
   "metadata": {
    "colab": {
     "base_uri": "https://localhost:8080/"
    },
    "id": "bfMvBaGTe4ih",
    "outputId": "982cb850-8d63-44ce-dbf3-96881cfad273"
   },
   "outputs": [
    {
     "name": "stdout",
     "output_type": "stream",
     "text": [
      "Mounted at /content/gdrive\n"
     ]
    }
   ],
   "source": [
    "from google.colab import drive\n",
    "drive.mount('/content/gdrive')"
   ]
  },
  {
   "cell_type": "code",
   "execution_count": 17,
   "metadata": {
    "id": "AiwvK6KUfNGE"
   },
   "outputs": [],
   "source": [
    "def run_experiment(m):\n",
    "  print(f'--- M={m} ---')\n",
    "\n",
    "  # perform data augmentation\n",
    "  print('performing data augmentation...')\n",
    "  x_train_m, y_train_m = my_data_augmentation(x_train, y_train, m)\n",
    "  datagen = ImageDataGenerator(\n",
    "          # set input mean to 0 over the dataset\n",
    "          featurewise_center=False,\n",
    "          # set each sample mean to 0\n",
    "          samplewise_center=False,\n",
    "          # divide inputs by std of dataset\n",
    "          featurewise_std_normalization=False,\n",
    "          # divide each input by its std\n",
    "          samplewise_std_normalization=False,\n",
    "          # apply ZCA whitening\n",
    "          zca_whitening=False,\n",
    "          # epsilon for ZCA whitening\n",
    "          zca_epsilon=1e-06,\n",
    "          # randomly rotate images in the range (deg 0 to 180)\n",
    "          rotation_range=0,\n",
    "          # randomly shift images horizontally\n",
    "          width_shift_range=0.1,\n",
    "          # randomly shift images vertically\n",
    "          height_shift_range=0.1,\n",
    "          # set range for random shear\n",
    "          shear_range=0.,\n",
    "          # set range for random zoom\n",
    "          zoom_range=0.,\n",
    "          # set range for random channel shifts\n",
    "          channel_shift_range=0.,\n",
    "          # set mode for filling points outside the input boundaries\n",
    "          fill_mode='nearest',\n",
    "          # value used for fill_mode = \"constant\"\n",
    "          cval=0.,\n",
    "          # randomly flip images\n",
    "          horizontal_flip=True,\n",
    "          # randomly flip images\n",
    "          vertical_flip=False,\n",
    "          # set rescaling factor (applied before any other transformation)\n",
    "          rescale=None,\n",
    "          # set function that will be applied on each input\n",
    "          preprocessing_function=None,\n",
    "          # image data format, either \"channels_first\" or \"channels_last\"\n",
    "          data_format=None,\n",
    "          # fraction of images reserved for validation (strictly between 0 and 1)\n",
    "          validation_split=0.0)\n",
    "  datagen.fit(x_train_m)\n",
    "\n",
    "  # set up model\n",
    "  print('setting up model...')\n",
    "  model = resnet_v1(input_shape=input_shape, depth=depth)\n",
    "  model.compile(loss='categorical_crossentropy',\n",
    "                optimizer=Adam(lr=.001),\n",
    "                metrics=['accuracy'])\n",
    "  early_stopper = EarlyStopping(monitor='val_accuracy', patience=20)\n",
    "\n",
    "  # fit model\n",
    "  print('fitting model...')\n",
    "  t1 = time()\n",
    "  model.fit(datagen.flow(x_train_m, y_train_m, batch_size=batch_size),\n",
    "            validation_data=(x_test, y_test),\n",
    "            epochs=epochs, verbose=1, workers=4,\n",
    "            callbacks=[early_stopper])\n",
    "  t2 = time()\n",
    "\n",
    "  return model.history, t2 - t1"
   ]
  },
  {
   "cell_type": "code",
   "execution_count": 18,
   "metadata": {
    "id": "Y5jWz2N61D9M"
   },
   "outputs": [],
   "source": [
    "m = 16"
   ]
  },
  {
   "cell_type": "code",
   "execution_count": null,
   "metadata": {
    "colab": {
     "base_uri": "https://localhost:8080/"
    },
    "id": "ImGgo-VlfcMn",
    "outputId": "69ce85c8-4a8b-4747-8d2b-1d41f408760d"
   },
   "outputs": [
    {
     "name": "stdout",
     "output_type": "stream",
     "text": [
      "--- M=16 ---\n",
      "performing data augmentation...\n"
     ]
    }
   ],
   "source": [
    "m_history, m_time = run_experiment(m)"
   ]
  },
  {
   "cell_type": "markdown",
   "metadata": {
    "id": "QR1QRWuoX-Zd"
   },
   "source": [
    "NOTE: Run out of RAM when m=16 and using Google Colab."
   ]
  },
  {
   "cell_type": "code",
   "execution_count": 3,
   "metadata": {
    "id": "C9-zmhWV9axk"
   },
   "outputs": [],
   "source": [
    "import pandas as pd"
   ]
  },
  {
   "cell_type": "code",
   "execution_count": 21,
   "metadata": {
    "colab": {
     "base_uri": "https://localhost:8080/",
     "height": 204
    },
    "id": "T_3rrh_J9Hmm",
    "outputId": "bf01d938-ef0d-44c8-b65a-469870c053ff"
   },
   "outputs": [
    {
     "data": {
      "text/html": [
       "<div>\n",
       "<style scoped>\n",
       "    .dataframe tbody tr th:only-of-type {\n",
       "        vertical-align: middle;\n",
       "    }\n",
       "\n",
       "    .dataframe tbody tr th {\n",
       "        vertical-align: top;\n",
       "    }\n",
       "\n",
       "    .dataframe thead th {\n",
       "        text-align: right;\n",
       "    }\n",
       "</style>\n",
       "<table border=\"1\" class=\"dataframe\">\n",
       "  <thead>\n",
       "    <tr style=\"text-align: right;\">\n",
       "      <th></th>\n",
       "      <th>m</th>\n",
       "      <th>val_accuracy</th>\n",
       "    </tr>\n",
       "  </thead>\n",
       "  <tbody>\n",
       "    <tr>\n",
       "      <th>0</th>\n",
       "      <td>8</td>\n",
       "      <td>0.7432</td>\n",
       "    </tr>\n",
       "    <tr>\n",
       "      <th>1</th>\n",
       "      <td>8</td>\n",
       "      <td>0.7436</td>\n",
       "    </tr>\n",
       "    <tr>\n",
       "      <th>2</th>\n",
       "      <td>8</td>\n",
       "      <td>0.7803</td>\n",
       "    </tr>\n",
       "    <tr>\n",
       "      <th>3</th>\n",
       "      <td>8</td>\n",
       "      <td>0.8596</td>\n",
       "    </tr>\n",
       "    <tr>\n",
       "      <th>4</th>\n",
       "      <td>8</td>\n",
       "      <td>0.8311</td>\n",
       "    </tr>\n",
       "  </tbody>\n",
       "</table>\n",
       "</div>"
      ],
      "text/plain": [
       "   m  val_accuracy\n",
       "0  8        0.7432\n",
       "1  8        0.7436\n",
       "2  8        0.7803\n",
       "3  8        0.8596\n",
       "4  8        0.8311"
      ]
     },
     "execution_count": 21,
     "metadata": {
      "tags": []
     },
     "output_type": "execute_result"
    }
   ],
   "source": [
    "val_acc = m_history.history['val_accuracy']\n",
    "\n",
    "df_m = pd.DataFrame(data={'m': m, 'val_accuracy': val_acc})\n",
    "df_m.head()"
   ]
  },
  {
   "cell_type": "code",
   "execution_count": 22,
   "metadata": {
    "colab": {
     "base_uri": "https://localhost:8080/",
     "height": 204
    },
    "id": "IGMSR9M69lyM",
    "outputId": "946d29fd-79bf-49dc-d177-b063e56082d6"
   },
   "outputs": [
    {
     "data": {
      "text/html": [
       "<div>\n",
       "<style scoped>\n",
       "    .dataframe tbody tr th:only-of-type {\n",
       "        vertical-align: middle;\n",
       "    }\n",
       "\n",
       "    .dataframe tbody tr th {\n",
       "        vertical-align: top;\n",
       "    }\n",
       "\n",
       "    .dataframe thead th {\n",
       "        text-align: right;\n",
       "    }\n",
       "</style>\n",
       "<table border=\"1\" class=\"dataframe\">\n",
       "  <thead>\n",
       "    <tr style=\"text-align: right;\">\n",
       "      <th></th>\n",
       "      <th>m</th>\n",
       "      <th>val_accuracy</th>\n",
       "      <th>val_error</th>\n",
       "    </tr>\n",
       "  </thead>\n",
       "  <tbody>\n",
       "    <tr>\n",
       "      <th>0</th>\n",
       "      <td>8</td>\n",
       "      <td>0.7432</td>\n",
       "      <td>0.2568</td>\n",
       "    </tr>\n",
       "    <tr>\n",
       "      <th>1</th>\n",
       "      <td>8</td>\n",
       "      <td>0.7436</td>\n",
       "      <td>0.2564</td>\n",
       "    </tr>\n",
       "    <tr>\n",
       "      <th>2</th>\n",
       "      <td>8</td>\n",
       "      <td>0.7803</td>\n",
       "      <td>0.2197</td>\n",
       "    </tr>\n",
       "    <tr>\n",
       "      <th>3</th>\n",
       "      <td>8</td>\n",
       "      <td>0.8596</td>\n",
       "      <td>0.1404</td>\n",
       "    </tr>\n",
       "    <tr>\n",
       "      <th>4</th>\n",
       "      <td>8</td>\n",
       "      <td>0.8311</td>\n",
       "      <td>0.1689</td>\n",
       "    </tr>\n",
       "  </tbody>\n",
       "</table>\n",
       "</div>"
      ],
      "text/plain": [
       "   m  val_accuracy  val_error\n",
       "0  8        0.7432     0.2568\n",
       "1  8        0.7436     0.2564\n",
       "2  8        0.7803     0.2197\n",
       "3  8        0.8596     0.1404\n",
       "4  8        0.8311     0.1689"
      ]
     },
     "execution_count": 22,
     "metadata": {
      "tags": []
     },
     "output_type": "execute_result"
    }
   ],
   "source": [
    "df_m['val_error'] = 1 - df_m['val_accuracy']\n",
    "df_m.head()"
   ]
  },
  {
   "cell_type": "code",
   "execution_count": 23,
   "metadata": {
    "colab": {
     "base_uri": "https://localhost:8080/"
    },
    "id": "3k8nWpJM-CE3",
    "outputId": "3c839d61-afd4-4cc8-defb-7abbb9fdf401"
   },
   "outputs": [
    {
     "data": {
      "text/plain": [
       "10291.343039751053"
      ]
     },
     "execution_count": 23,
     "metadata": {
      "tags": []
     },
     "output_type": "execute_result"
    }
   ],
   "source": [
    "m_time"
   ]
  },
  {
   "cell_type": "code",
   "execution_count": 24,
   "metadata": {
    "id": "zyR9qbZL-LGt"
   },
   "outputs": [],
   "source": [
    "df_m.to_csv(f'/content/gdrive/My Drive/COMS 6998/df{m}.csv', index=False)"
   ]
  },
  {
   "cell_type": "markdown",
   "metadata": {
    "id": "R3cHQRyDYTbH"
   },
   "source": [
    "Pulling saved files and plotting."
   ]
  },
  {
   "cell_type": "code",
   "execution_count": 4,
   "metadata": {
    "colab": {
     "base_uri": "https://localhost:8080/"
    },
    "id": "tvTNAkY6YS0d",
    "outputId": "d9be24af-1b5d-4533-d161-fa780d827732"
   },
   "outputs": [
    {
     "data": {
      "text/plain": [
       "(236, 3)"
      ]
     },
     "execution_count": 4,
     "metadata": {
      "tags": []
     },
     "output_type": "execute_result"
    }
   ],
   "source": [
    "dfm2 = pd.read_csv('/content/gdrive/My Drive/COMS 6998/df2.csv')\n",
    "dfm4 = pd.read_csv('/content/gdrive/My Drive/COMS 6998/df4.csv')\n",
    "dfm8 = pd.read_csv('/content/gdrive/My Drive/COMS 6998/df8.csv')\n",
    "\n",
    "dfm = pd.concat([dfm2, dfm4, dfm8], ignore_index=True)\n",
    "dfm.shape"
   ]
  },
  {
   "cell_type": "code",
   "execution_count": 8,
   "metadata": {
    "colab": {
     "base_uri": "https://localhost:8080/",
     "height": 204
    },
    "id": "QqOcy_8UZAfz",
    "outputId": "a8c667e2-a9a6-41c4-fca1-53d78346af19"
   },
   "outputs": [
    {
     "data": {
      "text/html": [
       "<div>\n",
       "<style scoped>\n",
       "    .dataframe tbody tr th:only-of-type {\n",
       "        vertical-align: middle;\n",
       "    }\n",
       "\n",
       "    .dataframe tbody tr th {\n",
       "        vertical-align: top;\n",
       "    }\n",
       "\n",
       "    .dataframe thead th {\n",
       "        text-align: right;\n",
       "    }\n",
       "</style>\n",
       "<table border=\"1\" class=\"dataframe\">\n",
       "  <thead>\n",
       "    <tr style=\"text-align: right;\">\n",
       "      <th></th>\n",
       "      <th>m</th>\n",
       "      <th>val_accuracy</th>\n",
       "      <th>val_error</th>\n",
       "      <th>epoch</th>\n",
       "    </tr>\n",
       "  </thead>\n",
       "  <tbody>\n",
       "    <tr>\n",
       "      <th>0</th>\n",
       "      <td>2</td>\n",
       "      <td>0.4884</td>\n",
       "      <td>0.5116</td>\n",
       "      <td>0</td>\n",
       "    </tr>\n",
       "    <tr>\n",
       "      <th>1</th>\n",
       "      <td>2</td>\n",
       "      <td>0.6893</td>\n",
       "      <td>0.3107</td>\n",
       "      <td>1</td>\n",
       "    </tr>\n",
       "    <tr>\n",
       "      <th>2</th>\n",
       "      <td>2</td>\n",
       "      <td>0.6408</td>\n",
       "      <td>0.3592</td>\n",
       "      <td>2</td>\n",
       "    </tr>\n",
       "    <tr>\n",
       "      <th>3</th>\n",
       "      <td>2</td>\n",
       "      <td>0.6936</td>\n",
       "      <td>0.3064</td>\n",
       "      <td>3</td>\n",
       "    </tr>\n",
       "    <tr>\n",
       "      <th>4</th>\n",
       "      <td>2</td>\n",
       "      <td>0.6094</td>\n",
       "      <td>0.3906</td>\n",
       "      <td>4</td>\n",
       "    </tr>\n",
       "  </tbody>\n",
       "</table>\n",
       "</div>"
      ],
      "text/plain": [
       "   m  val_accuracy  val_error  epoch\n",
       "0  2        0.4884     0.5116      0\n",
       "1  2        0.6893     0.3107      1\n",
       "2  2        0.6408     0.3592      2\n",
       "3  2        0.6936     0.3064      3\n",
       "4  2        0.6094     0.3906      4"
      ]
     },
     "execution_count": 8,
     "metadata": {
      "tags": []
     },
     "output_type": "execute_result"
    }
   ],
   "source": [
    "# add epoch for each m\n",
    "dfm['epoch'] = dfm.groupby(by=['m']).cumcount()\n",
    "dfm.head()"
   ]
  },
  {
   "cell_type": "code",
   "execution_count": 9,
   "metadata": {
    "colab": {
     "base_uri": "https://localhost:8080/",
     "height": 204
    },
    "id": "qdIftKHbZRJb",
    "outputId": "388cfa70-3461-41af-d368-a0873dee335c"
   },
   "outputs": [
    {
     "data": {
      "text/html": [
       "<div>\n",
       "<style scoped>\n",
       "    .dataframe tbody tr th:only-of-type {\n",
       "        vertical-align: middle;\n",
       "    }\n",
       "\n",
       "    .dataframe tbody tr th {\n",
       "        vertical-align: top;\n",
       "    }\n",
       "\n",
       "    .dataframe thead th {\n",
       "        text-align: right;\n",
       "    }\n",
       "</style>\n",
       "<table border=\"1\" class=\"dataframe\">\n",
       "  <thead>\n",
       "    <tr style=\"text-align: right;\">\n",
       "      <th></th>\n",
       "      <th>m</th>\n",
       "      <th>val_accuracy</th>\n",
       "      <th>val_error</th>\n",
       "      <th>epoch</th>\n",
       "    </tr>\n",
       "  </thead>\n",
       "  <tbody>\n",
       "    <tr>\n",
       "      <th>0</th>\n",
       "      <td>2</td>\n",
       "      <td>0.4884</td>\n",
       "      <td>0.5116</td>\n",
       "      <td>1</td>\n",
       "    </tr>\n",
       "    <tr>\n",
       "      <th>1</th>\n",
       "      <td>2</td>\n",
       "      <td>0.6893</td>\n",
       "      <td>0.3107</td>\n",
       "      <td>2</td>\n",
       "    </tr>\n",
       "    <tr>\n",
       "      <th>2</th>\n",
       "      <td>2</td>\n",
       "      <td>0.6408</td>\n",
       "      <td>0.3592</td>\n",
       "      <td>3</td>\n",
       "    </tr>\n",
       "    <tr>\n",
       "      <th>3</th>\n",
       "      <td>2</td>\n",
       "      <td>0.6936</td>\n",
       "      <td>0.3064</td>\n",
       "      <td>4</td>\n",
       "    </tr>\n",
       "    <tr>\n",
       "      <th>4</th>\n",
       "      <td>2</td>\n",
       "      <td>0.6094</td>\n",
       "      <td>0.3906</td>\n",
       "      <td>5</td>\n",
       "    </tr>\n",
       "  </tbody>\n",
       "</table>\n",
       "</div>"
      ],
      "text/plain": [
       "   m  val_accuracy  val_error  epoch\n",
       "0  2        0.4884     0.5116      1\n",
       "1  2        0.6893     0.3107      2\n",
       "2  2        0.6408     0.3592      3\n",
       "3  2        0.6936     0.3064      4\n",
       "4  2        0.6094     0.3906      5"
      ]
     },
     "execution_count": 9,
     "metadata": {
      "tags": []
     },
     "output_type": "execute_result"
    }
   ],
   "source": [
    "dfm['epoch'] = dfm['epoch'] + 1\n",
    "dfm.head()"
   ]
  },
  {
   "cell_type": "code",
   "execution_count": 14,
   "metadata": {
    "id": "4OHfv2o_ZoFv"
   },
   "outputs": [],
   "source": [
    "dfm['m'] = dfm['m'].astype(str)"
   ]
  },
  {
   "cell_type": "code",
   "execution_count": 15,
   "metadata": {
    "id": "dJ7yV20KZd-I"
   },
   "outputs": [],
   "source": [
    "import matplotlib.pyplot as plt"
   ]
  },
  {
   "cell_type": "code",
   "execution_count": 17,
   "metadata": {
    "colab": {
     "base_uri": "https://localhost:8080/",
     "height": 427
    },
    "id": "bu8Qfw1wYyQn",
    "outputId": "f92cb55e-38db-4962-dbfa-7e81a4a654ec"
   },
   "outputs": [
    {
     "data": {
      "text/plain": [
       "Text(0.5, 1.0, 'ResNet 44 CIFAR-10 Validation Error by Various Numbers of Cutout')"
      ]
     },
     "execution_count": 17,
     "metadata": {
      "tags": []
     },
     "output_type": "execute_result"
    },
    {
     "data": {
      "image/png": "[encoded data removed]",
      "text/plain": [
       "<Figure size 648x432 with 1 Axes>"
      ]
     },
     "metadata": {
      "tags": []
     },
     "output_type": "display_data"
    }
   ],
   "source": [
    "fig, ax = plt.subplots(figsize=(9, 6))\n",
    "sns.lineplot(x='epoch', y='val_error', hue='m', data=dfm)\n",
    "ax.set_xlabel('Epoch')\n",
    "ax.set_ylabel('Validation Error')\n",
    "ax.set_title('ResNet 44 CIFAR-10 Validation Error by Various Numbers of Cutout')"
   ]
  },
  {
   "cell_type": "markdown",
   "metadata": {
    "id": "GGGqDzw_xzJI"
   },
   "source": [
    "The training time associated with various values of `m` are below:\n",
    "\n",
    "| m | training time (sec) | epochs | time/epoch (sec) |\n",
    "|---|---------------------|--------|------------------|\n",
    "| 2 | 7496 | 100 | ~75 |\n",
    "| 4 | 13861 | 100 | ~139 |\n",
    "| 8 | 10291 | 36 | ~286 |\n",
    "\n",
    "From the plot above, you can see that as `m` increases, the speed at which the model converges to the optimal accuracy decreases. Note: I trained each model with `EarlyStopping(patience=20)` and `m=8` stopped early.\n",
    "\n",
    "### Problem 5: *Universal Approximators: Depth vs Width (30 points)*\n",
    "\n",
    "#### Q1 (20 points)\n",
    "\n",
    "Importing the necessary packages for this problem."
   ]
  },
  {
   "cell_type": "code",
   "execution_count": null,
   "metadata": {
    "id": "RiagbI5a2UZn"
   },
   "outputs": [],
   "source": [
    "import numpy as np\n",
    "from itertools import product\n",
    "import matplotlib.pyplot as plt\n",
    "import pandas as pd\n",
    "import seaborn as sns\n",
    "from sklearn.model_selection import train_test_split\n",
    "import tensorflow as tf\n",
    "from tensorflow import keras\n",
    "from tensorflow.keras import layers, Model\n",
    "from time import time\n",
    "from tqdm import tqdm\n",
    "\n",
    "sns.set_theme(style=\"darkgrid\")"
   ]
  },
  {
   "cell_type": "markdown",
   "metadata": {
    "id": "z13tppMg0pAM"
   },
   "source": [
    "Generate all possible combinations of network depths and unit combinations to evaluate on."
   ]
  },
  {
   "cell_type": "code",
   "execution_count": null,
   "metadata": {
    "colab": {
     "base_uri": "https://localhost:8080/",
     "height": 34
    },
    "id": "82oRPb5k2awO",
    "outputId": "da478668-02e0-4775-ccd4-d92db5e0fe49"
   },
   "outputs": [
    {
     "name": "stdout",
     "output_type": "stream",
     "text": [
      "Number of unit combinations to test: 143\n"
     ]
    }
   ],
   "source": [
    "HIDDEN_UNITS = [2**n for n in range(4, 10)]\n",
    "MAX_NUM_LAYERS = 3\n",
    "\n",
    "UNITS = [list(c)\n",
    "         for i in range(1, MAX_NUM_LAYERS + 1)\n",
    "         for c in product(HIDDEN_UNITS, repeat=i) \n",
    "         if sum(c) <= max(HIDDEN_UNITS)]\n",
    "\n",
    "print(f\"Number of unit combinations to test: {len(UNITS)}\")"
   ]
  },
  {
   "cell_type": "markdown",
   "metadata": {
    "id": "CXJ-RASW0vC4"
   },
   "source": [
    "Define the `eggholder` and `y` functions."
   ]
  },
  {
   "cell_type": "code",
   "execution_count": null,
   "metadata": {
    "id": "Qm86J7zW2j6h"
   },
   "outputs": [],
   "source": [
    "def eggholder(x1, x2):\n",
    "  left = - 1 * (x2 + 47) * np.sin(np.sqrt(np.abs((x1 / 2) + (x2 + 47))))\n",
    "  right = x1 * np.sin(np.sqrt(np.abs(x1 - (x2 + 47))))\n",
    "  return  left - right\n",
    "\n",
    "def y(X):\n",
    "  x1 = X[:, 0]\n",
    "  x2 = X[:, 1]\n",
    "  return eggholder(x1, x2) + np.random.normal(scale=0.3, size = x1.shape)"
   ]
  },
  {
   "cell_type": "markdown",
   "metadata": {
    "id": "e4DsCz4v02NU"
   },
   "source": [
    "Randomly generate the input data `X`, pass through the objective function `y`, and perform the train-test split."
   ]
  },
  {
   "cell_type": "code",
   "execution_count": null,
   "metadata": {
    "id": "JpTdujNu5KsI"
   },
   "outputs": [],
   "source": [
    "LOW = -512\n",
    "HIGH = -1 * LOW\n",
    "N = 100000\n",
    "TEST_SPLIT = 0.2\n",
    "\n",
    "X = np.random.randint(low=LOW, high=HIGH+1, size=(N, 2))\n",
    "y = y(X)\n",
    "X_train, X_test, y_train, y_test = train_test_split(X, y, test_size = TEST_SPLIT)"
   ]
  },
  {
   "cell_type": "markdown",
   "metadata": {
    "id": "V2RsurAH08y8"
   },
   "source": [
    "Create a function to dynamically build the model given a list of units."
   ]
  },
  {
   "cell_type": "code",
   "execution_count": null,
   "metadata": {
    "id": "JYdTgF5d8sYN"
   },
   "outputs": [],
   "source": [
    "def build_model(units, model_enum):\n",
    "  \n",
    "  # build\n",
    "  input = layers.Input(shape=(2, ), dtype='float32', name=f'input_{model_enum}')\n",
    "  for i in range(len(units)):\n",
    "    if i == 0:\n",
    "      x = layers.Dense(units[i],\n",
    "                       activation='relu',\n",
    "                       name=f'dense_{model_enum}_{i}')(input)\n",
    "    else:\n",
    "      x = layers.BatchNormalization(name=f'norm_{model_enum}_{i}')(x)\n",
    "      x = layers.Dense(units[i], activation='relu', name=f'dense_{model_enum}_{i}')(x)\n",
    "  output = layers.Dense(1, name=f'output_{model_enum}')(x)\n",
    "\n",
    "  # compile\n",
    "  model = Model(inputs=input, outputs=output, name=f'model_{model_enum}')\n",
    "  opt = keras.optimizers.Nadam(name=f'nadam_{model_enum}')\n",
    "  model.compile(loss='mse',\n",
    "                optimizer=opt,\n",
    "                metrics=[tf.keras.metrics.RootMeanSquaredError(f'rmse')])\n",
    "\n",
    "  # return\n",
    "  return model"
   ]
  },
  {
   "cell_type": "markdown",
   "metadata": {
    "id": "9Xj_Rhfa1CgV"
   },
   "source": [
    "Loop through each combination of units, train, and store metrics."
   ]
  },
  {
   "cell_type": "code",
   "execution_count": null,
   "metadata": {
    "colab": {
     "base_uri": "https://localhost:8080/",
     "height": 1000
    },
    "id": "7JEFkqGZRb_x",
    "outputId": "6865b80d-9ad9-42e3-b86f-414d95673e34"
   },
   "outputs": [
    {
     "name": "stdout",
     "output_type": "stream",
     "text": [
      "1/143: [16] ...\n",
      "2/143: [32] ...\n",
      "3/143: [64] ...\n",
      "4/143: [128] ...\n",
      "5/143: [256] ...\n",
      "6/143: [512] ...\n",
      "7/143: [16, 16] ...\n",
      "8/143: [16, 32] ...\n",
      "9/143: [16, 64] ...\n",
      "10/143: [16, 128] ...\n",
      "11/143: [16, 256] ...\n",
      "12/143: [32, 16] ...\n",
      "13/143: [32, 32] ...\n",
      "14/143: [32, 64] ...\n",
      "15/143: [32, 128] ...\n",
      "16/143: [32, 256] ...\n",
      "17/143: [64, 16] ...\n",
      "18/143: [64, 32] ...\n",
      "19/143: [64, 64] ...\n",
      "20/143: [64, 128] ...\n",
      "21/143: [64, 256] ...\n",
      "22/143: [128, 16] ...\n",
      "23/143: [128, 32] ...\n",
      "24/143: [128, 64] ...\n",
      "25/143: [128, 128] ...\n",
      "26/143: [128, 256] ...\n",
      "27/143: [256, 16] ...\n",
      "28/143: [256, 32] ...\n",
      "29/143: [256, 64] ...\n",
      "30/143: [256, 128] ...\n",
      "31/143: [256, 256] ...\n",
      "32/143: [16, 16, 16] ...\n",
      "33/143: [16, 16, 32] ...\n",
      "34/143: [16, 16, 64] ...\n",
      "35/143: [16, 16, 128] ...\n",
      "36/143: [16, 16, 256] ...\n",
      "37/143: [16, 32, 16] ...\n",
      "38/143: [16, 32, 32] ...\n",
      "39/143: [16, 32, 64] ...\n",
      "40/143: [16, 32, 128] ...\n",
      "41/143: [16, 32, 256] ...\n",
      "42/143: [16, 64, 16] ...\n",
      "43/143: [16, 64, 32] ...\n",
      "44/143: [16, 64, 64] ...\n",
      "45/143: [16, 64, 128] ...\n",
      "46/143: [16, 64, 256] ...\n",
      "47/143: [16, 128, 16] ...\n",
      "48/143: [16, 128, 32] ...\n",
      "49/143: [16, 128, 64] ...\n",
      "50/143: [16, 128, 128] ...\n",
      "51/143: [16, 128, 256] ...\n",
      "52/143: [16, 256, 16] ...\n",
      "53/143: [16, 256, 32] ...\n",
      "54/143: [16, 256, 64] ...\n",
      "55/143: [16, 256, 128] ...\n",
      "56/143: [32, 16, 16] ...\n",
      "57/143: [32, 16, 32] ...\n",
      "58/143: [32, 16, 64] ...\n",
      "59/143: [32, 16, 128] ...\n",
      "60/143: [32, 16, 256] ...\n",
      "61/143: [32, 32, 16] ...\n",
      "62/143: [32, 32, 32] ...\n",
      "63/143: [32, 32, 64] ...\n",
      "64/143: [32, 32, 128] ...\n",
      "65/143: [32, 32, 256] ...\n",
      "66/143: [32, 64, 16] ...\n",
      "67/143: [32, 64, 32] ...\n",
      "68/143: [32, 64, 64] ...\n",
      "69/143: [32, 64, 128] ...\n",
      "70/143: [32, 64, 256] ...\n",
      "71/143: [32, 128, 16] ...\n",
      "72/143: [32, 128, 32] ...\n",
      "73/143: [32, 128, 64] ...\n",
      "74/143: [32, 128, 128] ...\n",
      "75/143: [32, 128, 256] ...\n",
      "76/143: [32, 256, 16] ...\n",
      "77/143: [32, 256, 32] ...\n",
      "78/143: [32, 256, 64] ...\n",
      "79/143: [32, 256, 128] ...\n",
      "80/143: [64, 16, 16] ...\n",
      "81/143: [64, 16, 32] ...\n",
      "82/143: [64, 16, 64] ...\n",
      "83/143: [64, 16, 128] ...\n",
      "84/143: [64, 16, 256] ...\n",
      "85/143: [64, 32, 16] ...\n",
      "86/143: [64, 32, 32] ...\n",
      "87/143: [64, 32, 64] ...\n",
      "88/143: [64, 32, 128] ...\n",
      "89/143: [64, 32, 256] ...\n",
      "90/143: [64, 64, 16] ...\n",
      "91/143: [64, 64, 32] ...\n",
      "92/143: [64, 64, 64] ...\n",
      "93/143: [64, 64, 128] ...\n",
      "94/143: [64, 64, 256] ...\n",
      "95/143: [64, 128, 16] ...\n",
      "96/143: [64, 128, 32] ...\n",
      "97/143: [64, 128, 64] ...\n",
      "98/143: [64, 128, 128] ...\n",
      "99/143: [64, 128, 256] ...\n",
      "100/143: [64, 256, 16] ...\n",
      "101/143: [64, 256, 32] ...\n",
      "102/143: [64, 256, 64] ...\n",
      "103/143: [64, 256, 128] ...\n",
      "104/143: [128, 16, 16] ...\n",
      "105/143: [128, 16, 32] ...\n",
      "106/143: [128, 16, 64] ...\n",
      "107/143: [128, 16, 128] ...\n",
      "108/143: [128, 16, 256] ...\n",
      "109/143: [128, 32, 16] ...\n",
      "110/143: [128, 32, 32] ...\n",
      "111/143: [128, 32, 64] ...\n",
      "112/143: [128, 32, 128] ...\n",
      "113/143: [128, 32, 256] ...\n",
      "114/143: [128, 64, 16] ...\n",
      "115/143: [128, 64, 32] ...\n",
      "116/143: [128, 64, 64] ...\n",
      "117/143: [128, 64, 128] ...\n",
      "118/143: [128, 64, 256] ...\n",
      "119/143: [128, 128, 16] ...\n",
      "120/143: [128, 128, 32] ...\n",
      "121/143: [128, 128, 64] ...\n",
      "122/143: [128, 128, 128] ...\n",
      "123/143: [128, 128, 256] ...\n",
      "124/143: [128, 256, 16] ...\n",
      "125/143: [128, 256, 32] ...\n",
      "126/143: [128, 256, 64] ...\n",
      "127/143: [128, 256, 128] ...\n",
      "128/143: [256, 16, 16] ...\n",
      "129/143: [256, 16, 32] ...\n",
      "130/143: [256, 16, 64] ...\n",
      "131/143: [256, 16, 128] ...\n",
      "132/143: [256, 32, 16] ...\n",
      "133/143: [256, 32, 32] ...\n",
      "134/143: [256, 32, 64] ...\n",
      "135/143: [256, 32, 128] ...\n",
      "136/143: [256, 64, 16] ...\n",
      "137/143: [256, 64, 32] ...\n",
      "138/143: [256, 64, 64] ...\n",
      "139/143: [256, 64, 128] ...\n",
      "140/143: [256, 128, 16] ...\n",
      "141/143: [256, 128, 32] ...\n",
      "142/143: [256, 128, 64] ...\n",
      "143/143: [256, 128, 128] ...\n"
     ]
    }
   ],
   "source": [
    "DATA = []\n",
    "for i, units in enumerate(UNITS):\n",
    "  print(f'{i+1}/{len(UNITS)}: {units} ...')\n",
    "  model = build_model(units, i)\n",
    "  t1 = time()\n",
    "  history = model.fit(X_train, y_train,\n",
    "                      batch_size=1000,\n",
    "                      epochs=2000,\n",
    "                      validation_data=(X_test, y_test),\n",
    "                      verbose=0,\n",
    "                      callbacks=[tf.keras.callbacks.EarlyStopping(monitor='val_rmse',\n",
    "                                                                  patience=20,\n",
    "                                                                  restore_best_weights=True)])\n",
    "  t2 = time()\n",
    "  DATA.append({\n",
    "      'units': units,\n",
    "      'total_units': sum(units),\n",
    "      'num_layers': len(units),\n",
    "      'num_params': model.count_params(),\n",
    "      'training_time': t2 - t1,\n",
    "      'val_rmse': min(history.history.get('val_rmse'))\n",
    "  })"
   ]
  },
  {
   "cell_type": "markdown",
   "metadata": {
    "id": "FBJXSQaf1ISb"
   },
   "source": [
    "Convert metrics to data frame and generate plots."
   ]
  },
  {
   "cell_type": "code",
   "execution_count": null,
   "metadata": {
    "colab": {
     "base_uri": "https://localhost:8080/",
     "height": 669
    },
    "id": "WWivKwFzF6v5",
    "outputId": "f44b5f5e-dfc4-4761-904f-2f92d88c714d"
   },
   "outputs": [
    {
     "data": {
      "text/html": [
       "<div>\n",
       "<style scoped>\n",
       "    .dataframe tbody tr th:only-of-type {\n",
       "        vertical-align: middle;\n",
       "    }\n",
       "\n",
       "    .dataframe tbody tr th {\n",
       "        vertical-align: top;\n",
       "    }\n",
       "\n",
       "    .dataframe thead th {\n",
       "        text-align: right;\n",
       "    }\n",
       "</style>\n",
       "<table border=\"1\" class=\"dataframe\">\n",
       "  <thead>\n",
       "    <tr style=\"text-align: right;\">\n",
       "      <th></th>\n",
       "      <th>units</th>\n",
       "      <th>total_units</th>\n",
       "      <th>num_layers</th>\n",
       "      <th>num_params</th>\n",
       "      <th>training_time</th>\n",
       "      <th>val_rmse</th>\n",
       "    </tr>\n",
       "  </thead>\n",
       "  <tbody>\n",
       "    <tr>\n",
       "      <th>0</th>\n",
       "      <td>[16]</td>\n",
       "      <td>16</td>\n",
       "      <td>1</td>\n",
       "      <td>65</td>\n",
       "      <td>103.268659</td>\n",
       "      <td>294.535004</td>\n",
       "    </tr>\n",
       "    <tr>\n",
       "      <th>1</th>\n",
       "      <td>[32]</td>\n",
       "      <td>32</td>\n",
       "      <td>1</td>\n",
       "      <td>129</td>\n",
       "      <td>167.009094</td>\n",
       "      <td>286.857635</td>\n",
       "    </tr>\n",
       "    <tr>\n",
       "      <th>2</th>\n",
       "      <td>[64]</td>\n",
       "      <td>64</td>\n",
       "      <td>1</td>\n",
       "      <td>257</td>\n",
       "      <td>91.885740</td>\n",
       "      <td>288.383728</td>\n",
       "    </tr>\n",
       "    <tr>\n",
       "      <th>3</th>\n",
       "      <td>[128]</td>\n",
       "      <td>128</td>\n",
       "      <td>1</td>\n",
       "      <td>513</td>\n",
       "      <td>201.973639</td>\n",
       "      <td>280.637390</td>\n",
       "    </tr>\n",
       "    <tr>\n",
       "      <th>4</th>\n",
       "      <td>[256]</td>\n",
       "      <td>256</td>\n",
       "      <td>1</td>\n",
       "      <td>1025</td>\n",
       "      <td>97.096044</td>\n",
       "      <td>283.629059</td>\n",
       "    </tr>\n",
       "    <tr>\n",
       "      <th>5</th>\n",
       "      <td>[512]</td>\n",
       "      <td>512</td>\n",
       "      <td>1</td>\n",
       "      <td>2049</td>\n",
       "      <td>49.887353</td>\n",
       "      <td>287.169952</td>\n",
       "    </tr>\n",
       "    <tr>\n",
       "      <th>6</th>\n",
       "      <td>[16, 16]</td>\n",
       "      <td>32</td>\n",
       "      <td>2</td>\n",
       "      <td>401</td>\n",
       "      <td>133.961195</td>\n",
       "      <td>196.519699</td>\n",
       "    </tr>\n",
       "    <tr>\n",
       "      <th>7</th>\n",
       "      <td>[16, 32]</td>\n",
       "      <td>48</td>\n",
       "      <td>2</td>\n",
       "      <td>689</td>\n",
       "      <td>185.208984</td>\n",
       "      <td>162.904724</td>\n",
       "    </tr>\n",
       "    <tr>\n",
       "      <th>8</th>\n",
       "      <td>[16, 64]</td>\n",
       "      <td>80</td>\n",
       "      <td>2</td>\n",
       "      <td>1265</td>\n",
       "      <td>93.145822</td>\n",
       "      <td>179.190598</td>\n",
       "    </tr>\n",
       "    <tr>\n",
       "      <th>9</th>\n",
       "      <td>[16, 128]</td>\n",
       "      <td>144</td>\n",
       "      <td>2</td>\n",
       "      <td>2417</td>\n",
       "      <td>215.616152</td>\n",
       "      <td>149.791107</td>\n",
       "    </tr>\n",
       "    <tr>\n",
       "      <th>10</th>\n",
       "      <td>[16, 256]</td>\n",
       "      <td>272</td>\n",
       "      <td>2</td>\n",
       "      <td>4721</td>\n",
       "      <td>138.178831</td>\n",
       "      <td>140.212112</td>\n",
       "    </tr>\n",
       "    <tr>\n",
       "      <th>11</th>\n",
       "      <td>[32, 16]</td>\n",
       "      <td>48</td>\n",
       "      <td>2</td>\n",
       "      <td>769</td>\n",
       "      <td>76.988253</td>\n",
       "      <td>213.370163</td>\n",
       "    </tr>\n",
       "    <tr>\n",
       "      <th>12</th>\n",
       "      <td>[32, 32]</td>\n",
       "      <td>64</td>\n",
       "      <td>2</td>\n",
       "      <td>1313</td>\n",
       "      <td>104.727805</td>\n",
       "      <td>183.775284</td>\n",
       "    </tr>\n",
       "    <tr>\n",
       "      <th>13</th>\n",
       "      <td>[32, 64]</td>\n",
       "      <td>96</td>\n",
       "      <td>2</td>\n",
       "      <td>2401</td>\n",
       "      <td>82.812294</td>\n",
       "      <td>162.609573</td>\n",
       "    </tr>\n",
       "    <tr>\n",
       "      <th>14</th>\n",
       "      <td>[32, 128]</td>\n",
       "      <td>160</td>\n",
       "      <td>2</td>\n",
       "      <td>4577</td>\n",
       "      <td>132.551145</td>\n",
       "      <td>130.526886</td>\n",
       "    </tr>\n",
       "    <tr>\n",
       "      <th>15</th>\n",
       "      <td>[32, 256]</td>\n",
       "      <td>288</td>\n",
       "      <td>2</td>\n",
       "      <td>8929</td>\n",
       "      <td>201.226646</td>\n",
       "      <td>111.449539</td>\n",
       "    </tr>\n",
       "    <tr>\n",
       "      <th>16</th>\n",
       "      <td>[64, 16]</td>\n",
       "      <td>80</td>\n",
       "      <td>2</td>\n",
       "      <td>1505</td>\n",
       "      <td>80.537540</td>\n",
       "      <td>190.546463</td>\n",
       "    </tr>\n",
       "    <tr>\n",
       "      <th>17</th>\n",
       "      <td>[64, 32]</td>\n",
       "      <td>96</td>\n",
       "      <td>2</td>\n",
       "      <td>2561</td>\n",
       "      <td>68.448728</td>\n",
       "      <td>161.412048</td>\n",
       "    </tr>\n",
       "    <tr>\n",
       "      <th>18</th>\n",
       "      <td>[64, 64]</td>\n",
       "      <td>128</td>\n",
       "      <td>2</td>\n",
       "      <td>4673</td>\n",
       "      <td>90.081338</td>\n",
       "      <td>146.507324</td>\n",
       "    </tr>\n",
       "    <tr>\n",
       "      <th>19</th>\n",
       "      <td>[64, 128]</td>\n",
       "      <td>192</td>\n",
       "      <td>2</td>\n",
       "      <td>8897</td>\n",
       "      <td>88.286884</td>\n",
       "      <td>146.440613</td>\n",
       "    </tr>\n",
       "  </tbody>\n",
       "</table>\n",
       "</div>"
      ],
      "text/plain": [
       "        units  total_units  num_layers  num_params  training_time    val_rmse\n",
       "0        [16]           16           1          65     103.268659  294.535004\n",
       "1        [32]           32           1         129     167.009094  286.857635\n",
       "2        [64]           64           1         257      91.885740  288.383728\n",
       "3       [128]          128           1         513     201.973639  280.637390\n",
       "4       [256]          256           1        1025      97.096044  283.629059\n",
       "5       [512]          512           1        2049      49.887353  287.169952\n",
       "6    [16, 16]           32           2         401     133.961195  196.519699\n",
       "7    [16, 32]           48           2         689     185.208984  162.904724\n",
       "8    [16, 64]           80           2        1265      93.145822  179.190598\n",
       "9   [16, 128]          144           2        2417     215.616152  149.791107\n",
       "10  [16, 256]          272           2        4721     138.178831  140.212112\n",
       "11   [32, 16]           48           2         769      76.988253  213.370163\n",
       "12   [32, 32]           64           2        1313     104.727805  183.775284\n",
       "13   [32, 64]           96           2        2401      82.812294  162.609573\n",
       "14  [32, 128]          160           2        4577     132.551145  130.526886\n",
       "15  [32, 256]          288           2        8929     201.226646  111.449539\n",
       "16   [64, 16]           80           2        1505      80.537540  190.546463\n",
       "17   [64, 32]           96           2        2561      68.448728  161.412048\n",
       "18   [64, 64]          128           2        4673      90.081338  146.507324\n",
       "19  [64, 128]          192           2        8897      88.286884  146.440613"
      ]
     },
     "execution_count": 9,
     "metadata": {
      "tags": []
     },
     "output_type": "execute_result"
    }
   ],
   "source": [
    "df = pd.DataFrame(data=DATA)\n",
    "df.head(20)"
   ]
  },
  {
   "cell_type": "code",
   "execution_count": null,
   "metadata": {
    "colab": {
     "base_uri": "https://localhost:8080/",
     "height": 669
    },
    "id": "GcXugZz3F9yz",
    "outputId": "2270c9b5-aa4a-4351-9271-98f892769430"
   },
   "outputs": [
    {
     "data": {
      "text/html": [
       "<div>\n",
       "<style scoped>\n",
       "    .dataframe tbody tr th:only-of-type {\n",
       "        vertical-align: middle;\n",
       "    }\n",
       "\n",
       "    .dataframe tbody tr th {\n",
       "        vertical-align: top;\n",
       "    }\n",
       "\n",
       "    .dataframe thead th {\n",
       "        text-align: right;\n",
       "    }\n",
       "</style>\n",
       "<table border=\"1\" class=\"dataframe\">\n",
       "  <thead>\n",
       "    <tr style=\"text-align: right;\">\n",
       "      <th></th>\n",
       "      <th>total_units</th>\n",
       "      <th>num_layers</th>\n",
       "      <th>val_rmse</th>\n",
       "    </tr>\n",
       "  </thead>\n",
       "  <tbody>\n",
       "    <tr>\n",
       "      <th>0</th>\n",
       "      <td>16</td>\n",
       "      <td>1</td>\n",
       "      <td>294.535004</td>\n",
       "    </tr>\n",
       "    <tr>\n",
       "      <th>1</th>\n",
       "      <td>32</td>\n",
       "      <td>1</td>\n",
       "      <td>286.857635</td>\n",
       "    </tr>\n",
       "    <tr>\n",
       "      <th>2</th>\n",
       "      <td>32</td>\n",
       "      <td>2</td>\n",
       "      <td>196.519699</td>\n",
       "    </tr>\n",
       "    <tr>\n",
       "      <th>3</th>\n",
       "      <td>48</td>\n",
       "      <td>2</td>\n",
       "      <td>188.137444</td>\n",
       "    </tr>\n",
       "    <tr>\n",
       "      <th>4</th>\n",
       "      <td>48</td>\n",
       "      <td>3</td>\n",
       "      <td>165.131546</td>\n",
       "    </tr>\n",
       "    <tr>\n",
       "      <th>5</th>\n",
       "      <td>64</td>\n",
       "      <td>1</td>\n",
       "      <td>288.383728</td>\n",
       "    </tr>\n",
       "    <tr>\n",
       "      <th>6</th>\n",
       "      <td>64</td>\n",
       "      <td>2</td>\n",
       "      <td>183.775284</td>\n",
       "    </tr>\n",
       "    <tr>\n",
       "      <th>7</th>\n",
       "      <td>64</td>\n",
       "      <td>3</td>\n",
       "      <td>147.934794</td>\n",
       "    </tr>\n",
       "    <tr>\n",
       "      <th>8</th>\n",
       "      <td>80</td>\n",
       "      <td>2</td>\n",
       "      <td>184.868530</td>\n",
       "    </tr>\n",
       "    <tr>\n",
       "      <th>9</th>\n",
       "      <td>80</td>\n",
       "      <td>3</td>\n",
       "      <td>120.197194</td>\n",
       "    </tr>\n",
       "    <tr>\n",
       "      <th>10</th>\n",
       "      <td>96</td>\n",
       "      <td>2</td>\n",
       "      <td>162.010811</td>\n",
       "    </tr>\n",
       "    <tr>\n",
       "      <th>11</th>\n",
       "      <td>96</td>\n",
       "      <td>3</td>\n",
       "      <td>130.856380</td>\n",
       "    </tr>\n",
       "    <tr>\n",
       "      <th>12</th>\n",
       "      <td>112</td>\n",
       "      <td>3</td>\n",
       "      <td>127.977982</td>\n",
       "    </tr>\n",
       "    <tr>\n",
       "      <th>13</th>\n",
       "      <td>128</td>\n",
       "      <td>1</td>\n",
       "      <td>280.637390</td>\n",
       "    </tr>\n",
       "    <tr>\n",
       "      <th>14</th>\n",
       "      <td>128</td>\n",
       "      <td>2</td>\n",
       "      <td>146.507324</td>\n",
       "    </tr>\n",
       "    <tr>\n",
       "      <th>15</th>\n",
       "      <td>128</td>\n",
       "      <td>3</td>\n",
       "      <td>120.213455</td>\n",
       "    </tr>\n",
       "    <tr>\n",
       "      <th>16</th>\n",
       "      <td>144</td>\n",
       "      <td>2</td>\n",
       "      <td>159.455887</td>\n",
       "    </tr>\n",
       "    <tr>\n",
       "      <th>17</th>\n",
       "      <td>144</td>\n",
       "      <td>3</td>\n",
       "      <td>113.233665</td>\n",
       "    </tr>\n",
       "    <tr>\n",
       "      <th>18</th>\n",
       "      <td>160</td>\n",
       "      <td>2</td>\n",
       "      <td>141.679184</td>\n",
       "    </tr>\n",
       "    <tr>\n",
       "      <th>19</th>\n",
       "      <td>160</td>\n",
       "      <td>3</td>\n",
       "      <td>117.377724</td>\n",
       "    </tr>\n",
       "  </tbody>\n",
       "</table>\n",
       "</div>"
      ],
      "text/plain": [
       "    total_units  num_layers    val_rmse\n",
       "0            16           1  294.535004\n",
       "1            32           1  286.857635\n",
       "2            32           2  196.519699\n",
       "3            48           2  188.137444\n",
       "4            48           3  165.131546\n",
       "5            64           1  288.383728\n",
       "6            64           2  183.775284\n",
       "7            64           3  147.934794\n",
       "8            80           2  184.868530\n",
       "9            80           3  120.197194\n",
       "10           96           2  162.010811\n",
       "11           96           3  130.856380\n",
       "12          112           3  127.977982\n",
       "13          128           1  280.637390\n",
       "14          128           2  146.507324\n",
       "15          128           3  120.213455\n",
       "16          144           2  159.455887\n",
       "17          144           3  113.233665\n",
       "18          160           2  141.679184\n",
       "19          160           3  117.377724"
      ]
     },
     "execution_count": 10,
     "metadata": {
      "tags": []
     },
     "output_type": "execute_result"
    }
   ],
   "source": [
    "# aggregate by number of units and depth\n",
    "df_g = df.groupby(['total_units', 'num_layers'])['val_rmse'].mean()\n",
    "df_g = df_g.reset_index()\n",
    "df_g.head(20)"
   ]
  },
  {
   "cell_type": "code",
   "execution_count": null,
   "metadata": {
    "colab": {
     "base_uri": "https://localhost:8080/",
     "height": 471
    },
    "id": "1E4O-OHNul9C",
    "outputId": "94d617fa-8318-40db-defe-c62b7877ae1f"
   },
   "outputs": [
    {
     "data": {
      "text/plain": [
       "<seaborn.axisgrid.FacetGrid at 0x7f6f5810ef98>"
      ]
     },
     "execution_count": 34,
     "metadata": {
      "tags": []
     },
     "output_type": "execute_result"
    },
    {
     "data": {
      "image/png": "[encoded data removed]",
      "text/plain": [
       "<Figure size 769.75x432 with 1 Axes>"
      ]
     },
     "metadata": {
      "tags": []
     },
     "output_type": "display_data"
    }
   ],
   "source": [
    "# plot validation error metric vs units by depth\n",
    "sns.lmplot(x='total_units',\n",
    "           y='val_rmse',\n",
    "           hue='num_layers',\n",
    "           data=df_g,\n",
    "           legend='full',\n",
    "           palette=['r', 'b', 'g'],\n",
    "           height=6,\n",
    "           aspect=1.6)"
   ]
  },
  {
   "cell_type": "code",
   "execution_count": null,
   "metadata": {
    "colab": {
     "base_uri": "https://localhost:8080/",
     "height": 471
    },
    "id": "x8pn8-ghvjPK",
    "outputId": "ebe0fbe7-6d61-49cb-a609-6b67f3ee2226"
   },
   "outputs": [
    {
     "data": {
      "text/plain": [
       "<seaborn.axisgrid.FacetGrid at 0x7f6f57f62da0>"
      ]
     },
     "execution_count": 32,
     "metadata": {
      "tags": []
     },
     "output_type": "execute_result"
    },
    {
     "data": {
      "image/png": "[encoded data removed]",
      "text/plain": [
       "<Figure size 769.75x432 with 1 Axes>"
      ]
     },
     "metadata": {
      "tags": []
     },
     "output_type": "display_data"
    }
   ],
   "source": [
    "# plot validation error metric vs parameters by depth\n",
    "sns.lmplot(x='num_params',\n",
    "           y='val_rmse',\n",
    "           hue='num_layers',\n",
    "           data=df,\n",
    "           legend='full',\n",
    "           palette=['r', 'b', 'g'],\n",
    "           height=6,\n",
    "           aspect=1.6,\n",
    "           logx=True)"
   ]
  },
  {
   "cell_type": "markdown",
   "metadata": {
    "id": "z1D_9xhAt4bU"
   },
   "source": [
    "#### Q2: (10 points)\n",
    "\n",
    "From the two plots above, we can make the following observations:\n",
    "\n",
    "1. In general, the validation RMSE decreases as more units are introduced into the network. The property holds for networks of hidden layer size 1, 2, and 3.\n",
    "\n",
    "2. In general, the validation RMSE decreases as more parameters are introduced into the network. The property holds for networks of hidden layer size 1, 2, and 3. There is a leveling off in propensity to learn as more parameters are added however, for all of the different layer sized networks, which can be seen in the second figure from Q1. Number of parameters is very similar to the number of units in this sense.\n",
    "\n",
    "3. On the hole, deeper networks possess the ability to achieve better results, as validation RMSE drops in a stepwise manner from networks of depths 1, 2, and 3.\n",
    "\n",
    "A plot of training time versus the number of parameters is below."
   ]
  },
  {
   "cell_type": "code",
   "execution_count": null,
   "metadata": {
    "colab": {
     "base_uri": "https://localhost:8080/",
     "height": 471
    },
    "id": "VYn22zzZwVtc",
    "outputId": "8b0eb552-cc2d-4610-da55-18581ad8d1d9"
   },
   "outputs": [
    {
     "data": {
      "text/plain": [
       "<seaborn.axisgrid.FacetGrid at 0x7f6f5a55a2e8>"
      ]
     },
     "execution_count": 37,
     "metadata": {
      "tags": []
     },
     "output_type": "execute_result"
    },
    {
     "data": {
      "image/png": "[encoded data removed]",
      "text/plain": [
       "<Figure size 769.75x432 with 1 Axes>"
      ]
     },
     "metadata": {
      "tags": []
     },
     "output_type": "display_data"
    }
   ],
   "source": [
    "# plot training time vs parameters by depth\n",
    "sns.lmplot(x='num_params',\n",
    "           y='training_time',\n",
    "           hue='num_layers',\n",
    "           data=df,\n",
    "           legend='full',\n",
    "           palette=['r', 'b', 'g'],\n",
    "           height=6,\n",
    "           aspect=1.6, logx=True)"
   ]
  },
  {
   "cell_type": "markdown",
   "metadata": {
    "id": "d5H8PduwxKRl"
   },
   "source": [
    "From above we can see that there is a s similar relationship in training time versus number of layers as there was for validation RMSE and number of layers.\n",
    "\n",
    "Intuitively, this makes sense. Even though the deeper networks have larger number of parameters, they can learn the objective function and converge much faster than more shallow networks."
   ]
  }
 ],
 "metadata": {
  "accelerator": "GPU",
  "colab": {
   "collapsed_sections": [],
   "name": "ztl2103_coms6998_a3",
   "provenance": []
  },
  "kernelspec": {
   "display_name": "Python 3",
   "language": "python",
   "name": "python3"
  },
  "language_info": {
   "codemirror_mode": {
    "name": "ipython",
    "version": 3
   },
   "file_extension": ".py",
   "mimetype": "text/x-python",
   "name": "python",
   "nbconvert_exporter": "python",
   "pygments_lexer": "ipython3",
   "version": "3.8.1"
  }
 },
 "nbformat": 4,
 "nbformat_minor": 4
}
